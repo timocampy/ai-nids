{
 "cells": [
  {
   "cell_type": "code",
   "execution_count": 65,
   "id": "b5e59fdc-f885-4379-9705-797180acde9a",
   "metadata": {},
   "outputs": [],
   "source": [
    "import numpy as np\n",
    "import pandas as pd\n",
    "from sklearn.model_selection import train_test_split\n",
    "from sklearn.ensemble import RandomForestClassifier\n",
    "from sklearn.metrics import accuracy_score\n",
    "from sklearn.metrics import f1_score\n",
    "\n",
    "seed = 123 # to ensure we always get the same results\n",
    "np.random.seed(seed) # to ensure we always get the same results"
   ]
  },
  {
   "cell_type": "code",
   "execution_count": 66,
   "id": "e953c514",
   "metadata": {},
   "outputs": [],
   "source": [
    "features = ['duration','protocol_type','service','flag','src_bytes','dst_bytes','land','wrong_fragment','urgent','hot','num_failed_logins','logged_in','num_compromised','root_shell','su_attempted',\n",
    "'num_root','num_file_creations','num_shells','num_access_files','num_outbound_cmds',\n",
    "'is_host_login',\n",
    "'is_guest_login',\n",
    "'count',\n",
    "'srv_count',\n",
    "'serror_rate',\n",
    "'srv_serror_rate',\n",
    "'rerror_rate',\n",
    "'srv_rerror_rate',\n",
    "'same_srv_rate',\n",
    "'diff_srv_rate',\n",
    "'srv_diff_host_rate',\n",
    "'dst_host_count',\n",
    "'dst_host_srv_count',\n",
    "'dst_host_same_srv_rate',\n",
    "'dst_host_diff_srv_rate',\n",
    "'dst_host_same_src_port_rate',\n",
    "'dst_host_srv_diff_host_rate',\n",
    "'dst_host_serror_rate',\n",
    "'dst_host_srv_serror_rate',\n",
    "'dst_host_rerror_rate',\n",
    "'dst_host_srv_rerror_rate',\n",
    "'intrusion_type'] #headers for the columns\n",
    "#https://github.com/Saurabh2805/kdd_cup_99/blob/master/KDD_CUP_99_dataset_1.ipynb"
   ]
  },
  {
   "cell_type": "code",
   "execution_count": 67,
   "id": "10a3d803-ccc5-41e0-8594-11a4e5dc32bd",
   "metadata": {},
   "outputs": [
    {
     "name": "stdout",
     "output_type": "stream",
     "text": [
      "Training size: (3918744, 140) (3918744,)\n",
      "Testing size: (979687, 140) (979687,)\n",
      "CPU times: total: 25.2 s\n",
      "Wall time: 26.4 s\n"
     ]
    }
   ],
   "source": [
    "%%time\n",
    "data = pd.read_csv('kddcup.data.corrected', names=features, header = None) #tells data data get header titled with the things in features, tells that the data doesnt have a header row inheritly, otherwise it would replace the first row with the features lines\n",
    "encoded = pd.get_dummies(data, drop_first=True)\n",
    "\n",
    "X = encoded.iloc[:, :-1]  # All rows, all columns except the last\n",
    "y = encoded.iloc[:, -1]   # All rows, last column (labels)\n",
    "\n",
    "X_train, X_test, y_train, y_test = train_test_split(X, y, test_size=0.2, random_state=123) #training 80% testing 20%\n",
    "\n",
    "print(\"Training size:\", X_train.shape, y_train.shape)\n",
    "print(\"Testing size:\", X_test.shape, y_test.shape)\n"
   ]
  },
  {
   "cell_type": "code",
   "execution_count": 74,
   "id": "4ad092bd",
   "metadata": {
    "scrolled": true
   },
   "outputs": [
    {
     "name": "stdout",
     "output_type": "stream",
     "text": [
      "Accuracy: 99.9997%\n",
      "Test Loss: 0.0000\n",
      "CPU times: total: 2min 27s\n",
      "Wall time: 2min 29s\n"
     ]
    }
   ],
   "source": [
    "%%time\n",
    "model = RandomForestClassifier(n_estimators=100, max_depth=5, random_state=123) #estimators is no of trees and depth is their state\n",
    "\n",
    "model.fit(X_train, y_train)\n",
    "y_pred = model.predict(X_test)\n",
    "\n",
    "accuracy = accuracy_score(y_test, y_pred)\n",
    "accuracy_percentage = accuracy * 100\n",
    "test_loss = 1 - accuracy\n",
    "\n",
    "print(f\"Accuracy: {accuracy_percentage:.4f}%\") #accuracy to 4 decimals\n",
    "print(f\"Test Loss: {test_loss:.4f}\")"
   ]
  },
  {
   "cell_type": "code",
   "execution_count": null,
   "id": "8f1de70f-a99b-43a0-904c-b517fac6b7ea",
   "metadata": {},
   "outputs": [],
   "source": []
  }
 ],
 "metadata": {
  "kernelspec": {
   "display_name": "Python 3 (ipykernel)",
   "language": "python",
   "name": "python3"
  },
  "language_info": {
   "codemirror_mode": {
    "name": "ipython",
    "version": 3
   },
   "file_extension": ".py",
   "mimetype": "text/x-python",
   "name": "python",
   "nbconvert_exporter": "python",
   "pygments_lexer": "ipython3",
   "version": "3.12.4"
  }
 },
 "nbformat": 4,
 "nbformat_minor": 5
}
