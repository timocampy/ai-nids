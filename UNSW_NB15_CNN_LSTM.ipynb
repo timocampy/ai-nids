{
 "cells": [
  {
   "cell_type": "markdown",
   "id": "8693c8e4-1b8a-4e43-b287-ece1936c502e",
   "metadata": {},
   "source": [
    "reference = https://www.kaggle.com/code/saideepakdepally/ids-using-cnn-lstm/notebook#Training-the-model "
   ]
  },
  {
   "cell_type": "code",
   "execution_count": 953,
   "id": "bea7a093-60c9-4184-86c1-635a83d81728",
   "metadata": {},
   "outputs": [],
   "source": [
    "import pandas as pd\n",
    "import numpy as np\n",
    "import tensorflow as tf\n",
    "\n",
    "import matplotlib.pyplot as plt\n",
    "\n",
    "from sklearn.model_selection import train_test_split\n",
    "from sklearn.compose import ColumnTransformer\n",
    "from sklearn.preprocessing import OneHotEncoder\n",
    "from sklearn.preprocessing import StandardScaler\n",
    "from sklearn.preprocessing import LabelEncoder"
   ]
  },
  {
   "cell_type": "code",
   "execution_count": 954,
   "id": "ba96d534-8416-4a11-a728-7d6908752d01",
   "metadata": {},
   "outputs": [],
   "source": [
    "dfs = []\n",
    "for i in range(1,3):\n",
    "    path = \"archive/UNSW_NB15_{}.parquet\".format(i)\n",
    "    dfs.append(pd.read_parquet(path))\n",
    "combined_data = pd.concat(dfs).reset_index(drop=True)  # Concat all to a single df"
   ]
  },
  {
   "cell_type": "code",
   "execution_count": 955,
   "id": "2f92d769-a598-4439-aaa2-087cdcf369c3",
   "metadata": {},
   "outputs": [
    {
     "data": {
      "text/html": [
       "<div>\n",
       "<style scoped>\n",
       "    .dataframe tbody tr th:only-of-type {\n",
       "        vertical-align: middle;\n",
       "    }\n",
       "\n",
       "    .dataframe tbody tr th {\n",
       "        vertical-align: top;\n",
       "    }\n",
       "\n",
       "    .dataframe thead th {\n",
       "        text-align: right;\n",
       "    }\n",
       "</style>\n",
       "<table border=\"1\" class=\"dataframe\">\n",
       "  <thead>\n",
       "    <tr style=\"text-align: right;\">\n",
       "      <th></th>\n",
       "      <th>dur</th>\n",
       "      <th>proto</th>\n",
       "      <th>service</th>\n",
       "      <th>state</th>\n",
       "      <th>spkts</th>\n",
       "      <th>dpkts</th>\n",
       "      <th>sbytes</th>\n",
       "      <th>dbytes</th>\n",
       "      <th>rate</th>\n",
       "      <th>sload</th>\n",
       "      <th>...</th>\n",
       "      <th>trans_depth</th>\n",
       "      <th>response_body_len</th>\n",
       "      <th>ct_src_dport_ltm</th>\n",
       "      <th>ct_dst_sport_ltm</th>\n",
       "      <th>is_ftp_login</th>\n",
       "      <th>ct_ftp_cmd</th>\n",
       "      <th>ct_flw_http_mthd</th>\n",
       "      <th>is_sm_ips_ports</th>\n",
       "      <th>attack_cat</th>\n",
       "      <th>label</th>\n",
       "    </tr>\n",
       "  </thead>\n",
       "  <tbody>\n",
       "    <tr>\n",
       "      <th>0</th>\n",
       "      <td>0.000011</td>\n",
       "      <td>udp</td>\n",
       "      <td>-</td>\n",
       "      <td>INT</td>\n",
       "      <td>2</td>\n",
       "      <td>0</td>\n",
       "      <td>496</td>\n",
       "      <td>0</td>\n",
       "      <td>90909.093750</td>\n",
       "      <td>1.803636e+08</td>\n",
       "      <td>...</td>\n",
       "      <td>0</td>\n",
       "      <td>0</td>\n",
       "      <td>1</td>\n",
       "      <td>1</td>\n",
       "      <td>0</td>\n",
       "      <td>0</td>\n",
       "      <td>0</td>\n",
       "      <td>0</td>\n",
       "      <td>Normal</td>\n",
       "      <td>0</td>\n",
       "    </tr>\n",
       "    <tr>\n",
       "      <th>1</th>\n",
       "      <td>0.000008</td>\n",
       "      <td>udp</td>\n",
       "      <td>-</td>\n",
       "      <td>INT</td>\n",
       "      <td>2</td>\n",
       "      <td>0</td>\n",
       "      <td>1762</td>\n",
       "      <td>0</td>\n",
       "      <td>125000.000000</td>\n",
       "      <td>8.810000e+08</td>\n",
       "      <td>...</td>\n",
       "      <td>0</td>\n",
       "      <td>0</td>\n",
       "      <td>1</td>\n",
       "      <td>1</td>\n",
       "      <td>0</td>\n",
       "      <td>0</td>\n",
       "      <td>0</td>\n",
       "      <td>0</td>\n",
       "      <td>Normal</td>\n",
       "      <td>0</td>\n",
       "    </tr>\n",
       "    <tr>\n",
       "      <th>2</th>\n",
       "      <td>0.000005</td>\n",
       "      <td>udp</td>\n",
       "      <td>-</td>\n",
       "      <td>INT</td>\n",
       "      <td>2</td>\n",
       "      <td>0</td>\n",
       "      <td>1068</td>\n",
       "      <td>0</td>\n",
       "      <td>200000.000000</td>\n",
       "      <td>8.544000e+08</td>\n",
       "      <td>...</td>\n",
       "      <td>0</td>\n",
       "      <td>0</td>\n",
       "      <td>1</td>\n",
       "      <td>1</td>\n",
       "      <td>0</td>\n",
       "      <td>0</td>\n",
       "      <td>0</td>\n",
       "      <td>0</td>\n",
       "      <td>Normal</td>\n",
       "      <td>0</td>\n",
       "    </tr>\n",
       "    <tr>\n",
       "      <th>3</th>\n",
       "      <td>0.000006</td>\n",
       "      <td>udp</td>\n",
       "      <td>-</td>\n",
       "      <td>INT</td>\n",
       "      <td>2</td>\n",
       "      <td>0</td>\n",
       "      <td>900</td>\n",
       "      <td>0</td>\n",
       "      <td>166666.656250</td>\n",
       "      <td>6.000000e+08</td>\n",
       "      <td>...</td>\n",
       "      <td>0</td>\n",
       "      <td>0</td>\n",
       "      <td>2</td>\n",
       "      <td>1</td>\n",
       "      <td>0</td>\n",
       "      <td>0</td>\n",
       "      <td>0</td>\n",
       "      <td>0</td>\n",
       "      <td>Normal</td>\n",
       "      <td>0</td>\n",
       "    </tr>\n",
       "    <tr>\n",
       "      <th>4</th>\n",
       "      <td>0.000010</td>\n",
       "      <td>udp</td>\n",
       "      <td>-</td>\n",
       "      <td>INT</td>\n",
       "      <td>2</td>\n",
       "      <td>0</td>\n",
       "      <td>2126</td>\n",
       "      <td>0</td>\n",
       "      <td>100000.000000</td>\n",
       "      <td>8.504000e+08</td>\n",
       "      <td>...</td>\n",
       "      <td>0</td>\n",
       "      <td>0</td>\n",
       "      <td>2</td>\n",
       "      <td>1</td>\n",
       "      <td>0</td>\n",
       "      <td>0</td>\n",
       "      <td>0</td>\n",
       "      <td>0</td>\n",
       "      <td>Normal</td>\n",
       "      <td>0</td>\n",
       "    </tr>\n",
       "    <tr>\n",
       "      <th>5</th>\n",
       "      <td>0.000003</td>\n",
       "      <td>udp</td>\n",
       "      <td>-</td>\n",
       "      <td>INT</td>\n",
       "      <td>2</td>\n",
       "      <td>0</td>\n",
       "      <td>784</td>\n",
       "      <td>0</td>\n",
       "      <td>333333.312500</td>\n",
       "      <td>1.045333e+09</td>\n",
       "      <td>...</td>\n",
       "      <td>0</td>\n",
       "      <td>0</td>\n",
       "      <td>2</td>\n",
       "      <td>1</td>\n",
       "      <td>0</td>\n",
       "      <td>0</td>\n",
       "      <td>0</td>\n",
       "      <td>0</td>\n",
       "      <td>Normal</td>\n",
       "      <td>0</td>\n",
       "    </tr>\n",
       "    <tr>\n",
       "      <th>6</th>\n",
       "      <td>0.000006</td>\n",
       "      <td>udp</td>\n",
       "      <td>-</td>\n",
       "      <td>INT</td>\n",
       "      <td>2</td>\n",
       "      <td>0</td>\n",
       "      <td>1960</td>\n",
       "      <td>0</td>\n",
       "      <td>166666.656250</td>\n",
       "      <td>1.306667e+09</td>\n",
       "      <td>...</td>\n",
       "      <td>0</td>\n",
       "      <td>0</td>\n",
       "      <td>2</td>\n",
       "      <td>1</td>\n",
       "      <td>0</td>\n",
       "      <td>0</td>\n",
       "      <td>0</td>\n",
       "      <td>0</td>\n",
       "      <td>Normal</td>\n",
       "      <td>0</td>\n",
       "    </tr>\n",
       "    <tr>\n",
       "      <th>7</th>\n",
       "      <td>0.000028</td>\n",
       "      <td>udp</td>\n",
       "      <td>-</td>\n",
       "      <td>INT</td>\n",
       "      <td>2</td>\n",
       "      <td>0</td>\n",
       "      <td>1384</td>\n",
       "      <td>0</td>\n",
       "      <td>35714.285156</td>\n",
       "      <td>1.977143e+08</td>\n",
       "      <td>...</td>\n",
       "      <td>0</td>\n",
       "      <td>0</td>\n",
       "      <td>1</td>\n",
       "      <td>1</td>\n",
       "      <td>0</td>\n",
       "      <td>0</td>\n",
       "      <td>0</td>\n",
       "      <td>0</td>\n",
       "      <td>Normal</td>\n",
       "      <td>0</td>\n",
       "    </tr>\n",
       "    <tr>\n",
       "      <th>8</th>\n",
       "      <td>0.000000</td>\n",
       "      <td>arp</td>\n",
       "      <td>-</td>\n",
       "      <td>INT</td>\n",
       "      <td>1</td>\n",
       "      <td>0</td>\n",
       "      <td>46</td>\n",
       "      <td>0</td>\n",
       "      <td>0.000000</td>\n",
       "      <td>0.000000e+00</td>\n",
       "      <td>...</td>\n",
       "      <td>0</td>\n",
       "      <td>0</td>\n",
       "      <td>2</td>\n",
       "      <td>2</td>\n",
       "      <td>0</td>\n",
       "      <td>0</td>\n",
       "      <td>0</td>\n",
       "      <td>1</td>\n",
       "      <td>Normal</td>\n",
       "      <td>0</td>\n",
       "    </tr>\n",
       "    <tr>\n",
       "      <th>9</th>\n",
       "      <td>0.000000</td>\n",
       "      <td>arp</td>\n",
       "      <td>-</td>\n",
       "      <td>INT</td>\n",
       "      <td>1</td>\n",
       "      <td>0</td>\n",
       "      <td>46</td>\n",
       "      <td>0</td>\n",
       "      <td>0.000000</td>\n",
       "      <td>0.000000e+00</td>\n",
       "      <td>...</td>\n",
       "      <td>0</td>\n",
       "      <td>0</td>\n",
       "      <td>2</td>\n",
       "      <td>2</td>\n",
       "      <td>0</td>\n",
       "      <td>0</td>\n",
       "      <td>0</td>\n",
       "      <td>1</td>\n",
       "      <td>Normal</td>\n",
       "      <td>0</td>\n",
       "    </tr>\n",
       "  </tbody>\n",
       "</table>\n",
       "<p>10 rows × 36 columns</p>\n",
       "</div>"
      ],
      "text/plain": [
       "        dur proto service state  spkts  dpkts  sbytes  dbytes           rate  \\\n",
       "0  0.000011   udp       -   INT      2      0     496       0   90909.093750   \n",
       "1  0.000008   udp       -   INT      2      0    1762       0  125000.000000   \n",
       "2  0.000005   udp       -   INT      2      0    1068       0  200000.000000   \n",
       "3  0.000006   udp       -   INT      2      0     900       0  166666.656250   \n",
       "4  0.000010   udp       -   INT      2      0    2126       0  100000.000000   \n",
       "5  0.000003   udp       -   INT      2      0     784       0  333333.312500   \n",
       "6  0.000006   udp       -   INT      2      0    1960       0  166666.656250   \n",
       "7  0.000028   udp       -   INT      2      0    1384       0   35714.285156   \n",
       "8  0.000000   arp       -   INT      1      0      46       0       0.000000   \n",
       "9  0.000000   arp       -   INT      1      0      46       0       0.000000   \n",
       "\n",
       "          sload  ...  trans_depth  response_body_len  ct_src_dport_ltm  \\\n",
       "0  1.803636e+08  ...            0                  0                 1   \n",
       "1  8.810000e+08  ...            0                  0                 1   \n",
       "2  8.544000e+08  ...            0                  0                 1   \n",
       "3  6.000000e+08  ...            0                  0                 2   \n",
       "4  8.504000e+08  ...            0                  0                 2   \n",
       "5  1.045333e+09  ...            0                  0                 2   \n",
       "6  1.306667e+09  ...            0                  0                 2   \n",
       "7  1.977143e+08  ...            0                  0                 1   \n",
       "8  0.000000e+00  ...            0                  0                 2   \n",
       "9  0.000000e+00  ...            0                  0                 2   \n",
       "\n",
       "   ct_dst_sport_ltm  is_ftp_login  ct_ftp_cmd  ct_flw_http_mthd  \\\n",
       "0                 1             0           0                 0   \n",
       "1                 1             0           0                 0   \n",
       "2                 1             0           0                 0   \n",
       "3                 1             0           0                 0   \n",
       "4                 1             0           0                 0   \n",
       "5                 1             0           0                 0   \n",
       "6                 1             0           0                 0   \n",
       "7                 1             0           0                 0   \n",
       "8                 2             0           0                 0   \n",
       "9                 2             0           0                 0   \n",
       "\n",
       "   is_sm_ips_ports  attack_cat  label  \n",
       "0                0      Normal      0  \n",
       "1                0      Normal      0  \n",
       "2                0      Normal      0  \n",
       "3                0      Normal      0  \n",
       "4                0      Normal      0  \n",
       "5                0      Normal      0  \n",
       "6                0      Normal      0  \n",
       "7                0      Normal      0  \n",
       "8                1      Normal      0  \n",
       "9                1      Normal      0  \n",
       "\n",
       "[10 rows x 36 columns]"
      ]
     },
     "execution_count": 955,
     "metadata": {},
     "output_type": "execute_result"
    }
   ],
   "source": [
    "combined_data.head(10)"
   ]
  },
  {
   "cell_type": "code",
   "execution_count": 956,
   "id": "7d5dd520-1634-4680-bf57-f76f9c1ee2ea",
   "metadata": {},
   "outputs": [
    {
     "name": "stdout",
     "output_type": "stream",
     "text": [
      "Index(['dur', 'proto', 'service', 'state', 'spkts', 'dpkts', 'sbytes',\n",
      "       'dbytes', 'rate', 'sload', 'dload', 'sloss', 'dloss', 'sinpkt',\n",
      "       'dinpkt', 'sjit', 'djit', 'swin', 'stcpb', 'dtcpb', 'dwin', 'tcprtt',\n",
      "       'synack', 'ackdat', 'smean', 'dmean', 'trans_depth',\n",
      "       'response_body_len', 'ct_src_dport_ltm', 'ct_dst_sport_ltm',\n",
      "       'is_ftp_login', 'ct_ftp_cmd', 'ct_flw_http_mthd', 'is_sm_ips_ports',\n",
      "       'attack_cat', 'label'],\n",
      "      dtype='object')\n"
     ]
    }
   ],
   "source": [
    "print(combined_data.columns)"
   ]
  },
  {
   "cell_type": "code",
   "execution_count": 957,
   "id": "fa25dde4-4a84-4913-9f7f-275fe46bd7b6",
   "metadata": {},
   "outputs": [
    {
     "data": {
      "text/plain": [
       "attack_cat\n",
       "Normal            93000\n",
       "Generic           58871\n",
       "Exploits          44525\n",
       "Fuzzers           24246\n",
       "DoS               16353\n",
       "Reconnaissance    13987\n",
       "Analysis           2677\n",
       "Backdoor           2329\n",
       "Shellcode          1511\n",
       "Worms               174\n",
       "Name: count, dtype: int64"
      ]
     },
     "execution_count": 957,
     "metadata": {},
     "output_type": "execute_result"
    }
   ],
   "source": [
    "combined_data['attack_cat'].value_counts()"
   ]
  },
  {
   "cell_type": "code",
   "execution_count": 958,
   "id": "3a8bbdd1-f87c-4dee-9063-7b4ed4638d66",
   "metadata": {},
   "outputs": [
    {
     "data": {
      "text/plain": [
       "service\n",
       "-           141321\n",
       "dns          68661\n",
       "http         27011\n",
       "smtp          6909\n",
       "ftp-data      5391\n",
       "ftp           4980\n",
       "pop3          1528\n",
       "ssh           1506\n",
       "dhcp           120\n",
       "snmp           109\n",
       "ssl             86\n",
       "irc             30\n",
       "radius          21\n",
       "Name: count, dtype: int64"
      ]
     },
     "execution_count": 958,
     "metadata": {},
     "output_type": "execute_result"
    }
   ],
   "source": [
    "combined_data['service'].value_counts()"
   ]
  },
  {
   "cell_type": "code",
   "execution_count": 959,
   "id": "60110606-dda0-4741-bc3b-1ef833888318",
   "metadata": {},
   "outputs": [],
   "source": [
    "combined_data['service'] = combined_data['service'].apply(lambda x:\"None\" if x=='-' else x)"
   ]
  },
  {
   "cell_type": "code",
   "execution_count": 960,
   "id": "192416fc-c483-4a44-a3f5-dd362e340c28",
   "metadata": {},
   "outputs": [
    {
     "data": {
      "text/plain": [
       "service\n",
       "None        141321\n",
       "dns          68661\n",
       "http         27011\n",
       "smtp          6909\n",
       "ftp-data      5391\n",
       "ftp           4980\n",
       "pop3          1528\n",
       "ssh           1506\n",
       "dhcp           120\n",
       "snmp           109\n",
       "ssl             86\n",
       "irc             30\n",
       "radius          21\n",
       "Name: count, dtype: int64"
      ]
     },
     "execution_count": 960,
     "metadata": {},
     "output_type": "execute_result"
    }
   ],
   "source": [
    "combined_data['service'].value_counts()"
   ]
  },
  {
   "cell_type": "code",
   "execution_count": 961,
   "id": "5fe719ad-c375-4b10-961f-e04a5703bac6",
   "metadata": {},
   "outputs": [
    {
     "data": {
      "text/plain": [
       "(257673, 36)"
      ]
     },
     "execution_count": 961,
     "metadata": {},
     "output_type": "execute_result"
    }
   ],
   "source": [
    "combined_data.shape"
   ]
  },
  {
   "cell_type": "code",
   "execution_count": 962,
   "id": "ebd4f80f-675e-471d-990a-f87e3ac87876",
   "metadata": {},
   "outputs": [],
   "source": [
    "combined_data.drop(columns=['label'],inplace=True) #I want prediction of the attack type not generic of whether it's an attack or not"
   ]
  },
  {
   "cell_type": "code",
   "execution_count": 963,
   "id": "f3cafd9f-f3bd-4c59-a087-ada3cfb1a217",
   "metadata": {},
   "outputs": [],
   "source": [
    "train, test = train_test_split(combined_data,test_size=0.2,random_state=16)\n",
    "train, val = train_test_split(train,test_size=0.2,random_state=16)"
   ]
  },
  {
   "cell_type": "code",
   "execution_count": 964,
   "id": "6ee2fd09-cf55-4956-954e-a1ec3b8af664",
   "metadata": {},
   "outputs": [],
   "source": [
    "x_train, y_train = train.drop(columns=['attack_cat']), train[['attack_cat']]\n",
    "x_test, y_test = test.drop(columns=['attack_cat']), test[['attack_cat']]\n",
    "x_val, y_val = val.drop(columns=['attack_cat']), val[['attack_cat']]"
   ]
  },
  {
   "cell_type": "code",
   "execution_count": 965,
   "id": "e55aec5a-34bb-440b-af75-a72447ca459d",
   "metadata": {},
   "outputs": [
    {
     "data": {
      "text/plain": [
       "((164910, 34), (164910, 1))"
      ]
     },
     "execution_count": 965,
     "metadata": {},
     "output_type": "execute_result"
    }
   ],
   "source": [
    "x_train, y_train = train.drop(columns=['attack_cat']), train[['attack_cat']]\n",
    "x_test, y_test = test.drop(columns=['attack_cat']), test[['attack_cat']]\n",
    "x_val, y_val = val.drop(columns=['attack_cat']), val[['attack_cat']]\n",
    "\n",
    "x_train.shape, y_train.shape"
   ]
  },
  {
   "cell_type": "code",
   "execution_count": 966,
   "id": "3125af0a-4dd4-4503-a716-b876da313cb9",
   "metadata": {},
   "outputs": [
    {
     "data": {
      "text/plain": [
       "((51535, 34), (51535, 1))"
      ]
     },
     "execution_count": 966,
     "metadata": {},
     "output_type": "execute_result"
    }
   ],
   "source": [
    "x_test.shape, y_test.shape"
   ]
  },
  {
   "cell_type": "code",
   "execution_count": 967,
   "id": "4916bdfe-a2c8-433e-a449-f863669d9de1",
   "metadata": {},
   "outputs": [
    {
     "data": {
      "text/plain": [
       "((41228, 34), (41228, 1))"
      ]
     },
     "execution_count": 967,
     "metadata": {},
     "output_type": "execute_result"
    }
   ],
   "source": [
    "x_val.shape, y_val.shape"
   ]
  },
  {
   "cell_type": "code",
   "execution_count": 968,
   "id": "a96c168e-1878-425b-b6ad-798c2ca5e902",
   "metadata": {},
   "outputs": [
    {
     "data": {
      "text/plain": [
       "attack_cat\n",
       "Normal            59731\n",
       "Generic           37543\n",
       "Exploits          28497\n",
       "Fuzzers           15548\n",
       "DoS               10429\n",
       "Reconnaissance     8954\n",
       "Analysis           1694\n",
       "Backdoor           1433\n",
       "Shellcode           961\n",
       "Worms               120\n",
       "Name: count, dtype: int64"
      ]
     },
     "execution_count": 968,
     "metadata": {},
     "output_type": "execute_result"
    }
   ],
   "source": [
    "y_train['attack_cat'].value_counts()"
   ]
  },
  {
   "cell_type": "code",
   "execution_count": 969,
   "id": "08244437-a87c-4f79-8102-90a9bc530c23",
   "metadata": {},
   "outputs": [
    {
     "data": {
      "text/plain": [
       "attack_cat\n",
       "Normal            14750\n",
       "Generic            9467\n",
       "Exploits           7156\n",
       "Fuzzers            3861\n",
       "DoS                2674\n",
       "Reconnaissance     2258\n",
       "Analysis            419\n",
       "Backdoor            385\n",
       "Shellcode           237\n",
       "Worms                21\n",
       "Name: count, dtype: int64"
      ]
     },
     "execution_count": 969,
     "metadata": {},
     "output_type": "execute_result"
    }
   ],
   "source": [
    "y_val['attack_cat'].value_counts()"
   ]
  },
  {
   "cell_type": "code",
   "execution_count": 970,
   "id": "8473b25a-2786-4316-b902-3cb47751d914",
   "metadata": {},
   "outputs": [
    {
     "data": {
      "text/plain": [
       "attack_cat\n",
       "Normal            18519\n",
       "Generic           11861\n",
       "Exploits           8872\n",
       "Fuzzers            4837\n",
       "DoS                3250\n",
       "Reconnaissance     2775\n",
       "Analysis            564\n",
       "Backdoor            511\n",
       "Shellcode           313\n",
       "Worms                33\n",
       "Name: count, dtype: int64"
      ]
     },
     "execution_count": 970,
     "metadata": {},
     "output_type": "execute_result"
    }
   ],
   "source": [
    "y_test['attack_cat'].value_counts()"
   ]
  },
  {
   "cell_type": "code",
   "execution_count": 971,
   "id": "584fe105-ff07-48b2-ad4e-a62e1eddccb5",
   "metadata": {
    "scrolled": true
   },
   "outputs": [
    {
     "name": "stdout",
     "output_type": "stream",
     "text": [
      "<class 'pandas.core.frame.DataFrame'>\n",
      "RangeIndex: 257673 entries, 0 to 257672\n",
      "Data columns (total 35 columns):\n",
      " #   Column             Non-Null Count   Dtype   \n",
      "---  ------             --------------   -----   \n",
      " 0   dur                257673 non-null  float32 \n",
      " 1   proto              257673 non-null  object  \n",
      " 2   service            257673 non-null  category\n",
      " 3   state              257673 non-null  object  \n",
      " 4   spkts              257673 non-null  int16   \n",
      " 5   dpkts              257673 non-null  int16   \n",
      " 6   sbytes             257673 non-null  int32   \n",
      " 7   dbytes             257673 non-null  int32   \n",
      " 8   rate               257673 non-null  float32 \n",
      " 9   sload              257673 non-null  float32 \n",
      " 10  dload              257673 non-null  float32 \n",
      " 11  sloss              257673 non-null  int16   \n",
      " 12  dloss              257673 non-null  int16   \n",
      " 13  sinpkt             257673 non-null  float32 \n",
      " 14  dinpkt             257673 non-null  float32 \n",
      " 15  sjit               257673 non-null  float32 \n",
      " 16  djit               257673 non-null  float32 \n",
      " 17  swin               257673 non-null  int16   \n",
      " 18  stcpb              257673 non-null  int64   \n",
      " 19  dtcpb              257673 non-null  int64   \n",
      " 20  dwin               257673 non-null  int16   \n",
      " 21  tcprtt             257673 non-null  float32 \n",
      " 22  synack             257673 non-null  float32 \n",
      " 23  ackdat             257673 non-null  float32 \n",
      " 24  smean              257673 non-null  int16   \n",
      " 25  dmean              257673 non-null  int16   \n",
      " 26  trans_depth        257673 non-null  int16   \n",
      " 27  response_body_len  257673 non-null  int32   \n",
      " 28  ct_src_dport_ltm   257673 non-null  int8    \n",
      " 29  ct_dst_sport_ltm   257673 non-null  int8    \n",
      " 30  is_ftp_login       257673 non-null  int8    \n",
      " 31  ct_ftp_cmd         257673 non-null  int8    \n",
      " 32  ct_flw_http_mthd   257673 non-null  int8    \n",
      " 33  is_sm_ips_ports    257673 non-null  int8    \n",
      " 34  attack_cat         257673 non-null  category\n",
      "dtypes: category(2), float32(11), int16(9), int32(3), int64(2), int8(6), object(2)\n",
      "memory usage: 28.0+ MB\n"
     ]
    }
   ],
   "source": [
    "combined_data.info()"
   ]
  },
  {
   "cell_type": "code",
   "execution_count": 972,
   "id": "60409cce-6d35-493b-af6e-981d8da826a6",
   "metadata": {},
   "outputs": [],
   "source": [
    "cat_col = ['proto', 'service', 'state']\n",
    "num_col = list(set(x_train.columns) - set(cat_col))"
   ]
  },
  {
   "cell_type": "code",
   "execution_count": 973,
   "id": "b5b4917c-de44-407f-9a45-a8ea1e2c4d15",
   "metadata": {
    "scrolled": true
   },
   "outputs": [
    {
     "name": "stdout",
     "output_type": "stream",
     "text": [
      "proto        object\n",
      "service    category\n",
      "state        object\n",
      "dtype: object\n"
     ]
    }
   ],
   "source": [
    "print(train[cat_col].dtypes)"
   ]
  },
  {
   "cell_type": "code",
   "execution_count": 974,
   "id": "611bbf17-5e2b-4440-9485-d11b81bcd9a4",
   "metadata": {},
   "outputs": [
    {
     "name": "stdout",
     "output_type": "stream",
     "text": [
      "ct_src_dport_ltm        int8\n",
      "smean                  int16\n",
      "is_ftp_login            int8\n",
      "ct_ftp_cmd              int8\n",
      "dloss                  int16\n",
      "sloss                  int16\n",
      "djit                 float32\n",
      "sload                float32\n",
      "sbytes                 int32\n",
      "synack               float32\n",
      "trans_depth            int16\n",
      "dur                  float32\n",
      "ct_flw_http_mthd        int8\n",
      "dtcpb                  int64\n",
      "is_sm_ips_ports         int8\n",
      "dinpkt               float32\n",
      "dmean                  int16\n",
      "swin                   int16\n",
      "response_body_len      int32\n",
      "dload                float32\n",
      "ackdat               float32\n",
      "rate                 float32\n",
      "spkts                  int16\n",
      "dpkts                  int16\n",
      "sjit                 float32\n",
      "dwin                   int16\n",
      "dbytes                 int32\n",
      "ct_dst_sport_ltm        int8\n",
      "stcpb                  int64\n",
      "sinpkt               float32\n",
      "tcprtt               float32\n",
      "dtype: object\n"
     ]
    }
   ],
   "source": [
    "print(train[num_col].dtypes)"
   ]
  },
  {
   "cell_type": "code",
   "execution_count": 975,
   "id": "c8a279bf-bfeb-4e86-b5b8-ac1a3520df66",
   "metadata": {},
   "outputs": [
    {
     "name": "stdout",
     "output_type": "stream",
     "text": [
      "{'no', 'URN'}\n",
      "set()\n"
     ]
    }
   ],
   "source": [
    "print(set(x_val['state'].unique()) - set(x_train['state'].unique()))\n",
    "print(set(x_test['state'].unique()) - set(x_train['state'].unique()))\n"
   ]
  },
  {
   "cell_type": "code",
   "execution_count": 976,
   "id": "67ade5ad-a8d0-4c0c-ae16-cd00d7d760a1",
   "metadata": {},
   "outputs": [],
   "source": [
    "x_val = x_val[~x_val['state'].isin(['URN', 'no'])]  # Remove rows where 'state' is 'URN' or 'no'\n",
    "y_val = y_val.loc[x_val.index]  # Ensure y_val matches the new x_val indices"
   ]
  },
  {
   "cell_type": "code",
   "execution_count": 977,
   "id": "36bd6ced-c9b5-43a3-ae93-a5133e24302d",
   "metadata": {},
   "outputs": [
    {
     "name": "stdout",
     "output_type": "stream",
     "text": [
      "proto        object\n",
      "service    category\n",
      "state        object\n",
      "dtype: object\n"
     ]
    }
   ],
   "source": [
    "print(x_train[cat_col].dtypes)"
   ]
  },
  {
   "cell_type": "code",
   "execution_count": 978,
   "id": "400d9169-57d6-4755-a2ff-5d9e98652651",
   "metadata": {},
   "outputs": [
    {
     "name": "stdout",
     "output_type": "stream",
     "text": [
      "proto        object\n",
      "service    category\n",
      "state        object\n",
      "dtype: object\n"
     ]
    }
   ],
   "source": [
    "print(x_val[cat_col].dtypes)"
   ]
  },
  {
   "cell_type": "code",
   "execution_count": 979,
   "id": "8bc89015-9dbe-4456-8042-37719868f735",
   "metadata": {},
   "outputs": [
    {
     "name": "stdout",
     "output_type": "stream",
     "text": [
      "proto        object\n",
      "service    category\n",
      "state        object\n",
      "dtype: object\n"
     ]
    }
   ],
   "source": [
    "print(x_test[cat_col].dtypes)"
   ]
  },
  {
   "cell_type": "code",
   "execution_count": 980,
   "id": "563544db-eeae-4bb3-9c84-d50ddc485250",
   "metadata": {},
   "outputs": [
    {
     "data": {
      "text/html": [
       "<div>\n",
       "<style scoped>\n",
       "    .dataframe tbody tr th:only-of-type {\n",
       "        vertical-align: middle;\n",
       "    }\n",
       "\n",
       "    .dataframe tbody tr th {\n",
       "        vertical-align: top;\n",
       "    }\n",
       "\n",
       "    .dataframe thead th {\n",
       "        text-align: right;\n",
       "    }\n",
       "</style>\n",
       "<table border=\"1\" class=\"dataframe\">\n",
       "  <thead>\n",
       "    <tr style=\"text-align: right;\">\n",
       "      <th></th>\n",
       "      <th>dur</th>\n",
       "      <th>proto</th>\n",
       "      <th>service</th>\n",
       "      <th>state</th>\n",
       "      <th>spkts</th>\n",
       "      <th>dpkts</th>\n",
       "      <th>sbytes</th>\n",
       "      <th>dbytes</th>\n",
       "      <th>rate</th>\n",
       "      <th>sload</th>\n",
       "      <th>...</th>\n",
       "      <th>smean</th>\n",
       "      <th>dmean</th>\n",
       "      <th>trans_depth</th>\n",
       "      <th>response_body_len</th>\n",
       "      <th>ct_src_dport_ltm</th>\n",
       "      <th>ct_dst_sport_ltm</th>\n",
       "      <th>is_ftp_login</th>\n",
       "      <th>ct_ftp_cmd</th>\n",
       "      <th>ct_flw_http_mthd</th>\n",
       "      <th>is_sm_ips_ports</th>\n",
       "    </tr>\n",
       "  </thead>\n",
       "  <tbody>\n",
       "    <tr>\n",
       "      <th>12186</th>\n",
       "      <td>0.000009</td>\n",
       "      <td>udp</td>\n",
       "      <td>dns</td>\n",
       "      <td>INT</td>\n",
       "      <td>2</td>\n",
       "      <td>0</td>\n",
       "      <td>114</td>\n",
       "      <td>0</td>\n",
       "      <td>111111.109375</td>\n",
       "      <td>5.066666e+07</td>\n",
       "      <td>...</td>\n",
       "      <td>57</td>\n",
       "      <td>0</td>\n",
       "      <td>0</td>\n",
       "      <td>0</td>\n",
       "      <td>14</td>\n",
       "      <td>9</td>\n",
       "      <td>0</td>\n",
       "      <td>0</td>\n",
       "      <td>0</td>\n",
       "      <td>0</td>\n",
       "    </tr>\n",
       "    <tr>\n",
       "      <th>102830</th>\n",
       "      <td>0.036540</td>\n",
       "      <td>tcp</td>\n",
       "      <td>None</td>\n",
       "      <td>FIN</td>\n",
       "      <td>48</td>\n",
       "      <td>50</td>\n",
       "      <td>2958</td>\n",
       "      <td>33044</td>\n",
       "      <td>2654.625000</td>\n",
       "      <td>6.342638e+05</td>\n",
       "      <td>...</td>\n",
       "      <td>62</td>\n",
       "      <td>661</td>\n",
       "      <td>0</td>\n",
       "      <td>0</td>\n",
       "      <td>1</td>\n",
       "      <td>1</td>\n",
       "      <td>0</td>\n",
       "      <td>0</td>\n",
       "      <td>0</td>\n",
       "      <td>0</td>\n",
       "    </tr>\n",
       "    <tr>\n",
       "      <th>51398</th>\n",
       "      <td>0.000004</td>\n",
       "      <td>unas</td>\n",
       "      <td>None</td>\n",
       "      <td>INT</td>\n",
       "      <td>2</td>\n",
       "      <td>0</td>\n",
       "      <td>200</td>\n",
       "      <td>0</td>\n",
       "      <td>250000.000000</td>\n",
       "      <td>2.000000e+08</td>\n",
       "      <td>...</td>\n",
       "      <td>100</td>\n",
       "      <td>0</td>\n",
       "      <td>0</td>\n",
       "      <td>0</td>\n",
       "      <td>6</td>\n",
       "      <td>6</td>\n",
       "      <td>0</td>\n",
       "      <td>0</td>\n",
       "      <td>0</td>\n",
       "      <td>0</td>\n",
       "    </tr>\n",
       "    <tr>\n",
       "      <th>137238</th>\n",
       "      <td>0.772680</td>\n",
       "      <td>tcp</td>\n",
       "      <td>http</td>\n",
       "      <td>FIN</td>\n",
       "      <td>10</td>\n",
       "      <td>8</td>\n",
       "      <td>870</td>\n",
       "      <td>354</td>\n",
       "      <td>22.001347</td>\n",
       "      <td>8.106849e+03</td>\n",
       "      <td>...</td>\n",
       "      <td>87</td>\n",
       "      <td>44</td>\n",
       "      <td>1</td>\n",
       "      <td>0</td>\n",
       "      <td>1</td>\n",
       "      <td>1</td>\n",
       "      <td>0</td>\n",
       "      <td>0</td>\n",
       "      <td>1</td>\n",
       "      <td>0</td>\n",
       "    </tr>\n",
       "    <tr>\n",
       "      <th>68061</th>\n",
       "      <td>0.322975</td>\n",
       "      <td>tcp</td>\n",
       "      <td>None</td>\n",
       "      <td>FIN</td>\n",
       "      <td>10</td>\n",
       "      <td>6</td>\n",
       "      <td>502</td>\n",
       "      <td>268</td>\n",
       "      <td>46.443222</td>\n",
       "      <td>1.119591e+04</td>\n",
       "      <td>...</td>\n",
       "      <td>50</td>\n",
       "      <td>45</td>\n",
       "      <td>0</td>\n",
       "      <td>0</td>\n",
       "      <td>2</td>\n",
       "      <td>1</td>\n",
       "      <td>0</td>\n",
       "      <td>0</td>\n",
       "      <td>0</td>\n",
       "      <td>0</td>\n",
       "    </tr>\n",
       "    <tr>\n",
       "      <th>...</th>\n",
       "      <td>...</td>\n",
       "      <td>...</td>\n",
       "      <td>...</td>\n",
       "      <td>...</td>\n",
       "      <td>...</td>\n",
       "      <td>...</td>\n",
       "      <td>...</td>\n",
       "      <td>...</td>\n",
       "      <td>...</td>\n",
       "      <td>...</td>\n",
       "      <td>...</td>\n",
       "      <td>...</td>\n",
       "      <td>...</td>\n",
       "      <td>...</td>\n",
       "      <td>...</td>\n",
       "      <td>...</td>\n",
       "      <td>...</td>\n",
       "      <td>...</td>\n",
       "      <td>...</td>\n",
       "      <td>...</td>\n",
       "      <td>...</td>\n",
       "    </tr>\n",
       "    <tr>\n",
       "      <th>46947</th>\n",
       "      <td>0.000011</td>\n",
       "      <td>unas</td>\n",
       "      <td>None</td>\n",
       "      <td>INT</td>\n",
       "      <td>2</td>\n",
       "      <td>0</td>\n",
       "      <td>200</td>\n",
       "      <td>0</td>\n",
       "      <td>90909.093750</td>\n",
       "      <td>7.272727e+07</td>\n",
       "      <td>...</td>\n",
       "      <td>100</td>\n",
       "      <td>0</td>\n",
       "      <td>0</td>\n",
       "      <td>0</td>\n",
       "      <td>4</td>\n",
       "      <td>4</td>\n",
       "      <td>0</td>\n",
       "      <td>0</td>\n",
       "      <td>0</td>\n",
       "      <td>0</td>\n",
       "    </tr>\n",
       "    <tr>\n",
       "      <th>112795</th>\n",
       "      <td>1.110855</td>\n",
       "      <td>tcp</td>\n",
       "      <td>http</td>\n",
       "      <td>FIN</td>\n",
       "      <td>14</td>\n",
       "      <td>18</td>\n",
       "      <td>1684</td>\n",
       "      <td>10168</td>\n",
       "      <td>27.906433</td>\n",
       "      <td>1.126340e+04</td>\n",
       "      <td>...</td>\n",
       "      <td>120</td>\n",
       "      <td>565</td>\n",
       "      <td>1</td>\n",
       "      <td>3924</td>\n",
       "      <td>1</td>\n",
       "      <td>1</td>\n",
       "      <td>0</td>\n",
       "      <td>0</td>\n",
       "      <td>1</td>\n",
       "      <td>0</td>\n",
       "    </tr>\n",
       "    <tr>\n",
       "      <th>78906</th>\n",
       "      <td>0.000001</td>\n",
       "      <td>udp</td>\n",
       "      <td>None</td>\n",
       "      <td>INT</td>\n",
       "      <td>2</td>\n",
       "      <td>0</td>\n",
       "      <td>104</td>\n",
       "      <td>0</td>\n",
       "      <td>1000000.000000</td>\n",
       "      <td>4.160000e+08</td>\n",
       "      <td>...</td>\n",
       "      <td>52</td>\n",
       "      <td>0</td>\n",
       "      <td>0</td>\n",
       "      <td>0</td>\n",
       "      <td>1</td>\n",
       "      <td>1</td>\n",
       "      <td>0</td>\n",
       "      <td>0</td>\n",
       "      <td>0</td>\n",
       "      <td>0</td>\n",
       "    </tr>\n",
       "    <tr>\n",
       "      <th>129663</th>\n",
       "      <td>1.186472</td>\n",
       "      <td>tcp</td>\n",
       "      <td>None</td>\n",
       "      <td>FIN</td>\n",
       "      <td>10</td>\n",
       "      <td>6</td>\n",
       "      <td>534</td>\n",
       "      <td>268</td>\n",
       "      <td>12.642523</td>\n",
       "      <td>3.243229e+03</td>\n",
       "      <td>...</td>\n",
       "      <td>53</td>\n",
       "      <td>45</td>\n",
       "      <td>0</td>\n",
       "      <td>0</td>\n",
       "      <td>1</td>\n",
       "      <td>1</td>\n",
       "      <td>0</td>\n",
       "      <td>0</td>\n",
       "      <td>0</td>\n",
       "      <td>0</td>\n",
       "    </tr>\n",
       "    <tr>\n",
       "      <th>2049</th>\n",
       "      <td>0.292996</td>\n",
       "      <td>tcp</td>\n",
       "      <td>http</td>\n",
       "      <td>FIN</td>\n",
       "      <td>10</td>\n",
       "      <td>8</td>\n",
       "      <td>788</td>\n",
       "      <td>1296</td>\n",
       "      <td>58.021271</td>\n",
       "      <td>1.938593e+04</td>\n",
       "      <td>...</td>\n",
       "      <td>79</td>\n",
       "      <td>162</td>\n",
       "      <td>1</td>\n",
       "      <td>229</td>\n",
       "      <td>1</td>\n",
       "      <td>1</td>\n",
       "      <td>0</td>\n",
       "      <td>0</td>\n",
       "      <td>1</td>\n",
       "      <td>0</td>\n",
       "    </tr>\n",
       "  </tbody>\n",
       "</table>\n",
       "<p>164910 rows × 34 columns</p>\n",
       "</div>"
      ],
      "text/plain": [
       "             dur proto service state  spkts  dpkts  sbytes  dbytes  \\\n",
       "12186   0.000009   udp     dns   INT      2      0     114       0   \n",
       "102830  0.036540   tcp    None   FIN     48     50    2958   33044   \n",
       "51398   0.000004  unas    None   INT      2      0     200       0   \n",
       "137238  0.772680   tcp    http   FIN     10      8     870     354   \n",
       "68061   0.322975   tcp    None   FIN     10      6     502     268   \n",
       "...          ...   ...     ...   ...    ...    ...     ...     ...   \n",
       "46947   0.000011  unas    None   INT      2      0     200       0   \n",
       "112795  1.110855   tcp    http   FIN     14     18    1684   10168   \n",
       "78906   0.000001   udp    None   INT      2      0     104       0   \n",
       "129663  1.186472   tcp    None   FIN     10      6     534     268   \n",
       "2049    0.292996   tcp    http   FIN     10      8     788    1296   \n",
       "\n",
       "                  rate         sload  ...  smean  dmean  trans_depth  \\\n",
       "12186    111111.109375  5.066666e+07  ...     57      0            0   \n",
       "102830     2654.625000  6.342638e+05  ...     62    661            0   \n",
       "51398    250000.000000  2.000000e+08  ...    100      0            0   \n",
       "137238       22.001347  8.106849e+03  ...     87     44            1   \n",
       "68061        46.443222  1.119591e+04  ...     50     45            0   \n",
       "...                ...           ...  ...    ...    ...          ...   \n",
       "46947     90909.093750  7.272727e+07  ...    100      0            0   \n",
       "112795       27.906433  1.126340e+04  ...    120    565            1   \n",
       "78906   1000000.000000  4.160000e+08  ...     52      0            0   \n",
       "129663       12.642523  3.243229e+03  ...     53     45            0   \n",
       "2049         58.021271  1.938593e+04  ...     79    162            1   \n",
       "\n",
       "        response_body_len  ct_src_dport_ltm  ct_dst_sport_ltm  is_ftp_login  \\\n",
       "12186                   0                14                 9             0   \n",
       "102830                  0                 1                 1             0   \n",
       "51398                   0                 6                 6             0   \n",
       "137238                  0                 1                 1             0   \n",
       "68061                   0                 2                 1             0   \n",
       "...                   ...               ...               ...           ...   \n",
       "46947                   0                 4                 4             0   \n",
       "112795               3924                 1                 1             0   \n",
       "78906                   0                 1                 1             0   \n",
       "129663                  0                 1                 1             0   \n",
       "2049                  229                 1                 1             0   \n",
       "\n",
       "        ct_ftp_cmd  ct_flw_http_mthd  is_sm_ips_ports  \n",
       "12186            0                 0                0  \n",
       "102830           0                 0                0  \n",
       "51398            0                 0                0  \n",
       "137238           0                 1                0  \n",
       "68061            0                 0                0  \n",
       "...            ...               ...              ...  \n",
       "46947            0                 0                0  \n",
       "112795           0                 1                0  \n",
       "78906            0                 0                0  \n",
       "129663           0                 0                0  \n",
       "2049             0                 1                0  \n",
       "\n",
       "[164910 rows x 34 columns]"
      ]
     },
     "execution_count": 980,
     "metadata": {},
     "output_type": "execute_result"
    }
   ],
   "source": [
    "x_train"
   ]
  },
  {
   "cell_type": "code",
   "execution_count": 981,
   "id": "3e2150f3-fc94-42cc-bf92-640375edceb6",
   "metadata": {},
   "outputs": [],
   "source": [
    "ct = ColumnTransformer(\n",
    "    transformers=[\n",
    "        ('encoder', OneHotEncoder(sparse_output=False), cat_col),  # One-hot encode categorical features\n",
    "        ('scaler', StandardScaler(), num_col)  # Standard scale numeric features\n",
    "    ],\n",
    "    remainder='passthrough'  # Keep other columns (if any) as is\n",
    ")"
   ]
  },
  {
   "cell_type": "code",
   "execution_count": 982,
   "id": "2d446741-a477-4057-84dd-d5426b328e87",
   "metadata": {},
   "outputs": [],
   "source": [
    "x_train = ct.fit_transform(x_train)\n",
    "x_test = ct.transform(x_test)\n",
    "x_val = ct.transform(x_val)"
   ]
  },
  {
   "cell_type": "code",
   "execution_count": 983,
   "id": "8fa11ff8-2ac1-4507-88ec-fffb23412bf0",
   "metadata": {},
   "outputs": [
    {
     "data": {
      "text/plain": [
       "array([[ 0.        ,  0.        ,  0.        , ..., -0.73651854,\n",
       "        -0.13254613, -0.49715063],\n",
       "       [ 0.        ,  0.        ,  0.        , ..., -0.46521395,\n",
       "        -0.13243686, -0.47637134],\n",
       "       [ 0.        ,  0.        ,  0.        , ..., -0.73651854,\n",
       "        -0.13254685, -0.49715063],\n",
       "       ...,\n",
       "       [ 0.        ,  0.        ,  0.        , ..., -0.73651854,\n",
       "        -0.13254728, -0.49715063],\n",
       "       [ 0.        ,  0.        ,  0.        , ...,  1.27045461,\n",
       "        -0.11403041,  2.14723428],\n",
       "       [ 0.        ,  0.        ,  0.        , ...,  0.81808177,\n",
       "        -0.1278758 ,  0.07285858]])"
      ]
     },
     "execution_count": 983,
     "metadata": {},
     "output_type": "execute_result"
    }
   ],
   "source": [
    "x_train"
   ]
  },
  {
   "cell_type": "markdown",
   "id": "fcdf8bd0-da5c-4269-8e89-a2e60726c17e",
   "metadata": {},
   "source": [
    "ct = ColumnTransformer(transformers=[('encoder', OneHotEncoder(sparse_output=False), cat_col)], remainder='passthrough')\n",
    "x_train = ct.fit_transform(x_train)\n",
    "x_test = ct.transform(x_test)\n",
    "x_val = ct.transform(x_val)"
   ]
  },
  {
   "cell_type": "code",
   "execution_count": 985,
   "id": "0e2eb442-f6b8-42f8-8935-16d4807f5d19",
   "metadata": {},
   "outputs": [
    {
     "data": {
      "text/html": [
       "<div>\n",
       "<style scoped>\n",
       "    .dataframe tbody tr th:only-of-type {\n",
       "        vertical-align: middle;\n",
       "    }\n",
       "\n",
       "    .dataframe tbody tr th {\n",
       "        vertical-align: top;\n",
       "    }\n",
       "\n",
       "    .dataframe thead th {\n",
       "        text-align: right;\n",
       "    }\n",
       "</style>\n",
       "<table border=\"1\" class=\"dataframe\">\n",
       "  <thead>\n",
       "    <tr style=\"text-align: right;\">\n",
       "      <th></th>\n",
       "      <th>attack_cat</th>\n",
       "    </tr>\n",
       "  </thead>\n",
       "  <tbody>\n",
       "    <tr>\n",
       "      <th>12186</th>\n",
       "      <td>Generic</td>\n",
       "    </tr>\n",
       "    <tr>\n",
       "      <th>102830</th>\n",
       "      <td>Normal</td>\n",
       "    </tr>\n",
       "    <tr>\n",
       "      <th>51398</th>\n",
       "      <td>DoS</td>\n",
       "    </tr>\n",
       "    <tr>\n",
       "      <th>137238</th>\n",
       "      <td>Reconnaissance</td>\n",
       "    </tr>\n",
       "    <tr>\n",
       "      <th>68061</th>\n",
       "      <td>Normal</td>\n",
       "    </tr>\n",
       "    <tr>\n",
       "      <th>...</th>\n",
       "      <td>...</td>\n",
       "    </tr>\n",
       "    <tr>\n",
       "      <th>46947</th>\n",
       "      <td>Exploits</td>\n",
       "    </tr>\n",
       "    <tr>\n",
       "      <th>112795</th>\n",
       "      <td>Normal</td>\n",
       "    </tr>\n",
       "    <tr>\n",
       "      <th>78906</th>\n",
       "      <td>Normal</td>\n",
       "    </tr>\n",
       "    <tr>\n",
       "      <th>129663</th>\n",
       "      <td>Normal</td>\n",
       "    </tr>\n",
       "    <tr>\n",
       "      <th>2049</th>\n",
       "      <td>Exploits</td>\n",
       "    </tr>\n",
       "  </tbody>\n",
       "</table>\n",
       "<p>164910 rows × 1 columns</p>\n",
       "</div>"
      ],
      "text/plain": [
       "            attack_cat\n",
       "12186          Generic\n",
       "102830          Normal\n",
       "51398              DoS\n",
       "137238  Reconnaissance\n",
       "68061           Normal\n",
       "...                ...\n",
       "46947         Exploits\n",
       "112795          Normal\n",
       "78906           Normal\n",
       "129663          Normal\n",
       "2049          Exploits\n",
       "\n",
       "[164910 rows x 1 columns]"
      ]
     },
     "execution_count": 985,
     "metadata": {},
     "output_type": "execute_result"
    }
   ],
   "source": [
    "y_train"
   ]
  },
  {
   "cell_type": "code",
   "execution_count": 986,
   "id": "838de8ce-1fd3-45c3-9c88-25e5245389d2",
   "metadata": {},
   "outputs": [
    {
     "name": "stdout",
     "output_type": "stream",
     "text": [
      "Original class distribution: attack_cat\n",
      "Normal            59731\n",
      "Generic           37543\n",
      "Exploits          28497\n",
      "Fuzzers           15548\n",
      "DoS               10429\n",
      "Reconnaissance     8954\n",
      "Analysis           1694\n",
      "Backdoor           1433\n",
      "Shellcode           961\n",
      "Worms               120\n",
      "Name: count, dtype: int64\n",
      "\n",
      "Resampled class distribution: attack_cat\n",
      "Normal            56462\n",
      "Generic           37265\n",
      "Exploits          26410\n",
      "Fuzzers           12877\n",
      "DoS                9561\n",
      "Reconnaissance     7698\n",
      "Analysis           2890\n",
      "Backdoor           2867\n",
      "Shellcode          1797\n",
      "Worms               943\n",
      "Name: count, dtype: int64\n"
     ]
    }
   ],
   "source": [
    "from imblearn.combine import SMOTETomek\n",
    "from collections import Counter\n",
    "\n",
    "smote_tomek = SMOTETomek(sampling_strategy={\n",
    "    \"Analysis\": 3000, \n",
    "    \"Backdoor\": 3000,  \n",
    "    \"Shellcode\": 2000,  \n",
    "    \"Worms\": 1000  \n",
    "}, random_state=42)\n",
    "\n",
    "# Apply SMOTE-Tomek to the training data\n",
    "x_train_resampled, y_train_resampled = smote_tomek.fit_resample(x_train, y_train)\n",
    "\n",
    "# Check the new class distribution\n",
    "print(\"Original class distribution:\", y_train['attack_cat'].value_counts())\n",
    "print()\n",
    "print(\"Resampled class distribution:\", y_train_resampled['attack_cat'].value_counts())"
   ]
  },
  {
   "cell_type": "code",
   "execution_count": 987,
   "id": "9836b2b6-09a6-4d33-9c46-8d79b0d70629",
   "metadata": {},
   "outputs": [],
   "source": [
    "attacks = y_train['attack_cat'].unique()"
   ]
  },
  {
   "cell_type": "code",
   "execution_count": 988,
   "id": "ec9103a8-b0fc-41a3-9615-efa8a2029e3f",
   "metadata": {},
   "outputs": [
    {
     "data": {
      "text/plain": [
       "['Generic', 'Normal', 'DoS', 'Reconnaissance', 'Exploits', 'Fuzzers', 'Shellcode', 'Analysis', 'Backdoor', 'Worms']\n",
       "Categories (10, object): ['Analysis', 'Backdoor', 'DoS', 'Exploits', ..., 'Normal', 'Reconnaissance', 'Shellcode', 'Worms']"
      ]
     },
     "execution_count": 988,
     "metadata": {},
     "output_type": "execute_result"
    }
   ],
   "source": [
    "attacks"
   ]
  },
  {
   "cell_type": "code",
   "execution_count": 989,
   "id": "abbc55d6-4fe6-49ca-80a3-4b2e1c43c094",
   "metadata": {},
   "outputs": [],
   "source": [
    "y_train_resampled_df = pd.DataFrame(y_train_resampled, columns=['attack_cat']) #for whatever reason it throws error below sometimes just run this for that\n",
    "y_train_df = pd.DataFrame(y_train, columns=['attack_cat'])\n",
    "y_test_df = pd.DataFrame(y_test, columns=['attack_cat'])\n",
    "y_val_df = pd.DataFrame(y_val, columns=['attack_cat'])"
   ]
  },
  {
   "cell_type": "code",
   "execution_count": 990,
   "id": "624ae529-c4dc-4230-acda-19b3d0d4e956",
   "metadata": {},
   "outputs": [],
   "source": [
    "ct1 = ColumnTransformer(transformers=[('encoder', OneHotEncoder(categories=[attacks],sparse_output=False), ['attack_cat'])], remainder='passthrough')\n",
    "y_train_resampled = np.array(ct1.fit_transform(y_train_resampled))\n",
    "y_test = np.array(ct1.transform(y_test))\n",
    "y_val = np.array(ct1.transform(y_val))"
   ]
  },
  {
   "cell_type": "code",
   "execution_count": 991,
   "id": "10719417-5987-4cc5-b4b0-7765e823cecb",
   "metadata": {},
   "outputs": [],
   "source": [
    "del train\n",
    "del test\n",
    "del x_train\n",
    "del y_train"
   ]
  },
  {
   "cell_type": "code",
   "execution_count": 992,
   "id": "764bec2b-fc5c-4fa4-922c-338cda83f290",
   "metadata": {},
   "outputs": [
    {
     "data": {
      "text/plain": [
       "array([[1., 0., 0., ..., 0., 0., 0.],\n",
       "       [0., 1., 0., ..., 0., 0., 0.],\n",
       "       [0., 0., 1., ..., 0., 0., 0.],\n",
       "       ...,\n",
       "       [0., 0., 0., ..., 0., 0., 1.],\n",
       "       [0., 0., 0., ..., 0., 0., 1.],\n",
       "       [0., 0., 0., ..., 0., 0., 1.]])"
      ]
     },
     "execution_count": 992,
     "metadata": {},
     "output_type": "execute_result"
    }
   ],
   "source": [
    "y_train_resampled"
   ]
  },
  {
   "cell_type": "code",
   "execution_count": 993,
   "id": "ac2454d9-ec32-4f6e-ae70-8ed401f5a9bc",
   "metadata": {},
   "outputs": [],
   "source": [
    "from tensorflow.keras.models import Sequential\n",
    "from tensorflow.keras.layers import Conv1D, MaxPooling1D, BatchNormalization, LSTM, Dense, Dropout"
   ]
  },
  {
   "cell_type": "code",
   "execution_count": 994,
   "id": "9698e833-d382-49dc-855a-939ad3de6b5b",
   "metadata": {},
   "outputs": [
    {
     "name": "stderr",
     "output_type": "stream",
     "text": [
      "C:\\Users\\sehat\\anaconda3\\Lib\\site-packages\\keras\\src\\layers\\convolutional\\base_conv.py:107: UserWarning: Do not pass an `input_shape`/`input_dim` argument to a layer. When using Sequential models, prefer using an `Input(shape)` object as the first layer in the model instead.\n",
      "  super().__init__(activity_regularizer=activity_regularizer, **kwargs)\n"
     ]
    },
    {
     "data": {
      "text/html": [
       "<pre style=\"white-space:pre;overflow-x:auto;line-height:normal;font-family:Menlo,'DejaVu Sans Mono',consolas,'Courier New',monospace\"><span style=\"font-weight: bold\">Model: \"sequential_14\"</span>\n",
       "</pre>\n"
      ],
      "text/plain": [
       "\u001b[1mModel: \"sequential_14\"\u001b[0m\n"
      ]
     },
     "metadata": {},
     "output_type": "display_data"
    },
    {
     "data": {
      "text/html": [
       "<pre style=\"white-space:pre;overflow-x:auto;line-height:normal;font-family:Menlo,'DejaVu Sans Mono',consolas,'Courier New',monospace\">┏━━━━━━━━━━━━━━━━━━━━━━━━━━━━━━━━━┳━━━━━━━━━━━━━━━━━━━━━━━━┳━━━━━━━━━━━━━━━┓\n",
       "┃<span style=\"font-weight: bold\"> Layer (type)                    </span>┃<span style=\"font-weight: bold\"> Output Shape           </span>┃<span style=\"font-weight: bold\">       Param # </span>┃\n",
       "┡━━━━━━━━━━━━━━━━━━━━━━━━━━━━━━━━━╇━━━━━━━━━━━━━━━━━━━━━━━━╇━━━━━━━━━━━━━━━┩\n",
       "│ conv1d_42 (<span style=\"color: #0087ff; text-decoration-color: #0087ff\">Conv1D</span>)              │ (<span style=\"color: #00d7ff; text-decoration-color: #00d7ff\">None</span>, <span style=\"color: #00af00; text-decoration-color: #00af00\">186</span>, <span style=\"color: #00af00; text-decoration-color: #00af00\">16</span>)        │            <span style=\"color: #00af00; text-decoration-color: #00af00\">32</span> │\n",
       "├─────────────────────────────────┼────────────────────────┼───────────────┤\n",
       "│ max_pooling1d_42 (<span style=\"color: #0087ff; text-decoration-color: #0087ff\">MaxPooling1D</span>) │ (<span style=\"color: #00d7ff; text-decoration-color: #00d7ff\">None</span>, <span style=\"color: #00af00; text-decoration-color: #00af00\">93</span>, <span style=\"color: #00af00; text-decoration-color: #00af00\">16</span>)         │             <span style=\"color: #00af00; text-decoration-color: #00af00\">0</span> │\n",
       "├─────────────────────────────────┼────────────────────────┼───────────────┤\n",
       "│ batch_normalization_42          │ (<span style=\"color: #00d7ff; text-decoration-color: #00d7ff\">None</span>, <span style=\"color: #00af00; text-decoration-color: #00af00\">93</span>, <span style=\"color: #00af00; text-decoration-color: #00af00\">16</span>)         │            <span style=\"color: #00af00; text-decoration-color: #00af00\">64</span> │\n",
       "│ (<span style=\"color: #0087ff; text-decoration-color: #0087ff\">BatchNormalization</span>)            │                        │               │\n",
       "├─────────────────────────────────┼────────────────────────┼───────────────┤\n",
       "│ lstm_42 (<span style=\"color: #0087ff; text-decoration-color: #0087ff\">LSTM</span>)                  │ (<span style=\"color: #00d7ff; text-decoration-color: #00d7ff\">None</span>, <span style=\"color: #00af00; text-decoration-color: #00af00\">93</span>, <span style=\"color: #00af00; text-decoration-color: #00af00\">16</span>)         │         <span style=\"color: #00af00; text-decoration-color: #00af00\">2,112</span> │\n",
       "├─────────────────────────────────┼────────────────────────┼───────────────┤\n",
       "│ conv1d_43 (<span style=\"color: #0087ff; text-decoration-color: #0087ff\">Conv1D</span>)              │ (<span style=\"color: #00d7ff; text-decoration-color: #00d7ff\">None</span>, <span style=\"color: #00af00; text-decoration-color: #00af00\">91</span>, <span style=\"color: #00af00; text-decoration-color: #00af00\">32</span>)         │         <span style=\"color: #00af00; text-decoration-color: #00af00\">1,568</span> │\n",
       "├─────────────────────────────────┼────────────────────────┼───────────────┤\n",
       "│ max_pooling1d_43 (<span style=\"color: #0087ff; text-decoration-color: #0087ff\">MaxPooling1D</span>) │ (<span style=\"color: #00d7ff; text-decoration-color: #00d7ff\">None</span>, <span style=\"color: #00af00; text-decoration-color: #00af00\">45</span>, <span style=\"color: #00af00; text-decoration-color: #00af00\">32</span>)         │             <span style=\"color: #00af00; text-decoration-color: #00af00\">0</span> │\n",
       "├─────────────────────────────────┼────────────────────────┼───────────────┤\n",
       "│ batch_normalization_43          │ (<span style=\"color: #00d7ff; text-decoration-color: #00d7ff\">None</span>, <span style=\"color: #00af00; text-decoration-color: #00af00\">45</span>, <span style=\"color: #00af00; text-decoration-color: #00af00\">32</span>)         │           <span style=\"color: #00af00; text-decoration-color: #00af00\">128</span> │\n",
       "│ (<span style=\"color: #0087ff; text-decoration-color: #0087ff\">BatchNormalization</span>)            │                        │               │\n",
       "├─────────────────────────────────┼────────────────────────┼───────────────┤\n",
       "│ lstm_43 (<span style=\"color: #0087ff; text-decoration-color: #0087ff\">LSTM</span>)                  │ (<span style=\"color: #00d7ff; text-decoration-color: #00d7ff\">None</span>, <span style=\"color: #00af00; text-decoration-color: #00af00\">45</span>, <span style=\"color: #00af00; text-decoration-color: #00af00\">32</span>)         │         <span style=\"color: #00af00; text-decoration-color: #00af00\">8,320</span> │\n",
       "├─────────────────────────────────┼────────────────────────┼───────────────┤\n",
       "│ conv1d_44 (<span style=\"color: #0087ff; text-decoration-color: #0087ff\">Conv1D</span>)              │ (<span style=\"color: #00d7ff; text-decoration-color: #00d7ff\">None</span>, <span style=\"color: #00af00; text-decoration-color: #00af00\">41</span>, <span style=\"color: #00af00; text-decoration-color: #00af00\">64</span>)         │        <span style=\"color: #00af00; text-decoration-color: #00af00\">10,304</span> │\n",
       "├─────────────────────────────────┼────────────────────────┼───────────────┤\n",
       "│ max_pooling1d_44 (<span style=\"color: #0087ff; text-decoration-color: #0087ff\">MaxPooling1D</span>) │ (<span style=\"color: #00d7ff; text-decoration-color: #00d7ff\">None</span>, <span style=\"color: #00af00; text-decoration-color: #00af00\">20</span>, <span style=\"color: #00af00; text-decoration-color: #00af00\">64</span>)         │             <span style=\"color: #00af00; text-decoration-color: #00af00\">0</span> │\n",
       "├─────────────────────────────────┼────────────────────────┼───────────────┤\n",
       "│ batch_normalization_44          │ (<span style=\"color: #00d7ff; text-decoration-color: #00d7ff\">None</span>, <span style=\"color: #00af00; text-decoration-color: #00af00\">20</span>, <span style=\"color: #00af00; text-decoration-color: #00af00\">64</span>)         │           <span style=\"color: #00af00; text-decoration-color: #00af00\">256</span> │\n",
       "│ (<span style=\"color: #0087ff; text-decoration-color: #0087ff\">BatchNormalization</span>)            │                        │               │\n",
       "├─────────────────────────────────┼────────────────────────┼───────────────┤\n",
       "│ lstm_44 (<span style=\"color: #0087ff; text-decoration-color: #0087ff\">LSTM</span>)                  │ (<span style=\"color: #00d7ff; text-decoration-color: #00d7ff\">None</span>, <span style=\"color: #00af00; text-decoration-color: #00af00\">64</span>)             │        <span style=\"color: #00af00; text-decoration-color: #00af00\">33,024</span> │\n",
       "├─────────────────────────────────┼────────────────────────┼───────────────┤\n",
       "│ dense_28 (<span style=\"color: #0087ff; text-decoration-color: #0087ff\">Dense</span>)                │ (<span style=\"color: #00d7ff; text-decoration-color: #00d7ff\">None</span>, <span style=\"color: #00af00; text-decoration-color: #00af00\">64</span>)             │         <span style=\"color: #00af00; text-decoration-color: #00af00\">4,160</span> │\n",
       "├─────────────────────────────────┼────────────────────────┼───────────────┤\n",
       "│ dropout_14 (<span style=\"color: #0087ff; text-decoration-color: #0087ff\">Dropout</span>)            │ (<span style=\"color: #00d7ff; text-decoration-color: #00d7ff\">None</span>, <span style=\"color: #00af00; text-decoration-color: #00af00\">64</span>)             │             <span style=\"color: #00af00; text-decoration-color: #00af00\">0</span> │\n",
       "├─────────────────────────────────┼────────────────────────┼───────────────┤\n",
       "│ dense_29 (<span style=\"color: #0087ff; text-decoration-color: #0087ff\">Dense</span>)                │ (<span style=\"color: #00d7ff; text-decoration-color: #00d7ff\">None</span>, <span style=\"color: #00af00; text-decoration-color: #00af00\">10</span>)             │           <span style=\"color: #00af00; text-decoration-color: #00af00\">650</span> │\n",
       "└─────────────────────────────────┴────────────────────────┴───────────────┘\n",
       "</pre>\n"
      ],
      "text/plain": [
       "┏━━━━━━━━━━━━━━━━━━━━━━━━━━━━━━━━━┳━━━━━━━━━━━━━━━━━━━━━━━━┳━━━━━━━━━━━━━━━┓\n",
       "┃\u001b[1m \u001b[0m\u001b[1mLayer (type)                   \u001b[0m\u001b[1m \u001b[0m┃\u001b[1m \u001b[0m\u001b[1mOutput Shape          \u001b[0m\u001b[1m \u001b[0m┃\u001b[1m \u001b[0m\u001b[1m      Param #\u001b[0m\u001b[1m \u001b[0m┃\n",
       "┡━━━━━━━━━━━━━━━━━━━━━━━━━━━━━━━━━╇━━━━━━━━━━━━━━━━━━━━━━━━╇━━━━━━━━━━━━━━━┩\n",
       "│ conv1d_42 (\u001b[38;5;33mConv1D\u001b[0m)              │ (\u001b[38;5;45mNone\u001b[0m, \u001b[38;5;34m186\u001b[0m, \u001b[38;5;34m16\u001b[0m)        │            \u001b[38;5;34m32\u001b[0m │\n",
       "├─────────────────────────────────┼────────────────────────┼───────────────┤\n",
       "│ max_pooling1d_42 (\u001b[38;5;33mMaxPooling1D\u001b[0m) │ (\u001b[38;5;45mNone\u001b[0m, \u001b[38;5;34m93\u001b[0m, \u001b[38;5;34m16\u001b[0m)         │             \u001b[38;5;34m0\u001b[0m │\n",
       "├─────────────────────────────────┼────────────────────────┼───────────────┤\n",
       "│ batch_normalization_42          │ (\u001b[38;5;45mNone\u001b[0m, \u001b[38;5;34m93\u001b[0m, \u001b[38;5;34m16\u001b[0m)         │            \u001b[38;5;34m64\u001b[0m │\n",
       "│ (\u001b[38;5;33mBatchNormalization\u001b[0m)            │                        │               │\n",
       "├─────────────────────────────────┼────────────────────────┼───────────────┤\n",
       "│ lstm_42 (\u001b[38;5;33mLSTM\u001b[0m)                  │ (\u001b[38;5;45mNone\u001b[0m, \u001b[38;5;34m93\u001b[0m, \u001b[38;5;34m16\u001b[0m)         │         \u001b[38;5;34m2,112\u001b[0m │\n",
       "├─────────────────────────────────┼────────────────────────┼───────────────┤\n",
       "│ conv1d_43 (\u001b[38;5;33mConv1D\u001b[0m)              │ (\u001b[38;5;45mNone\u001b[0m, \u001b[38;5;34m91\u001b[0m, \u001b[38;5;34m32\u001b[0m)         │         \u001b[38;5;34m1,568\u001b[0m │\n",
       "├─────────────────────────────────┼────────────────────────┼───────────────┤\n",
       "│ max_pooling1d_43 (\u001b[38;5;33mMaxPooling1D\u001b[0m) │ (\u001b[38;5;45mNone\u001b[0m, \u001b[38;5;34m45\u001b[0m, \u001b[38;5;34m32\u001b[0m)         │             \u001b[38;5;34m0\u001b[0m │\n",
       "├─────────────────────────────────┼────────────────────────┼───────────────┤\n",
       "│ batch_normalization_43          │ (\u001b[38;5;45mNone\u001b[0m, \u001b[38;5;34m45\u001b[0m, \u001b[38;5;34m32\u001b[0m)         │           \u001b[38;5;34m128\u001b[0m │\n",
       "│ (\u001b[38;5;33mBatchNormalization\u001b[0m)            │                        │               │\n",
       "├─────────────────────────────────┼────────────────────────┼───────────────┤\n",
       "│ lstm_43 (\u001b[38;5;33mLSTM\u001b[0m)                  │ (\u001b[38;5;45mNone\u001b[0m, \u001b[38;5;34m45\u001b[0m, \u001b[38;5;34m32\u001b[0m)         │         \u001b[38;5;34m8,320\u001b[0m │\n",
       "├─────────────────────────────────┼────────────────────────┼───────────────┤\n",
       "│ conv1d_44 (\u001b[38;5;33mConv1D\u001b[0m)              │ (\u001b[38;5;45mNone\u001b[0m, \u001b[38;5;34m41\u001b[0m, \u001b[38;5;34m64\u001b[0m)         │        \u001b[38;5;34m10,304\u001b[0m │\n",
       "├─────────────────────────────────┼────────────────────────┼───────────────┤\n",
       "│ max_pooling1d_44 (\u001b[38;5;33mMaxPooling1D\u001b[0m) │ (\u001b[38;5;45mNone\u001b[0m, \u001b[38;5;34m20\u001b[0m, \u001b[38;5;34m64\u001b[0m)         │             \u001b[38;5;34m0\u001b[0m │\n",
       "├─────────────────────────────────┼────────────────────────┼───────────────┤\n",
       "│ batch_normalization_44          │ (\u001b[38;5;45mNone\u001b[0m, \u001b[38;5;34m20\u001b[0m, \u001b[38;5;34m64\u001b[0m)         │           \u001b[38;5;34m256\u001b[0m │\n",
       "│ (\u001b[38;5;33mBatchNormalization\u001b[0m)            │                        │               │\n",
       "├─────────────────────────────────┼────────────────────────┼───────────────┤\n",
       "│ lstm_44 (\u001b[38;5;33mLSTM\u001b[0m)                  │ (\u001b[38;5;45mNone\u001b[0m, \u001b[38;5;34m64\u001b[0m)             │        \u001b[38;5;34m33,024\u001b[0m │\n",
       "├─────────────────────────────────┼────────────────────────┼───────────────┤\n",
       "│ dense_28 (\u001b[38;5;33mDense\u001b[0m)                │ (\u001b[38;5;45mNone\u001b[0m, \u001b[38;5;34m64\u001b[0m)             │         \u001b[38;5;34m4,160\u001b[0m │\n",
       "├─────────────────────────────────┼────────────────────────┼───────────────┤\n",
       "│ dropout_14 (\u001b[38;5;33mDropout\u001b[0m)            │ (\u001b[38;5;45mNone\u001b[0m, \u001b[38;5;34m64\u001b[0m)             │             \u001b[38;5;34m0\u001b[0m │\n",
       "├─────────────────────────────────┼────────────────────────┼───────────────┤\n",
       "│ dense_29 (\u001b[38;5;33mDense\u001b[0m)                │ (\u001b[38;5;45mNone\u001b[0m, \u001b[38;5;34m10\u001b[0m)             │           \u001b[38;5;34m650\u001b[0m │\n",
       "└─────────────────────────────────┴────────────────────────┴───────────────┘\n"
      ]
     },
     "metadata": {},
     "output_type": "display_data"
    },
    {
     "data": {
      "text/html": [
       "<pre style=\"white-space:pre;overflow-x:auto;line-height:normal;font-family:Menlo,'DejaVu Sans Mono',consolas,'Courier New',monospace\"><span style=\"font-weight: bold\"> Total params: </span><span style=\"color: #00af00; text-decoration-color: #00af00\">60,618</span> (236.79 KB)\n",
       "</pre>\n"
      ],
      "text/plain": [
       "\u001b[1m Total params: \u001b[0m\u001b[38;5;34m60,618\u001b[0m (236.79 KB)\n"
      ]
     },
     "metadata": {},
     "output_type": "display_data"
    },
    {
     "data": {
      "text/html": [
       "<pre style=\"white-space:pre;overflow-x:auto;line-height:normal;font-family:Menlo,'DejaVu Sans Mono',consolas,'Courier New',monospace\"><span style=\"font-weight: bold\"> Trainable params: </span><span style=\"color: #00af00; text-decoration-color: #00af00\">60,394</span> (235.91 KB)\n",
       "</pre>\n"
      ],
      "text/plain": [
       "\u001b[1m Trainable params: \u001b[0m\u001b[38;5;34m60,394\u001b[0m (235.91 KB)\n"
      ]
     },
     "metadata": {},
     "output_type": "display_data"
    },
    {
     "data": {
      "text/html": [
       "<pre style=\"white-space:pre;overflow-x:auto;line-height:normal;font-family:Menlo,'DejaVu Sans Mono',consolas,'Courier New',monospace\"><span style=\"font-weight: bold\"> Non-trainable params: </span><span style=\"color: #00af00; text-decoration-color: #00af00\">224</span> (896.00 B)\n",
       "</pre>\n"
      ],
      "text/plain": [
       "\u001b[1m Non-trainable params: \u001b[0m\u001b[38;5;34m224\u001b[0m (896.00 B)\n"
      ]
     },
     "metadata": {},
     "output_type": "display_data"
    }
   ],
   "source": [
    "n_features = x_train_resampled.shape[1]  # Number of features from training data\n",
    "\n",
    "# Define the model\n",
    "model = Sequential()\n",
    "\n",
    "# First convolutional block\n",
    "model.add(Conv1D(filters=16, kernel_size=1, activation='relu', input_shape=(n_features,1)))\n",
    "model.add(MaxPooling1D(pool_size=2))\n",
    "model.add(BatchNormalization())\n",
    "\n",
    "# First LSTM block\n",
    "model.add(LSTM(units=16, return_sequences=True))\n",
    "#model.add(Dropout(0.2))  # Added dropout after LSTM\n",
    "\n",
    "# Second convolutional block\n",
    "model.add(Conv1D(filters=32, kernel_size=3, activation='relu'))\n",
    "model.add(MaxPooling1D(pool_size=2))\n",
    "model.add(BatchNormalization())\n",
    "\n",
    "# Second LSTM block\n",
    "model.add(LSTM(units=32, return_sequences=True))\n",
    "#model.add(Dropout(0.2))  # Added dropout after LSTM\n",
    "\n",
    "# Third convolutional block\n",
    "model.add(Conv1D(filters=64, kernel_size=5, activation='relu'))\n",
    "model.add(MaxPooling1D(pool_size=2))\n",
    "model.add(BatchNormalization())\n",
    "\n",
    "# Third LSTM block\n",
    "model.add(LSTM(units=64))\n",
    "#model.add(Dropout(0.2))  # Added dropout after LSTM\n",
    "\n",
    "# Dense layers\n",
    "model.add(Dense(64, activation='relu'))\n",
    "model.add(Dropout(0.2))  # Adjusted dropout rate for dense layer\n",
    "\n",
    "model.add(Dense(10, activation='softmax'))  # Output layer for 10 classes\n",
    "\n",
    "# Compile the model\n",
    "optimizer = tf.keras.optimizers.AdamW(learning_rate=0.001, weight_decay=1e-4)\n",
    "model.compile(optimizer=optimizer, loss='categorical_crossentropy', metrics=['accuracy', tf.keras.metrics.Precision(), tf.keras.metrics.Recall()])\n",
    "\n",
    "model.summary()"
   ]
  },
  {
   "cell_type": "code",
   "execution_count": 995,
   "id": "27060e87-7219-476e-ae29-7511f2d6cb24",
   "metadata": {},
   "outputs": [],
   "source": [
    "def create_model():\n",
    "    n_features = x_train_resampled.shape[1]  # Number of features from training data\n",
    "\n",
    "    # Define the model\n",
    "    model = Sequential()\n",
    "\n",
    "    # First convolutional block\n",
    "    model.add(Conv1D(filters=16, kernel_size=1, activation='relu', input_shape=(n_features,1)))\n",
    "    model.add(MaxPooling1D(pool_size=2))\n",
    "    model.add(BatchNormalization())\n",
    "\n",
    "    # First LSTM block\n",
    "    model.add(LSTM(units=16, return_sequences=True))\n",
    "    #model.add(Dropout(0.2))  # Added dropout after LSTM\n",
    "\n",
    "    # Second convolutional block\n",
    "    model.add(Conv1D(filters=32, kernel_size=3, activation='relu'))\n",
    "    model.add(MaxPooling1D(pool_size=2))\n",
    "    model.add(BatchNormalization())\n",
    "\n",
    "    # Second LSTM block\n",
    "    model.add(LSTM(units=32, return_sequences=True))\n",
    "    #model.add(Dropout(0.2))  # Added dropout after LSTM\n",
    "\n",
    "    # Third convolutional block\n",
    "    model.add(Conv1D(filters=64, kernel_size=5, activation='relu'))\n",
    "    model.add(MaxPooling1D(pool_size=2))\n",
    "    model.add(BatchNormalization())\n",
    "\n",
    "    # Third LSTM block\n",
    "    model.add(LSTM(units=64))\n",
    "    #model.add(Dropout(0.2))  # Added dropout after LSTM\n",
    "\n",
    "    # Dense layers\n",
    "    model.add(Dense(64, activation='relu'))\n",
    "    model.add(Dropout(0.2))  # Adjusted dropout rate for dense layer\n",
    "\n",
    "    model.add(Dense(10, activation='softmax'))  # Output layer for 10 classes\n",
    "    optimizer = tf.keras.optimizers.AdamW(learning_rate=0.001, weight_decay=1e-4)\n",
    "    model.compile(optimizer=optimizer, loss='categorical_crossentropy', metrics=['accuracy', tf.keras.metrics.Precision(), tf.keras.metrics.Recall()])\n",
    "    \n",
    "    return model"
   ]
  },
  {
   "cell_type": "code",
   "execution_count": 996,
   "id": "78a1a09e-b1f7-474a-88e1-71622d25f808",
   "metadata": {},
   "outputs": [
    {
     "name": "stdout",
     "output_type": "stream",
     "text": [
      "Epoch 1/5\n",
      "\u001b[1m621/621\u001b[0m \u001b[32m━━━━━━━━━━━━━━━━━━━━\u001b[0m\u001b[37m\u001b[0m \u001b[1m75s\u001b[0m 101ms/step - accuracy: 0.6925 - loss: 0.9181 - precision_14: 0.8620 - recall_14: 0.5416 - val_accuracy: 0.4832 - val_loss: 1.7948 - val_precision_14: 0.8174 - val_recall_14: 0.3698\n",
      "Epoch 2/5\n",
      "\u001b[1m621/621\u001b[0m \u001b[32m━━━━━━━━━━━━━━━━━━━━\u001b[0m\u001b[37m\u001b[0m \u001b[1m59s\u001b[0m 95ms/step - accuracy: 0.7804 - loss: 0.5733 - precision_14: 0.8948 - recall_14: 0.6849 - val_accuracy: 0.7668 - val_loss: 0.6051 - val_precision_14: 0.8967 - val_recall_14: 0.6613\n",
      "Epoch 3/5\n",
      "\u001b[1m621/621\u001b[0m \u001b[32m━━━━━━━━━━━━━━━━━━━━\u001b[0m\u001b[37m\u001b[0m \u001b[1m60s\u001b[0m 97ms/step - accuracy: 0.7876 - loss: 0.5491 - precision_14: 0.9001 - recall_14: 0.6958 - val_accuracy: 0.7780 - val_loss: 0.5798 - val_precision_14: 0.8816 - val_recall_14: 0.6780\n",
      "Epoch 4/5\n",
      "\u001b[1m621/621\u001b[0m \u001b[32m━━━━━━━━━━━━━━━━━━━━\u001b[0m\u001b[37m\u001b[0m \u001b[1m62s\u001b[0m 100ms/step - accuracy: 0.7957 - loss: 0.5244 - precision_14: 0.9035 - recall_14: 0.7079 - val_accuracy: 0.7994 - val_loss: 0.5192 - val_precision_14: 0.8929 - val_recall_14: 0.7106\n",
      "Epoch 5/5\n",
      "\u001b[1m621/621\u001b[0m \u001b[32m━━━━━━━━━━━━━━━━━━━━\u001b[0m\u001b[37m\u001b[0m \u001b[1m62s\u001b[0m 100ms/step - accuracy: 0.8008 - loss: 0.5114 - precision_14: 0.9057 - recall_14: 0.7155 - val_accuracy: 0.7723 - val_loss: 0.6149 - val_precision_14: 0.8683 - val_recall_14: 0.6869\n",
      "\u001b[1m1611/1611\u001b[0m \u001b[32m━━━━━━━━━━━━━━━━━━━━\u001b[0m\u001b[37m\u001b[0m \u001b[1m25s\u001b[0m 15ms/step - accuracy: 0.7709 - loss: 0.6105 - precision_14: 0.8682 - recall_14: 0.6847\n",
      "Test Loss: 0.6163322925567627\n",
      "Test Accuracy: 0.7699621319770813\n",
      "Test Precision: 0.8665207624435425\n",
      "Test Recall: 0.683632493019104\n"
     ]
    }
   ],
   "source": [
    "model = create_model()\n",
    "history = model.fit(x_train_resampled, y_train_resampled, epochs=5, batch_size=256,validation_data=(x_val,y_val))\n",
    "\n",
    " #Evaluate the model\n",
    "test_loss, test_accuracy, test_precision, test_recall = model.evaluate(x_test, y_test)\n",
    "print(\"Test Loss:\", test_loss)\n",
    "print(\"Test Accuracy:\", test_accuracy)\n",
    "print(\"Test Precision:\", test_precision)\n",
    "print(\"Test Recall:\", test_recall)"
   ]
  },
  {
   "cell_type": "code",
   "execution_count": 997,
   "id": "8155b69d-902b-4cb8-b8e7-5f73089b5a08",
   "metadata": {},
   "outputs": [
    {
     "name": "stdout",
     "output_type": "stream",
     "text": [
      "\u001b[1m1611/1611\u001b[0m \u001b[32m━━━━━━━━━━━━━━━━━━━━\u001b[0m\u001b[37m\u001b[0m \u001b[1m24s\u001b[0m 14ms/step\n"
     ]
    }
   ],
   "source": [
    "y_pred = model.predict(x_test)"
   ]
  },
  {
   "cell_type": "code",
   "execution_count": 998,
   "id": "ee518f5d-c1d1-4145-b294-2478acbc24d1",
   "metadata": {},
   "outputs": [],
   "source": [
    "from sklearn.metrics import confusion_matrix\n",
    "\n",
    "# Assuming y_test is your one-hot encoded ground truth (shape: n_samples x 10)\n",
    "# Assuming y_pred is your predicted probabilities (shape: n_samples x 10)\n",
    "\n",
    "# Get the predicted class index (one label per sample) for each sample\n",
    "y_pred_labels = np.argmax(y_pred, axis=1)  # Argmax along axis=1 gives the index of the maximum value in each row\n",
    "# Now you can use the confusion matrix with y_test and y_pred_labels\n",
    "cm = confusion_matrix(y_test.argmax(axis=1), y_pred_labels) "
   ]
  },
  {
   "cell_type": "code",
   "execution_count": 999,
   "id": "9640365e-fa99-4756-98cf-2e6c26d9ef1a",
   "metadata": {},
   "outputs": [
    {
     "data": {
      "image/png": "[encoded data removed]",
      "text/plain": [
       "<Figure size 900x900 with 2 Axes>"
      ]
     },
     "metadata": {},
     "output_type": "display_data"
    }
   ],
   "source": [
    "import matplotlib.pyplot as plt\n",
    "\n",
    "# Define labels for your classes (assuming you know the class names)\n",
    "class_names = attacks\n",
    "\n",
    "# Create a heatmap from the confusion matrix\n",
    "plt.figure(figsize=(9, 9))\n",
    "plt.imshow(cm, interpolation='nearest', cmap='Blues')\n",
    "plt.colorbar(label='Count')\n",
    "for i in range(len(class_names)):\n",
    "    for j in range(len(class_names)):\n",
    "        plt.text(j, i, cm[i, j], ha='center', va='center', fontsize=10)\n",
    "plt.xticks(range(len(class_names)), class_names, rotation=90, ha='right')\n",
    "plt.yticks(range(len(class_names)), class_names)\n",
    "plt.xlabel('Predicted Labels')\n",
    "plt.ylabel('True Labels')\n",
    "plt.title('Confusion Matrix')\n",
    "plt.grid(False)\n",
    "plt.show()"
   ]
  },
  {
   "cell_type": "code",
   "execution_count": 1050,
   "id": "53c7c25e-047b-4f05-b8ab-713ca58ddf9c",
   "metadata": {},
   "outputs": [],
   "source": [
    "model.save('multi_classifier_smotet_adamw.keras')"
   ]
  }
 ],
 "metadata": {
  "kernelspec": {
   "display_name": "Python 3 (ipykernel)",
   "language": "python",
   "name": "python3"
  },
  "language_info": {
   "codemirror_mode": {
    "name": "ipython",
    "version": 3
   },
   "file_extension": ".py",
   "mimetype": "text/x-python",
   "name": "python",
   "nbconvert_exporter": "python",
   "pygments_lexer": "ipython3",
   "version": "3.12.4"
  }
 },
 "nbformat": 4,
 "nbformat_minor": 5
}
