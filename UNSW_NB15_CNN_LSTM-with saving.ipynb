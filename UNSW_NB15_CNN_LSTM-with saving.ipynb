{
 "cells": [
  {
   "cell_type": "markdown",
   "id": "8693c8e4-1b8a-4e43-b287-ece1936c502e",
   "metadata": {},
   "source": [
    "reference = https://www.kaggle.com/code/saideepakdepally/ids-using-cnn-lstm/notebook#Training-the-model "
   ]
  },
  {
   "cell_type": "code",
   "execution_count": 2,
   "id": "bea7a093-60c9-4184-86c1-635a83d81728",
   "metadata": {},
   "outputs": [],
   "source": [
    "import pandas as pd\n",
    "import numpy as np\n",
    "import tensorflow as tf\n",
    "\n",
    "import matplotlib.pyplot as plt\n",
    "\n",
    "from sklearn.model_selection import train_test_split\n",
    "from sklearn.compose import ColumnTransformer\n",
    "from sklearn.preprocessing import OneHotEncoder\n",
    "from sklearn.preprocessing import StandardScaler\n",
    "from sklearn.preprocessing import LabelEncoder"
   ]
  },
  {
   "cell_type": "code",
   "execution_count": 3,
   "id": "ba96d534-8416-4a11-a728-7d6908752d01",
   "metadata": {},
   "outputs": [],
   "source": [
    "dfs = []\n",
    "for i in range(1,3):\n",
    "    path = \"archive/UNSW_NB15_{}.parquet\".format(i)\n",
    "    dfs.append(pd.read_parquet(path))\n",
    "combined_data = pd.concat(dfs).reset_index(drop=True)  # Concat all to a single df"
   ]
  },
  {
   "cell_type": "code",
   "execution_count": 4,
   "id": "2f92d769-a598-4439-aaa2-087cdcf369c3",
   "metadata": {},
   "outputs": [
    {
     "data": {
      "text/html": [
       "<div>\n",
       "<style scoped>\n",
       "    .dataframe tbody tr th:only-of-type {\n",
       "        vertical-align: middle;\n",
       "    }\n",
       "\n",
       "    .dataframe tbody tr th {\n",
       "        vertical-align: top;\n",
       "    }\n",
       "\n",
       "    .dataframe thead th {\n",
       "        text-align: right;\n",
       "    }\n",
       "</style>\n",
       "<table border=\"1\" class=\"dataframe\">\n",
       "  <thead>\n",
       "    <tr style=\"text-align: right;\">\n",
       "      <th></th>\n",
       "      <th>dur</th>\n",
       "      <th>proto</th>\n",
       "      <th>service</th>\n",
       "      <th>state</th>\n",
       "      <th>spkts</th>\n",
       "      <th>dpkts</th>\n",
       "      <th>sbytes</th>\n",
       "      <th>dbytes</th>\n",
       "      <th>rate</th>\n",
       "      <th>sload</th>\n",
       "      <th>...</th>\n",
       "      <th>trans_depth</th>\n",
       "      <th>response_body_len</th>\n",
       "      <th>ct_src_dport_ltm</th>\n",
       "      <th>ct_dst_sport_ltm</th>\n",
       "      <th>is_ftp_login</th>\n",
       "      <th>ct_ftp_cmd</th>\n",
       "      <th>ct_flw_http_mthd</th>\n",
       "      <th>is_sm_ips_ports</th>\n",
       "      <th>attack_cat</th>\n",
       "      <th>label</th>\n",
       "    </tr>\n",
       "  </thead>\n",
       "  <tbody>\n",
       "    <tr>\n",
       "      <th>0</th>\n",
       "      <td>0.000011</td>\n",
       "      <td>udp</td>\n",
       "      <td>-</td>\n",
       "      <td>INT</td>\n",
       "      <td>2</td>\n",
       "      <td>0</td>\n",
       "      <td>496</td>\n",
       "      <td>0</td>\n",
       "      <td>90909.093750</td>\n",
       "      <td>1.803636e+08</td>\n",
       "      <td>...</td>\n",
       "      <td>0</td>\n",
       "      <td>0</td>\n",
       "      <td>1</td>\n",
       "      <td>1</td>\n",
       "      <td>0</td>\n",
       "      <td>0</td>\n",
       "      <td>0</td>\n",
       "      <td>0</td>\n",
       "      <td>Normal</td>\n",
       "      <td>0</td>\n",
       "    </tr>\n",
       "    <tr>\n",
       "      <th>1</th>\n",
       "      <td>0.000008</td>\n",
       "      <td>udp</td>\n",
       "      <td>-</td>\n",
       "      <td>INT</td>\n",
       "      <td>2</td>\n",
       "      <td>0</td>\n",
       "      <td>1762</td>\n",
       "      <td>0</td>\n",
       "      <td>125000.000000</td>\n",
       "      <td>8.810000e+08</td>\n",
       "      <td>...</td>\n",
       "      <td>0</td>\n",
       "      <td>0</td>\n",
       "      <td>1</td>\n",
       "      <td>1</td>\n",
       "      <td>0</td>\n",
       "      <td>0</td>\n",
       "      <td>0</td>\n",
       "      <td>0</td>\n",
       "      <td>Normal</td>\n",
       "      <td>0</td>\n",
       "    </tr>\n",
       "    <tr>\n",
       "      <th>2</th>\n",
       "      <td>0.000005</td>\n",
       "      <td>udp</td>\n",
       "      <td>-</td>\n",
       "      <td>INT</td>\n",
       "      <td>2</td>\n",
       "      <td>0</td>\n",
       "      <td>1068</td>\n",
       "      <td>0</td>\n",
       "      <td>200000.000000</td>\n",
       "      <td>8.544000e+08</td>\n",
       "      <td>...</td>\n",
       "      <td>0</td>\n",
       "      <td>0</td>\n",
       "      <td>1</td>\n",
       "      <td>1</td>\n",
       "      <td>0</td>\n",
       "      <td>0</td>\n",
       "      <td>0</td>\n",
       "      <td>0</td>\n",
       "      <td>Normal</td>\n",
       "      <td>0</td>\n",
       "    </tr>\n",
       "    <tr>\n",
       "      <th>3</th>\n",
       "      <td>0.000006</td>\n",
       "      <td>udp</td>\n",
       "      <td>-</td>\n",
       "      <td>INT</td>\n",
       "      <td>2</td>\n",
       "      <td>0</td>\n",
       "      <td>900</td>\n",
       "      <td>0</td>\n",
       "      <td>166666.656250</td>\n",
       "      <td>6.000000e+08</td>\n",
       "      <td>...</td>\n",
       "      <td>0</td>\n",
       "      <td>0</td>\n",
       "      <td>2</td>\n",
       "      <td>1</td>\n",
       "      <td>0</td>\n",
       "      <td>0</td>\n",
       "      <td>0</td>\n",
       "      <td>0</td>\n",
       "      <td>Normal</td>\n",
       "      <td>0</td>\n",
       "    </tr>\n",
       "    <tr>\n",
       "      <th>4</th>\n",
       "      <td>0.000010</td>\n",
       "      <td>udp</td>\n",
       "      <td>-</td>\n",
       "      <td>INT</td>\n",
       "      <td>2</td>\n",
       "      <td>0</td>\n",
       "      <td>2126</td>\n",
       "      <td>0</td>\n",
       "      <td>100000.000000</td>\n",
       "      <td>8.504000e+08</td>\n",
       "      <td>...</td>\n",
       "      <td>0</td>\n",
       "      <td>0</td>\n",
       "      <td>2</td>\n",
       "      <td>1</td>\n",
       "      <td>0</td>\n",
       "      <td>0</td>\n",
       "      <td>0</td>\n",
       "      <td>0</td>\n",
       "      <td>Normal</td>\n",
       "      <td>0</td>\n",
       "    </tr>\n",
       "    <tr>\n",
       "      <th>5</th>\n",
       "      <td>0.000003</td>\n",
       "      <td>udp</td>\n",
       "      <td>-</td>\n",
       "      <td>INT</td>\n",
       "      <td>2</td>\n",
       "      <td>0</td>\n",
       "      <td>784</td>\n",
       "      <td>0</td>\n",
       "      <td>333333.312500</td>\n",
       "      <td>1.045333e+09</td>\n",
       "      <td>...</td>\n",
       "      <td>0</td>\n",
       "      <td>0</td>\n",
       "      <td>2</td>\n",
       "      <td>1</td>\n",
       "      <td>0</td>\n",
       "      <td>0</td>\n",
       "      <td>0</td>\n",
       "      <td>0</td>\n",
       "      <td>Normal</td>\n",
       "      <td>0</td>\n",
       "    </tr>\n",
       "    <tr>\n",
       "      <th>6</th>\n",
       "      <td>0.000006</td>\n",
       "      <td>udp</td>\n",
       "      <td>-</td>\n",
       "      <td>INT</td>\n",
       "      <td>2</td>\n",
       "      <td>0</td>\n",
       "      <td>1960</td>\n",
       "      <td>0</td>\n",
       "      <td>166666.656250</td>\n",
       "      <td>1.306667e+09</td>\n",
       "      <td>...</td>\n",
       "      <td>0</td>\n",
       "      <td>0</td>\n",
       "      <td>2</td>\n",
       "      <td>1</td>\n",
       "      <td>0</td>\n",
       "      <td>0</td>\n",
       "      <td>0</td>\n",
       "      <td>0</td>\n",
       "      <td>Normal</td>\n",
       "      <td>0</td>\n",
       "    </tr>\n",
       "    <tr>\n",
       "      <th>7</th>\n",
       "      <td>0.000028</td>\n",
       "      <td>udp</td>\n",
       "      <td>-</td>\n",
       "      <td>INT</td>\n",
       "      <td>2</td>\n",
       "      <td>0</td>\n",
       "      <td>1384</td>\n",
       "      <td>0</td>\n",
       "      <td>35714.285156</td>\n",
       "      <td>1.977143e+08</td>\n",
       "      <td>...</td>\n",
       "      <td>0</td>\n",
       "      <td>0</td>\n",
       "      <td>1</td>\n",
       "      <td>1</td>\n",
       "      <td>0</td>\n",
       "      <td>0</td>\n",
       "      <td>0</td>\n",
       "      <td>0</td>\n",
       "      <td>Normal</td>\n",
       "      <td>0</td>\n",
       "    </tr>\n",
       "    <tr>\n",
       "      <th>8</th>\n",
       "      <td>0.000000</td>\n",
       "      <td>arp</td>\n",
       "      <td>-</td>\n",
       "      <td>INT</td>\n",
       "      <td>1</td>\n",
       "      <td>0</td>\n",
       "      <td>46</td>\n",
       "      <td>0</td>\n",
       "      <td>0.000000</td>\n",
       "      <td>0.000000e+00</td>\n",
       "      <td>...</td>\n",
       "      <td>0</td>\n",
       "      <td>0</td>\n",
       "      <td>2</td>\n",
       "      <td>2</td>\n",
       "      <td>0</td>\n",
       "      <td>0</td>\n",
       "      <td>0</td>\n",
       "      <td>1</td>\n",
       "      <td>Normal</td>\n",
       "      <td>0</td>\n",
       "    </tr>\n",
       "    <tr>\n",
       "      <th>9</th>\n",
       "      <td>0.000000</td>\n",
       "      <td>arp</td>\n",
       "      <td>-</td>\n",
       "      <td>INT</td>\n",
       "      <td>1</td>\n",
       "      <td>0</td>\n",
       "      <td>46</td>\n",
       "      <td>0</td>\n",
       "      <td>0.000000</td>\n",
       "      <td>0.000000e+00</td>\n",
       "      <td>...</td>\n",
       "      <td>0</td>\n",
       "      <td>0</td>\n",
       "      <td>2</td>\n",
       "      <td>2</td>\n",
       "      <td>0</td>\n",
       "      <td>0</td>\n",
       "      <td>0</td>\n",
       "      <td>1</td>\n",
       "      <td>Normal</td>\n",
       "      <td>0</td>\n",
       "    </tr>\n",
       "  </tbody>\n",
       "</table>\n",
       "<p>10 rows × 36 columns</p>\n",
       "</div>"
      ],
      "text/plain": [
       "        dur proto service state  spkts  dpkts  sbytes  dbytes           rate  \\\n",
       "0  0.000011   udp       -   INT      2      0     496       0   90909.093750   \n",
       "1  0.000008   udp       -   INT      2      0    1762       0  125000.000000   \n",
       "2  0.000005   udp       -   INT      2      0    1068       0  200000.000000   \n",
       "3  0.000006   udp       -   INT      2      0     900       0  166666.656250   \n",
       "4  0.000010   udp       -   INT      2      0    2126       0  100000.000000   \n",
       "5  0.000003   udp       -   INT      2      0     784       0  333333.312500   \n",
       "6  0.000006   udp       -   INT      2      0    1960       0  166666.656250   \n",
       "7  0.000028   udp       -   INT      2      0    1384       0   35714.285156   \n",
       "8  0.000000   arp       -   INT      1      0      46       0       0.000000   \n",
       "9  0.000000   arp       -   INT      1      0      46       0       0.000000   \n",
       "\n",
       "          sload  ...  trans_depth  response_body_len  ct_src_dport_ltm  \\\n",
       "0  1.803636e+08  ...            0                  0                 1   \n",
       "1  8.810000e+08  ...            0                  0                 1   \n",
       "2  8.544000e+08  ...            0                  0                 1   \n",
       "3  6.000000e+08  ...            0                  0                 2   \n",
       "4  8.504000e+08  ...            0                  0                 2   \n",
       "5  1.045333e+09  ...            0                  0                 2   \n",
       "6  1.306667e+09  ...            0                  0                 2   \n",
       "7  1.977143e+08  ...            0                  0                 1   \n",
       "8  0.000000e+00  ...            0                  0                 2   \n",
       "9  0.000000e+00  ...            0                  0                 2   \n",
       "\n",
       "   ct_dst_sport_ltm  is_ftp_login  ct_ftp_cmd  ct_flw_http_mthd  \\\n",
       "0                 1             0           0                 0   \n",
       "1                 1             0           0                 0   \n",
       "2                 1             0           0                 0   \n",
       "3                 1             0           0                 0   \n",
       "4                 1             0           0                 0   \n",
       "5                 1             0           0                 0   \n",
       "6                 1             0           0                 0   \n",
       "7                 1             0           0                 0   \n",
       "8                 2             0           0                 0   \n",
       "9                 2             0           0                 0   \n",
       "\n",
       "   is_sm_ips_ports  attack_cat  label  \n",
       "0                0      Normal      0  \n",
       "1                0      Normal      0  \n",
       "2                0      Normal      0  \n",
       "3                0      Normal      0  \n",
       "4                0      Normal      0  \n",
       "5                0      Normal      0  \n",
       "6                0      Normal      0  \n",
       "7                0      Normal      0  \n",
       "8                1      Normal      0  \n",
       "9                1      Normal      0  \n",
       "\n",
       "[10 rows x 36 columns]"
      ]
     },
     "execution_count": 4,
     "metadata": {},
     "output_type": "execute_result"
    }
   ],
   "source": [
    "combined_data.head(10)"
   ]
  },
  {
   "cell_type": "code",
   "execution_count": 5,
   "id": "7d5dd520-1634-4680-bf57-f76f9c1ee2ea",
   "metadata": {},
   "outputs": [
    {
     "name": "stdout",
     "output_type": "stream",
     "text": [
      "Index(['dur', 'proto', 'service', 'state', 'spkts', 'dpkts', 'sbytes',\n",
      "       'dbytes', 'rate', 'sload', 'dload', 'sloss', 'dloss', 'sinpkt',\n",
      "       'dinpkt', 'sjit', 'djit', 'swin', 'stcpb', 'dtcpb', 'dwin', 'tcprtt',\n",
      "       'synack', 'ackdat', 'smean', 'dmean', 'trans_depth',\n",
      "       'response_body_len', 'ct_src_dport_ltm', 'ct_dst_sport_ltm',\n",
      "       'is_ftp_login', 'ct_ftp_cmd', 'ct_flw_http_mthd', 'is_sm_ips_ports',\n",
      "       'attack_cat', 'label'],\n",
      "      dtype='object')\n"
     ]
    }
   ],
   "source": [
    "print(combined_data.columns)"
   ]
  },
  {
   "cell_type": "code",
   "execution_count": 6,
   "id": "fa25dde4-4a84-4913-9f7f-275fe46bd7b6",
   "metadata": {},
   "outputs": [
    {
     "data": {
      "text/plain": [
       "state\n",
       "FIN    117164\n",
       "INT    116438\n",
       "CON     20134\n",
       "REQ      3833\n",
       "RST        84\n",
       "ECO        12\n",
       "ACC         4\n",
       "CLO         1\n",
       "PAR         1\n",
       "URN         1\n",
       "no          1\n",
       "Name: count, dtype: int64"
      ]
     },
     "execution_count": 6,
     "metadata": {},
     "output_type": "execute_result"
    }
   ],
   "source": [
    "combined_data['state'].value_counts()"
   ]
  },
  {
   "cell_type": "code",
   "execution_count": 7,
   "id": "0e52b2f3-89cf-4104-b221-105d6ed8055b",
   "metadata": {},
   "outputs": [
    {
     "data": {
      "text/plain": [
       "attack_cat\n",
       "Normal            93000\n",
       "Generic           58871\n",
       "Exploits          44525\n",
       "Fuzzers           24246\n",
       "DoS               16353\n",
       "Reconnaissance    13987\n",
       "Analysis           2677\n",
       "Backdoor           2329\n",
       "Shellcode          1511\n",
       "Worms               174\n",
       "Name: count, dtype: int64"
      ]
     },
     "execution_count": 7,
     "metadata": {},
     "output_type": "execute_result"
    }
   ],
   "source": [
    "combined_data['attack_cat'].value_counts()"
   ]
  },
  {
   "cell_type": "code",
   "execution_count": 8,
   "id": "98648d3d-fc74-4720-aefb-20e8dc2fc111",
   "metadata": {},
   "outputs": [
    {
     "data": {
      "text/plain": [
       "(257673, 36)"
      ]
     },
     "execution_count": 8,
     "metadata": {},
     "output_type": "execute_result"
    }
   ],
   "source": [
    "combined_data.shape"
   ]
  },
  {
   "cell_type": "code",
   "execution_count": 9,
   "id": "9822c2a4-6697-4853-ac8b-d9ded0747c51",
   "metadata": {},
   "outputs": [
    {
     "data": {
      "text/plain": [
       "112451"
      ]
     },
     "execution_count": 9,
     "metadata": {},
     "output_type": "execute_result"
    }
   ],
   "source": [
    "combined_data.duplicated().sum()"
   ]
  },
  {
   "cell_type": "code",
   "execution_count": 10,
   "id": "2f4bc10d-5c06-4225-a217-f68b9d68f708",
   "metadata": {},
   "outputs": [
    {
     "name": "stderr",
     "output_type": "stream",
     "text": [
      "C:\\Users\\sehat\\AppData\\Local\\Temp\\ipykernel_6008\\1714932844.py:4: FutureWarning: The default of observed=False is deprecated and will be changed to True in a future version of pandas. Pass observed=False to retain current behavior or observed=True to adopt the future default and silence this warning.\n",
      "  consistent_attack_cat = combined_data.groupby(subset_cols)['attack_cat'].transform(lambda x: x.nunique() == 1)\n"
     ]
    }
   ],
   "source": [
    "subset_cols = combined_data.columns.difference(['attack_cat']).tolist()\n",
    "duplicate_sig = combined_data.duplicated(subset=subset_cols, keep=False) #identify duplicates based on all columns except 'attack_cat'\n",
    "\n",
    "consistent_attack_cat = combined_data.groupby(subset_cols)['attack_cat'].transform(lambda x: x.nunique() == 1)\n",
    "#group by the subset columns and check if 'attack_cat' is consistent within each group\n",
    "\n",
    "combined_data = combined_data[~duplicate_sig | (duplicate_sig & consistent_attack_cat)]\n",
    "#filter rows and keep rows that are either: not duplicates, or duplicates with consistent 'attack_cat' values"
   ]
  },
  {
   "cell_type": "code",
   "execution_count": 11,
   "id": "92f5df14-77ce-4312-a334-29437c78abaa",
   "metadata": {},
   "outputs": [
    {
     "data": {
      "text/plain": [
       "80597"
      ]
     },
     "execution_count": 11,
     "metadata": {},
     "output_type": "execute_result"
    }
   ],
   "source": [
    "combined_data.duplicated().sum()"
   ]
  },
  {
   "cell_type": "code",
   "execution_count": 12,
   "id": "c0d1e7cb-520d-43f1-a86f-0eb63a16e4f8",
   "metadata": {},
   "outputs": [
    {
     "data": {
      "text/plain": [
       "(218321, 36)"
      ]
     },
     "execution_count": 12,
     "metadata": {},
     "output_type": "execute_result"
    }
   ],
   "source": [
    "combined_data.shape"
   ]
  },
  {
   "cell_type": "code",
   "execution_count": 13,
   "id": "9791a234-8d17-4d20-9df8-49f6d19b2b93",
   "metadata": {},
   "outputs": [
    {
     "data": {
      "text/plain": [
       "attack_cat\n",
       "Normal            93000\n",
       "Generic           58450\n",
       "Exploits          27973\n",
       "Fuzzers           21263\n",
       "Reconnaissance    11496\n",
       "DoS                3634\n",
       "Shellcode          1383\n",
       "Analysis            616\n",
       "Backdoor            352\n",
       "Worms               154\n",
       "Name: count, dtype: int64"
      ]
     },
     "execution_count": 13,
     "metadata": {},
     "output_type": "execute_result"
    }
   ],
   "source": [
    "combined_data['attack_cat'].value_counts()"
   ]
  },
  {
   "cell_type": "code",
   "execution_count": 152,
   "id": "5b1b057f-6915-48f1-87c4-228d97251c76",
   "metadata": {},
   "outputs": [
    {
     "data": {
      "text/plain": [
       "proto\n",
       "tcp     122528\n",
       "udp      91775\n",
       "arp       3846\n",
       "ospf       108\n",
       "igmp        48\n",
       "icmp        15\n",
       "rtp          1\n",
       "Name: count, dtype: int64"
      ]
     },
     "execution_count": 152,
     "metadata": {},
     "output_type": "execute_result"
    }
   ],
   "source": [
    "combined_data['proto'].value_counts()"
   ]
  },
  {
   "cell_type": "code",
   "execution_count": 14,
   "id": "fac2780f-5763-41ba-b36a-2768cfd05635",
   "metadata": {},
   "outputs": [
    {
     "data": {
      "text/plain": [
       "is_ftp_login\n",
       "0    215079\n",
       "1      3216\n",
       "4        16\n",
       "2        10\n",
       "Name: count, dtype: int64"
      ]
     },
     "execution_count": 14,
     "metadata": {},
     "output_type": "execute_result"
    }
   ],
   "source": [
    "combined_data['is_ftp_login'].value_counts()"
   ]
  },
  {
   "cell_type": "code",
   "execution_count": 15,
   "id": "92455ec1-a675-4eb7-90b8-4a346900d2a1",
   "metadata": {},
   "outputs": [],
   "source": [
    "combined_data['is_ftp_login'] = np.where(combined_data['is_ftp_login']>1, 1, combined_data['is_ftp_login'])"
   ]
  },
  {
   "cell_type": "code",
   "execution_count": 16,
   "id": "da0ca95a-dae8-4393-82d6-cfa1f5154105",
   "metadata": {},
   "outputs": [
    {
     "data": {
      "text/plain": [
       "is_ftp_login\n",
       "0    215079\n",
       "1      3242\n",
       "Name: count, dtype: int64"
      ]
     },
     "execution_count": 16,
     "metadata": {},
     "output_type": "execute_result"
    }
   ],
   "source": [
    "combined_data['is_ftp_login'].value_counts()"
   ]
  },
  {
   "cell_type": "code",
   "execution_count": 17,
   "id": "3a8bbdd1-f87c-4dee-9063-7b4ed4638d66",
   "metadata": {},
   "outputs": [
    {
     "data": {
      "text/plain": [
       "service\n",
       "-           102621\n",
       "dns          68624\n",
       "http         26544\n",
       "smtp          6895\n",
       "ftp-data      5391\n",
       "ftp           4974\n",
       "pop3          1528\n",
       "ssh           1506\n",
       "ssl             86\n",
       "snmp            59\n",
       "dhcp            42\n",
       "irc             30\n",
       "radius          21\n",
       "Name: count, dtype: int64"
      ]
     },
     "execution_count": 17,
     "metadata": {},
     "output_type": "execute_result"
    }
   ],
   "source": [
    "combined_data['service'].value_counts()"
   ]
  },
  {
   "cell_type": "code",
   "execution_count": 18,
   "id": "60110606-dda0-4741-bc3b-1ef833888318",
   "metadata": {},
   "outputs": [],
   "source": [
    "combined_data['service'] = combined_data['service'].apply(lambda x:\"None\" if x=='-' else x)"
   ]
  },
  {
   "cell_type": "code",
   "execution_count": 19,
   "id": "192416fc-c483-4a44-a3f5-dd362e340c28",
   "metadata": {},
   "outputs": [
    {
     "data": {
      "text/plain": [
       "service\n",
       "None        102621\n",
       "dns          68624\n",
       "http         26544\n",
       "smtp          6895\n",
       "ftp-data      5391\n",
       "ftp           4974\n",
       "pop3          1528\n",
       "ssh           1506\n",
       "ssl             86\n",
       "snmp            59\n",
       "dhcp            42\n",
       "irc             30\n",
       "radius          21\n",
       "Name: count, dtype: int64"
      ]
     },
     "execution_count": 19,
     "metadata": {},
     "output_type": "execute_result"
    }
   ],
   "source": [
    "combined_data['service'].value_counts()"
   ]
  },
  {
   "cell_type": "code",
   "execution_count": 20,
   "id": "5fe719ad-c375-4b10-961f-e04a5703bac6",
   "metadata": {},
   "outputs": [
    {
     "data": {
      "text/plain": [
       "(218321, 36)"
      ]
     },
     "execution_count": 20,
     "metadata": {},
     "output_type": "execute_result"
    }
   ],
   "source": [
    "combined_data.shape"
   ]
  },
  {
   "cell_type": "code",
   "execution_count": 21,
   "id": "ebd4f80f-675e-471d-990a-f87e3ac87876",
   "metadata": {},
   "outputs": [],
   "source": [
    "combined_data.drop(columns=['label'],inplace=True) #I want prediction of the attack type not generic of whether it's an attack or not"
   ]
  },
  {
   "cell_type": "code",
   "execution_count": 22,
   "id": "f3cafd9f-f3bd-4c59-a087-ada3cfb1a217",
   "metadata": {},
   "outputs": [],
   "source": [
    "train, test = train_test_split(combined_data,test_size=0.2,random_state=16)\n",
    "train, val = train_test_split(train,test_size=0.2,random_state=16)"
   ]
  },
  {
   "cell_type": "code",
   "execution_count": 23,
   "id": "e55aec5a-34bb-440b-af75-a72447ca459d",
   "metadata": {},
   "outputs": [
    {
     "data": {
      "text/plain": [
       "((139724, 34), (139724, 1))"
      ]
     },
     "execution_count": 23,
     "metadata": {},
     "output_type": "execute_result"
    }
   ],
   "source": [
    "x_train, y_train = train.drop(columns=['attack_cat']), train[['attack_cat']]\n",
    "x_test, y_test = test.drop(columns=['attack_cat']), test[['attack_cat']]\n",
    "x_val, y_val = val.drop(columns=['attack_cat']), val[['attack_cat']]\n",
    "\n",
    "x_train.shape, y_train.shape"
   ]
  },
  {
   "cell_type": "code",
   "execution_count": 24,
   "id": "3125af0a-4dd4-4503-a716-b876da313cb9",
   "metadata": {},
   "outputs": [
    {
     "data": {
      "text/plain": [
       "((43665, 34), (43665, 1))"
      ]
     },
     "execution_count": 24,
     "metadata": {},
     "output_type": "execute_result"
    }
   ],
   "source": [
    "x_test.shape, y_test.shape"
   ]
  },
  {
   "cell_type": "code",
   "execution_count": 25,
   "id": "4916bdfe-a2c8-433e-a449-f863669d9de1",
   "metadata": {},
   "outputs": [
    {
     "data": {
      "text/plain": [
       "((34932, 34), (34932, 1))"
      ]
     },
     "execution_count": 25,
     "metadata": {},
     "output_type": "execute_result"
    }
   ],
   "source": [
    "x_val.shape, y_val.shape"
   ]
  },
  {
   "cell_type": "code",
   "execution_count": 26,
   "id": "a96c168e-1878-425b-b6ad-798c2ca5e902",
   "metadata": {},
   "outputs": [
    {
     "data": {
      "text/plain": [
       "attack_cat\n",
       "Normal            59433\n",
       "Generic           37542\n",
       "Exploits          17959\n",
       "Fuzzers           13577\n",
       "Reconnaissance     7289\n",
       "DoS                2356\n",
       "Shellcode           875\n",
       "Analysis            390\n",
       "Backdoor            207\n",
       "Worms                96\n",
       "Name: count, dtype: int64"
      ]
     },
     "execution_count": 26,
     "metadata": {},
     "output_type": "execute_result"
    }
   ],
   "source": [
    "y_train['attack_cat'].value_counts()"
   ]
  },
  {
   "cell_type": "code",
   "execution_count": 27,
   "id": "08244437-a87c-4f79-8102-90a9bc530c23",
   "metadata": {},
   "outputs": [
    {
     "data": {
      "text/plain": [
       "attack_cat\n",
       "Normal            14915\n",
       "Generic            9330\n",
       "Exploits           4450\n",
       "Fuzzers            3417\n",
       "Reconnaissance     1834\n",
       "DoS                 565\n",
       "Shellcode           233\n",
       "Analysis             98\n",
       "Backdoor             65\n",
       "Worms                25\n",
       "Name: count, dtype: int64"
      ]
     },
     "execution_count": 27,
     "metadata": {},
     "output_type": "execute_result"
    }
   ],
   "source": [
    "y_val['attack_cat'].value_counts()"
   ]
  },
  {
   "cell_type": "code",
   "execution_count": 28,
   "id": "8473b25a-2786-4316-b902-3cb47751d914",
   "metadata": {},
   "outputs": [
    {
     "data": {
      "text/plain": [
       "attack_cat\n",
       "Normal            18652\n",
       "Generic           11578\n",
       "Exploits           5564\n",
       "Fuzzers            4269\n",
       "Reconnaissance     2373\n",
       "DoS                 713\n",
       "Shellcode           275\n",
       "Analysis            128\n",
       "Backdoor             80\n",
       "Worms                33\n",
       "Name: count, dtype: int64"
      ]
     },
     "execution_count": 28,
     "metadata": {},
     "output_type": "execute_result"
    }
   ],
   "source": [
    "y_test['attack_cat'].value_counts()"
   ]
  },
  {
   "cell_type": "code",
   "execution_count": 29,
   "id": "584fe105-ff07-48b2-ad4e-a62e1eddccb5",
   "metadata": {},
   "outputs": [
    {
     "name": "stdout",
     "output_type": "stream",
     "text": [
      "<class 'pandas.core.frame.DataFrame'>\n",
      "Index: 218321 entries, 0 to 257672\n",
      "Data columns (total 35 columns):\n",
      " #   Column             Non-Null Count   Dtype   \n",
      "---  ------             --------------   -----   \n",
      " 0   dur                218321 non-null  float32 \n",
      " 1   proto              218321 non-null  object  \n",
      " 2   service            218321 non-null  category\n",
      " 3   state              218321 non-null  object  \n",
      " 4   spkts              218321 non-null  int16   \n",
      " 5   dpkts              218321 non-null  int16   \n",
      " 6   sbytes             218321 non-null  int32   \n",
      " 7   dbytes             218321 non-null  int32   \n",
      " 8   rate               218321 non-null  float32 \n",
      " 9   sload              218321 non-null  float32 \n",
      " 10  dload              218321 non-null  float32 \n",
      " 11  sloss              218321 non-null  int16   \n",
      " 12  dloss              218321 non-null  int16   \n",
      " 13  sinpkt             218321 non-null  float32 \n",
      " 14  dinpkt             218321 non-null  float32 \n",
      " 15  sjit               218321 non-null  float32 \n",
      " 16  djit               218321 non-null  float32 \n",
      " 17  swin               218321 non-null  int16   \n",
      " 18  stcpb              218321 non-null  int64   \n",
      " 19  dtcpb              218321 non-null  int64   \n",
      " 20  dwin               218321 non-null  int16   \n",
      " 21  tcprtt             218321 non-null  float32 \n",
      " 22  synack             218321 non-null  float32 \n",
      " 23  ackdat             218321 non-null  float32 \n",
      " 24  smean              218321 non-null  int16   \n",
      " 25  dmean              218321 non-null  int16   \n",
      " 26  trans_depth        218321 non-null  int16   \n",
      " 27  response_body_len  218321 non-null  int32   \n",
      " 28  ct_src_dport_ltm   218321 non-null  int8    \n",
      " 29  ct_dst_sport_ltm   218321 non-null  int8    \n",
      " 30  is_ftp_login       218321 non-null  int8    \n",
      " 31  ct_ftp_cmd         218321 non-null  int8    \n",
      " 32  ct_flw_http_mthd   218321 non-null  int8    \n",
      " 33  is_sm_ips_ports    218321 non-null  int8    \n",
      " 34  attack_cat         218321 non-null  category\n",
      "dtypes: category(2), float32(11), int16(9), int32(3), int64(2), int8(6), object(2)\n",
      "memory usage: 25.4+ MB\n"
     ]
    }
   ],
   "source": [
    "combined_data.info()"
   ]
  },
  {
   "cell_type": "code",
   "execution_count": 30,
   "id": "60409cce-6d35-493b-af6e-981d8da826a6",
   "metadata": {},
   "outputs": [],
   "source": [
    "cat_col = ['proto', 'service', 'state']\n",
    "num_col = list(set(x_train.columns) - set(cat_col))"
   ]
  },
  {
   "cell_type": "code",
   "execution_count": 31,
   "id": "b5b4917c-de44-407f-9a45-a8ea1e2c4d15",
   "metadata": {},
   "outputs": [
    {
     "name": "stdout",
     "output_type": "stream",
     "text": [
      "proto        object\n",
      "service    category\n",
      "state        object\n",
      "dtype: object\n"
     ]
    }
   ],
   "source": [
    "print(train[cat_col].dtypes)"
   ]
  },
  {
   "cell_type": "code",
   "execution_count": 32,
   "id": "611bbf17-5e2b-4440-9485-d11b81bcd9a4",
   "metadata": {},
   "outputs": [
    {
     "name": "stdout",
     "output_type": "stream",
     "text": [
      "sbytes                 int32\n",
      "dloss                  int16\n",
      "ct_dst_sport_ltm        int8\n",
      "dur                  float32\n",
      "ct_flw_http_mthd        int8\n",
      "dmean                  int16\n",
      "sload                float32\n",
      "synack               float32\n",
      "dload                float32\n",
      "sinpkt               float32\n",
      "rate                 float32\n",
      "sjit                 float32\n",
      "spkts                  int16\n",
      "swin                   int16\n",
      "trans_depth            int16\n",
      "tcprtt               float32\n",
      "ct_src_dport_ltm        int8\n",
      "dinpkt               float32\n",
      "smean                  int16\n",
      "dpkts                  int16\n",
      "sloss                  int16\n",
      "dbytes                 int32\n",
      "is_sm_ips_ports         int8\n",
      "dwin                   int16\n",
      "is_ftp_login            int8\n",
      "ct_ftp_cmd              int8\n",
      "dtcpb                  int64\n",
      "djit                 float32\n",
      "ackdat               float32\n",
      "response_body_len      int32\n",
      "stcpb                  int64\n",
      "dtype: object\n"
     ]
    }
   ],
   "source": [
    "print(train[num_col].dtypes)"
   ]
  },
  {
   "cell_type": "code",
   "execution_count": 33,
   "id": "c8a279bf-bfeb-4e86-b5b8-ac1a3520df66",
   "metadata": {},
   "outputs": [
    {
     "name": "stdout",
     "output_type": "stream",
     "text": [
      "{'no', 'CLO'}\n",
      "set()\n"
     ]
    }
   ],
   "source": [
    "print(set(x_val['state'].unique()) - set(x_train['state'].unique()))\n",
    "print(set(x_test['state'].unique()) - set(x_train['state'].unique()))\n"
   ]
  },
  {
   "cell_type": "code",
   "execution_count": 34,
   "id": "67ade5ad-a8d0-4c0c-ae16-cd00d7d760a1",
   "metadata": {},
   "outputs": [],
   "source": [
    "x_val = x_val[~x_val['state'].isin(['no', 'CLO'])]\n",
    "y_val = y_val.loc[x_val.index] #ensure y_val matches the new x_val indices"
   ]
  },
  {
   "cell_type": "code",
   "execution_count": 35,
   "id": "36bd6ced-c9b5-43a3-ae93-a5133e24302d",
   "metadata": {},
   "outputs": [
    {
     "name": "stdout",
     "output_type": "stream",
     "text": [
      "proto        object\n",
      "service    category\n",
      "state        object\n",
      "dtype: object\n"
     ]
    }
   ],
   "source": [
    "print(x_train[cat_col].dtypes)"
   ]
  },
  {
   "cell_type": "code",
   "execution_count": 36,
   "id": "400d9169-57d6-4755-a2ff-5d9e98652651",
   "metadata": {},
   "outputs": [
    {
     "name": "stdout",
     "output_type": "stream",
     "text": [
      "proto        object\n",
      "service    category\n",
      "state        object\n",
      "dtype: object\n"
     ]
    }
   ],
   "source": [
    "print(x_val[cat_col].dtypes)"
   ]
  },
  {
   "cell_type": "code",
   "execution_count": 37,
   "id": "8bc89015-9dbe-4456-8042-37719868f735",
   "metadata": {},
   "outputs": [
    {
     "name": "stdout",
     "output_type": "stream",
     "text": [
      "proto        object\n",
      "service    category\n",
      "state        object\n",
      "dtype: object\n"
     ]
    }
   ],
   "source": [
    "print(x_test[cat_col].dtypes)"
   ]
  },
  {
   "cell_type": "code",
   "execution_count": 38,
   "id": "563544db-eeae-4bb3-9c84-d50ddc485250",
   "metadata": {},
   "outputs": [
    {
     "data": {
      "text/html": [
       "<div>\n",
       "<style scoped>\n",
       "    .dataframe tbody tr th:only-of-type {\n",
       "        vertical-align: middle;\n",
       "    }\n",
       "\n",
       "    .dataframe tbody tr th {\n",
       "        vertical-align: top;\n",
       "    }\n",
       "\n",
       "    .dataframe thead th {\n",
       "        text-align: right;\n",
       "    }\n",
       "</style>\n",
       "<table border=\"1\" class=\"dataframe\">\n",
       "  <thead>\n",
       "    <tr style=\"text-align: right;\">\n",
       "      <th></th>\n",
       "      <th>dur</th>\n",
       "      <th>proto</th>\n",
       "      <th>service</th>\n",
       "      <th>state</th>\n",
       "      <th>spkts</th>\n",
       "      <th>dpkts</th>\n",
       "      <th>sbytes</th>\n",
       "      <th>dbytes</th>\n",
       "      <th>rate</th>\n",
       "      <th>sload</th>\n",
       "      <th>...</th>\n",
       "      <th>smean</th>\n",
       "      <th>dmean</th>\n",
       "      <th>trans_depth</th>\n",
       "      <th>response_body_len</th>\n",
       "      <th>ct_src_dport_ltm</th>\n",
       "      <th>ct_dst_sport_ltm</th>\n",
       "      <th>is_ftp_login</th>\n",
       "      <th>ct_ftp_cmd</th>\n",
       "      <th>ct_flw_http_mthd</th>\n",
       "      <th>is_sm_ips_ports</th>\n",
       "    </tr>\n",
       "  </thead>\n",
       "  <tbody>\n",
       "    <tr>\n",
       "      <th>238546</th>\n",
       "      <td>0.000003</td>\n",
       "      <td>udp</td>\n",
       "      <td>dns</td>\n",
       "      <td>INT</td>\n",
       "      <td>2</td>\n",
       "      <td>0</td>\n",
       "      <td>114</td>\n",
       "      <td>0</td>\n",
       "      <td>333333.312500</td>\n",
       "      <td>1.520000e+08</td>\n",
       "      <td>...</td>\n",
       "      <td>57</td>\n",
       "      <td>0</td>\n",
       "      <td>0</td>\n",
       "      <td>0</td>\n",
       "      <td>29</td>\n",
       "      <td>16</td>\n",
       "      <td>0</td>\n",
       "      <td>0</td>\n",
       "      <td>0</td>\n",
       "      <td>0</td>\n",
       "    </tr>\n",
       "    <tr>\n",
       "      <th>87397</th>\n",
       "      <td>0.118105</td>\n",
       "      <td>tcp</td>\n",
       "      <td>None</td>\n",
       "      <td>RST</td>\n",
       "      <td>6</td>\n",
       "      <td>2</td>\n",
       "      <td>258</td>\n",
       "      <td>86</td>\n",
       "      <td>59.269295</td>\n",
       "      <td>1.456331e+04</td>\n",
       "      <td>...</td>\n",
       "      <td>43</td>\n",
       "      <td>43</td>\n",
       "      <td>0</td>\n",
       "      <td>0</td>\n",
       "      <td>8</td>\n",
       "      <td>1</td>\n",
       "      <td>0</td>\n",
       "      <td>0</td>\n",
       "      <td>0</td>\n",
       "      <td>0</td>\n",
       "    </tr>\n",
       "    <tr>\n",
       "      <th>148810</th>\n",
       "      <td>0.557324</td>\n",
       "      <td>tcp</td>\n",
       "      <td>None</td>\n",
       "      <td>FIN</td>\n",
       "      <td>14</td>\n",
       "      <td>8</td>\n",
       "      <td>5554</td>\n",
       "      <td>746</td>\n",
       "      <td>37.680058</td>\n",
       "      <td>7.403952e+04</td>\n",
       "      <td>...</td>\n",
       "      <td>397</td>\n",
       "      <td>93</td>\n",
       "      <td>0</td>\n",
       "      <td>0</td>\n",
       "      <td>1</td>\n",
       "      <td>1</td>\n",
       "      <td>0</td>\n",
       "      <td>0</td>\n",
       "      <td>0</td>\n",
       "      <td>0</td>\n",
       "    </tr>\n",
       "    <tr>\n",
       "      <th>26264</th>\n",
       "      <td>0.133143</td>\n",
       "      <td>tcp</td>\n",
       "      <td>None</td>\n",
       "      <td>FIN</td>\n",
       "      <td>96</td>\n",
       "      <td>98</td>\n",
       "      <td>5486</td>\n",
       "      <td>92746</td>\n",
       "      <td>1449.569336</td>\n",
       "      <td>3.262057e+05</td>\n",
       "      <td>...</td>\n",
       "      <td>57</td>\n",
       "      <td>946</td>\n",
       "      <td>0</td>\n",
       "      <td>0</td>\n",
       "      <td>1</td>\n",
       "      <td>1</td>\n",
       "      <td>0</td>\n",
       "      <td>0</td>\n",
       "      <td>0</td>\n",
       "      <td>0</td>\n",
       "    </tr>\n",
       "    <tr>\n",
       "      <th>82477</th>\n",
       "      <td>0.016974</td>\n",
       "      <td>tcp</td>\n",
       "      <td>None</td>\n",
       "      <td>FIN</td>\n",
       "      <td>16</td>\n",
       "      <td>18</td>\n",
       "      <td>1540</td>\n",
       "      <td>1644</td>\n",
       "      <td>1944.149902</td>\n",
       "      <td>6.805702e+05</td>\n",
       "      <td>...</td>\n",
       "      <td>96</td>\n",
       "      <td>91</td>\n",
       "      <td>0</td>\n",
       "      <td>0</td>\n",
       "      <td>6</td>\n",
       "      <td>1</td>\n",
       "      <td>0</td>\n",
       "      <td>0</td>\n",
       "      <td>0</td>\n",
       "      <td>0</td>\n",
       "    </tr>\n",
       "    <tr>\n",
       "      <th>...</th>\n",
       "      <td>...</td>\n",
       "      <td>...</td>\n",
       "      <td>...</td>\n",
       "      <td>...</td>\n",
       "      <td>...</td>\n",
       "      <td>...</td>\n",
       "      <td>...</td>\n",
       "      <td>...</td>\n",
       "      <td>...</td>\n",
       "      <td>...</td>\n",
       "      <td>...</td>\n",
       "      <td>...</td>\n",
       "      <td>...</td>\n",
       "      <td>...</td>\n",
       "      <td>...</td>\n",
       "      <td>...</td>\n",
       "      <td>...</td>\n",
       "      <td>...</td>\n",
       "      <td>...</td>\n",
       "      <td>...</td>\n",
       "      <td>...</td>\n",
       "    </tr>\n",
       "    <tr>\n",
       "      <th>72357</th>\n",
       "      <td>0.000008</td>\n",
       "      <td>udp</td>\n",
       "      <td>None</td>\n",
       "      <td>INT</td>\n",
       "      <td>2</td>\n",
       "      <td>0</td>\n",
       "      <td>78</td>\n",
       "      <td>0</td>\n",
       "      <td>125000.000000</td>\n",
       "      <td>3.900000e+07</td>\n",
       "      <td>...</td>\n",
       "      <td>39</td>\n",
       "      <td>0</td>\n",
       "      <td>0</td>\n",
       "      <td>0</td>\n",
       "      <td>1</td>\n",
       "      <td>1</td>\n",
       "      <td>0</td>\n",
       "      <td>0</td>\n",
       "      <td>0</td>\n",
       "      <td>0</td>\n",
       "    </tr>\n",
       "    <tr>\n",
       "      <th>63769</th>\n",
       "      <td>0.349402</td>\n",
       "      <td>udp</td>\n",
       "      <td>None</td>\n",
       "      <td>CON</td>\n",
       "      <td>2</td>\n",
       "      <td>2</td>\n",
       "      <td>120</td>\n",
       "      <td>590</td>\n",
       "      <td>8.586098</td>\n",
       "      <td>1.373776e+03</td>\n",
       "      <td>...</td>\n",
       "      <td>60</td>\n",
       "      <td>295</td>\n",
       "      <td>0</td>\n",
       "      <td>0</td>\n",
       "      <td>1</td>\n",
       "      <td>1</td>\n",
       "      <td>0</td>\n",
       "      <td>0</td>\n",
       "      <td>0</td>\n",
       "      <td>0</td>\n",
       "    </tr>\n",
       "    <tr>\n",
       "      <th>98103</th>\n",
       "      <td>0.001053</td>\n",
       "      <td>udp</td>\n",
       "      <td>dns</td>\n",
       "      <td>CON</td>\n",
       "      <td>2</td>\n",
       "      <td>2</td>\n",
       "      <td>130</td>\n",
       "      <td>162</td>\n",
       "      <td>2849.002930</td>\n",
       "      <td>4.938272e+05</td>\n",
       "      <td>...</td>\n",
       "      <td>65</td>\n",
       "      <td>81</td>\n",
       "      <td>0</td>\n",
       "      <td>0</td>\n",
       "      <td>4</td>\n",
       "      <td>2</td>\n",
       "      <td>0</td>\n",
       "      <td>0</td>\n",
       "      <td>0</td>\n",
       "      <td>0</td>\n",
       "    </tr>\n",
       "    <tr>\n",
       "      <th>123972</th>\n",
       "      <td>2.331945</td>\n",
       "      <td>tcp</td>\n",
       "      <td>None</td>\n",
       "      <td>FIN</td>\n",
       "      <td>30</td>\n",
       "      <td>14</td>\n",
       "      <td>21842</td>\n",
       "      <td>728</td>\n",
       "      <td>18.439543</td>\n",
       "      <td>7.243396e+04</td>\n",
       "      <td>...</td>\n",
       "      <td>728</td>\n",
       "      <td>52</td>\n",
       "      <td>0</td>\n",
       "      <td>0</td>\n",
       "      <td>1</td>\n",
       "      <td>1</td>\n",
       "      <td>0</td>\n",
       "      <td>0</td>\n",
       "      <td>0</td>\n",
       "      <td>0</td>\n",
       "    </tr>\n",
       "    <tr>\n",
       "      <th>208836</th>\n",
       "      <td>0.000009</td>\n",
       "      <td>udp</td>\n",
       "      <td>dns</td>\n",
       "      <td>INT</td>\n",
       "      <td>2</td>\n",
       "      <td>0</td>\n",
       "      <td>114</td>\n",
       "      <td>0</td>\n",
       "      <td>111111.109375</td>\n",
       "      <td>5.066666e+07</td>\n",
       "      <td>...</td>\n",
       "      <td>57</td>\n",
       "      <td>0</td>\n",
       "      <td>0</td>\n",
       "      <td>0</td>\n",
       "      <td>24</td>\n",
       "      <td>13</td>\n",
       "      <td>0</td>\n",
       "      <td>0</td>\n",
       "      <td>0</td>\n",
       "      <td>0</td>\n",
       "    </tr>\n",
       "  </tbody>\n",
       "</table>\n",
       "<p>139724 rows × 34 columns</p>\n",
       "</div>"
      ],
      "text/plain": [
       "             dur proto service state  spkts  dpkts  sbytes  dbytes  \\\n",
       "238546  0.000003   udp     dns   INT      2      0     114       0   \n",
       "87397   0.118105   tcp    None   RST      6      2     258      86   \n",
       "148810  0.557324   tcp    None   FIN     14      8    5554     746   \n",
       "26264   0.133143   tcp    None   FIN     96     98    5486   92746   \n",
       "82477   0.016974   tcp    None   FIN     16     18    1540    1644   \n",
       "...          ...   ...     ...   ...    ...    ...     ...     ...   \n",
       "72357   0.000008   udp    None   INT      2      0      78       0   \n",
       "63769   0.349402   udp    None   CON      2      2     120     590   \n",
       "98103   0.001053   udp     dns   CON      2      2     130     162   \n",
       "123972  2.331945   tcp    None   FIN     30     14   21842     728   \n",
       "208836  0.000009   udp     dns   INT      2      0     114       0   \n",
       "\n",
       "                 rate         sload  ...  smean  dmean  trans_depth  \\\n",
       "238546  333333.312500  1.520000e+08  ...     57      0            0   \n",
       "87397       59.269295  1.456331e+04  ...     43     43            0   \n",
       "148810      37.680058  7.403952e+04  ...    397     93            0   \n",
       "26264     1449.569336  3.262057e+05  ...     57    946            0   \n",
       "82477     1944.149902  6.805702e+05  ...     96     91            0   \n",
       "...               ...           ...  ...    ...    ...          ...   \n",
       "72357   125000.000000  3.900000e+07  ...     39      0            0   \n",
       "63769        8.586098  1.373776e+03  ...     60    295            0   \n",
       "98103     2849.002930  4.938272e+05  ...     65     81            0   \n",
       "123972      18.439543  7.243396e+04  ...    728     52            0   \n",
       "208836  111111.109375  5.066666e+07  ...     57      0            0   \n",
       "\n",
       "        response_body_len  ct_src_dport_ltm  ct_dst_sport_ltm  is_ftp_login  \\\n",
       "238546                  0                29                16             0   \n",
       "87397                   0                 8                 1             0   \n",
       "148810                  0                 1                 1             0   \n",
       "26264                   0                 1                 1             0   \n",
       "82477                   0                 6                 1             0   \n",
       "...                   ...               ...               ...           ...   \n",
       "72357                   0                 1                 1             0   \n",
       "63769                   0                 1                 1             0   \n",
       "98103                   0                 4                 2             0   \n",
       "123972                  0                 1                 1             0   \n",
       "208836                  0                24                13             0   \n",
       "\n",
       "        ct_ftp_cmd  ct_flw_http_mthd  is_sm_ips_ports  \n",
       "238546           0                 0                0  \n",
       "87397            0                 0                0  \n",
       "148810           0                 0                0  \n",
       "26264            0                 0                0  \n",
       "82477            0                 0                0  \n",
       "...            ...               ...              ...  \n",
       "72357            0                 0                0  \n",
       "63769            0                 0                0  \n",
       "98103            0                 0                0  \n",
       "123972           0                 0                0  \n",
       "208836           0                 0                0  \n",
       "\n",
       "[139724 rows x 34 columns]"
      ]
     },
     "execution_count": 38,
     "metadata": {},
     "output_type": "execute_result"
    }
   ],
   "source": [
    "x_train"
   ]
  },
  {
   "cell_type": "code",
   "execution_count": 39,
   "id": "3e2150f3-fc94-42cc-bf92-640375edceb6",
   "metadata": {},
   "outputs": [],
   "source": [
    "ct = ColumnTransformer(\n",
    "    transformers=[\n",
    "        ('encoder', OneHotEncoder(sparse_output=False), cat_col),  #one-hot encode categorical features\n",
    "        ('scaler', StandardScaler(), num_col)  #standard scale numeric features\n",
    "    ],\n",
    ")"
   ]
  },
  {
   "cell_type": "code",
   "execution_count": 40,
   "id": "2d446741-a477-4057-84dd-d5426b328e87",
   "metadata": {},
   "outputs": [],
   "source": [
    "x_train = ct.fit_transform(x_train)\n",
    "x_test = ct.transform(x_test)\n",
    "x_val = ct.transform(x_val)"
   ]
  },
  {
   "cell_type": "code",
   "execution_count": 154,
   "id": "2e911502-15c6-4b97-b17d-734ce0e286cb",
   "metadata": {},
   "outputs": [],
   "source": [
    "encoder = ct.named_transformers_['encoder']\n",
    "scaler = ct.named_transformers_['scaler']"
   ]
  },
  {
   "cell_type": "code",
   "execution_count": 156,
   "id": "9935dc6b-1e72-4963-9c35-bedf08d77cec",
   "metadata": {},
   "outputs": [
    {
     "data": {
      "text/plain": [
       "['scaler.pkl']"
      ]
     },
     "execution_count": 156,
     "metadata": {},
     "output_type": "execute_result"
    }
   ],
   "source": [
    "import joblib\n",
    "joblib.dump(encoder, 'encoder.pkl')\n",
    "joblib.dump(scaler, 'scaler.pkl')\n",
    "#will need these later to use model in other program"
   ]
  },
  {
   "cell_type": "code",
   "execution_count": 41,
   "id": "8fa11ff8-2ac1-4507-88ec-fffb23412bf0",
   "metadata": {},
   "outputs": [
    {
     "data": {
      "text/plain": [
       "array([[ 0.        ,  0.        ,  0.        , ..., -0.54280093,\n",
       "        -0.04281068, -0.83766329],\n",
       "       [ 0.        ,  0.        ,  0.        , ...,  0.53397629,\n",
       "        -0.04281068,  0.06894309],\n",
       "       [ 0.        ,  0.        ,  0.        , ...,  0.31847186,\n",
       "        -0.04281068,  1.90340902],\n",
       "       ...,\n",
       "       [ 0.        ,  0.        ,  0.        , ..., -0.54280093,\n",
       "        -0.04281068, -0.83766329],\n",
       "       [ 0.        ,  0.        ,  0.        , ...,  1.16395839,\n",
       "        -0.04281068, -0.74916485],\n",
       "       [ 0.        ,  0.        ,  0.        , ..., -0.54280093,\n",
       "        -0.04281068, -0.83766329]])"
      ]
     },
     "execution_count": 41,
     "metadata": {},
     "output_type": "execute_result"
    }
   ],
   "source": [
    "x_train"
   ]
  },
  {
   "cell_type": "code",
   "execution_count": 42,
   "id": "0e2eb442-f6b8-42f8-8935-16d4807f5d19",
   "metadata": {},
   "outputs": [
    {
     "data": {
      "text/plain": [
       "attack_cat\n",
       "Normal            59433\n",
       "Generic           37542\n",
       "Exploits          17959\n",
       "Fuzzers           13577\n",
       "Reconnaissance     7289\n",
       "DoS                2356\n",
       "Shellcode           875\n",
       "Analysis            390\n",
       "Backdoor            207\n",
       "Worms                96\n",
       "Name: count, dtype: int64"
      ]
     },
     "execution_count": 42,
     "metadata": {},
     "output_type": "execute_result"
    }
   ],
   "source": [
    "y_train['attack_cat'].value_counts()"
   ]
  },
  {
   "cell_type": "code",
   "execution_count": 43,
   "id": "838de8ce-1fd3-45c3-9c88-25e5245389d2",
   "metadata": {},
   "outputs": [
    {
     "name": "stderr",
     "output_type": "stream",
     "text": [
      "C:\\Users\\sehat\\anaconda3\\Lib\\site-packages\\sklearn\\base.py:474: FutureWarning: `BaseEstimator._validate_data` is deprecated in 1.6 and will be removed in 1.7. Use `sklearn.utils.validation.validate_data` instead. This function becomes public and is part of the scikit-learn developer API.\n",
      "  warnings.warn(\n",
      "C:\\Users\\sehat\\anaconda3\\Lib\\site-packages\\sklearn\\base.py:474: FutureWarning: `BaseEstimator._validate_data` is deprecated in 1.6 and will be removed in 1.7. Use `sklearn.utils.validation.validate_data` instead. This function becomes public and is part of the scikit-learn developer API.\n",
      "  warnings.warn(\n",
      "C:\\Users\\sehat\\anaconda3\\Lib\\site-packages\\joblib\\externals\\loky\\backend\\context.py:136: UserWarning: Could not find the number of physical cores for the following reason:\n",
      "[WinError 2] The system cannot find the file specified\n",
      "Returning the number of logical cores instead. You can silence this warning by setting LOKY_MAX_CPU_COUNT to the number of cores you want to use.\n",
      "  warnings.warn(\n",
      "  File \"C:\\Users\\sehat\\anaconda3\\Lib\\site-packages\\joblib\\externals\\loky\\backend\\context.py\", line 257, in _count_physical_cores\n",
      "    cpu_info = subprocess.run(\n",
      "               ^^^^^^^^^^^^^^^\n",
      "  File \"C:\\Users\\sehat\\anaconda3\\Lib\\subprocess.py\", line 548, in run\n",
      "    with Popen(*popenargs, **kwargs) as process:\n",
      "         ^^^^^^^^^^^^^^^^^^^^^^^^^^^\n",
      "  File \"C:\\Users\\sehat\\anaconda3\\Lib\\subprocess.py\", line 1026, in __init__\n",
      "    self._execute_child(args, executable, preexec_fn, close_fds,\n",
      "  File \"C:\\Users\\sehat\\anaconda3\\Lib\\subprocess.py\", line 1538, in _execute_child\n",
      "    hp, ht, pid, tid = _winapi.CreateProcess(executable, args,\n",
      "                       ^^^^^^^^^^^^^^^^^^^^^^^^^^^^^^^^^^^^^^^\n",
      "C:\\Users\\sehat\\anaconda3\\Lib\\site-packages\\sklearn\\base.py:474: FutureWarning: `BaseEstimator._validate_data` is deprecated in 1.6 and will be removed in 1.7. Use `sklearn.utils.validation.validate_data` instead. This function becomes public and is part of the scikit-learn developer API.\n",
      "  warnings.warn(\n"
     ]
    },
    {
     "name": "stdout",
     "output_type": "stream",
     "text": [
      "Original class distribution: attack_cat\n",
      "Normal            59433\n",
      "Generic           37542\n",
      "Exploits          17959\n",
      "Fuzzers           13577\n",
      "Reconnaissance     7289\n",
      "DoS                2356\n",
      "Shellcode           875\n",
      "Analysis            390\n",
      "Backdoor            207\n",
      "Worms                96\n",
      "Name: count, dtype: int64\n",
      "\n",
      "Resampled class distribution: attack_cat\n",
      "Normal            56271\n",
      "Generic           37284\n",
      "Exploits          15958\n",
      "Fuzzers           10957\n",
      "Reconnaissance     6138\n",
      "Analysis           1955\n",
      "Backdoor           1898\n",
      "Shellcode          1771\n",
      "DoS                1519\n",
      "Worms               951\n",
      "Name: count, dtype: int64\n"
     ]
    }
   ],
   "source": [
    "from imblearn.combine import SMOTETomek\n",
    "from collections import Counter\n",
    "\n",
    "smote_tomek = SMOTETomek(sampling_strategy={\n",
    "    \"Analysis\": 2000,\n",
    "    \"Backdoor\": 2000,\n",
    "    \"Shellcode\": 2000,\n",
    "    \"Worms\": 1000  \n",
    "}, random_state=42)\n",
    "\n",
    "#apply SMOTE-Tomek to the training data\n",
    "x_train_resampled, y_train_resampled = smote_tomek.fit_resample(x_train, y_train)\n",
    "\n",
    "print(\"Original class distribution:\", y_train['attack_cat'].value_counts())\n",
    "print()\n",
    "print(\"Resampled class distribution:\", y_train_resampled['attack_cat'].value_counts())"
   ]
  },
  {
   "cell_type": "code",
   "execution_count": 44,
   "id": "9836b2b6-09a6-4d33-9c46-8d79b0d70629",
   "metadata": {},
   "outputs": [],
   "source": [
    "attacks = y_train['attack_cat'].unique()"
   ]
  },
  {
   "cell_type": "code",
   "execution_count": 45,
   "id": "ec9103a8-b0fc-41a3-9615-efa8a2029e3f",
   "metadata": {},
   "outputs": [
    {
     "data": {
      "text/plain": [
       "['Generic', 'Normal', 'Fuzzers', 'Exploits', 'Reconnaissance', 'DoS', 'Shellcode', 'Worms', 'Analysis', 'Backdoor']\n",
       "Categories (10, object): ['Analysis', 'Backdoor', 'DoS', 'Exploits', ..., 'Normal', 'Reconnaissance', 'Shellcode', 'Worms']"
      ]
     },
     "execution_count": 45,
     "metadata": {},
     "output_type": "execute_result"
    }
   ],
   "source": [
    "attacks"
   ]
  },
  {
   "cell_type": "code",
   "execution_count": 46,
   "id": "624ae529-c4dc-4230-acda-19b3d0d4e956",
   "metadata": {},
   "outputs": [],
   "source": [
    "ct1 = ColumnTransformer(transformers=[('encoder', OneHotEncoder(categories=[attacks],sparse_output=False), ['attack_cat'])])\n",
    "y_train_resampled = np.array(ct1.fit_transform(y_train_resampled))\n",
    "y_test = np.array(ct1.transform(y_test))\n",
    "y_val = np.array(ct1.transform(y_val))"
   ]
  },
  {
   "cell_type": "code",
   "execution_count": 47,
   "id": "10719417-5987-4cc5-b4b0-7765e823cecb",
   "metadata": {},
   "outputs": [],
   "source": [
    "del train\n",
    "del test\n",
    "del x_train\n",
    "del y_train"
   ]
  },
  {
   "cell_type": "code",
   "execution_count": 48,
   "id": "764bec2b-fc5c-4fa4-922c-338cda83f290",
   "metadata": {},
   "outputs": [
    {
     "data": {
      "text/plain": [
       "array([[1., 0., 0., ..., 0., 0., 0.],\n",
       "       [0., 1., 0., ..., 0., 0., 0.],\n",
       "       [0., 0., 1., ..., 0., 0., 0.],\n",
       "       ...,\n",
       "       [0., 0., 0., ..., 1., 0., 0.],\n",
       "       [0., 0., 0., ..., 1., 0., 0.],\n",
       "       [0., 0., 0., ..., 1., 0., 0.]])"
      ]
     },
     "execution_count": 48,
     "metadata": {},
     "output_type": "execute_result"
    }
   ],
   "source": [
    "y_train_resampled"
   ]
  },
  {
   "cell_type": "code",
   "execution_count": 49,
   "id": "ac2454d9-ec32-4f6e-ae70-8ed401f5a9bc",
   "metadata": {},
   "outputs": [],
   "source": [
    "from tensorflow.keras.models import Sequential\n",
    "from tensorflow.keras.layers import Conv1D, MaxPooling1D, BatchNormalization, LSTM, Dense, Dropout"
   ]
  },
  {
   "cell_type": "code",
   "execution_count": 50,
   "id": "9698e833-d382-49dc-855a-939ad3de6b5b",
   "metadata": {},
   "outputs": [
    {
     "name": "stderr",
     "output_type": "stream",
     "text": [
      "C:\\Users\\sehat\\anaconda3\\Lib\\site-packages\\keras\\src\\layers\\convolutional\\base_conv.py:107: UserWarning: Do not pass an `input_shape`/`input_dim` argument to a layer. When using Sequential models, prefer using an `Input(shape)` object as the first layer in the model instead.\n",
      "  super().__init__(activity_regularizer=activity_regularizer, **kwargs)\n"
     ]
    },
    {
     "data": {
      "text/html": [
       "<pre style=\"white-space:pre;overflow-x:auto;line-height:normal;font-family:Menlo,'DejaVu Sans Mono',consolas,'Courier New',monospace\"><span style=\"font-weight: bold\">Model: \"sequential\"</span>\n",
       "</pre>\n"
      ],
      "text/plain": [
       "\u001b[1mModel: \"sequential\"\u001b[0m\n"
      ]
     },
     "metadata": {},
     "output_type": "display_data"
    },
    {
     "data": {
      "text/html": [
       "<pre style=\"white-space:pre;overflow-x:auto;line-height:normal;font-family:Menlo,'DejaVu Sans Mono',consolas,'Courier New',monospace\">┏━━━━━━━━━━━━━━━━━━━━━━━━━━━━━━━━━┳━━━━━━━━━━━━━━━━━━━━━━━━┳━━━━━━━━━━━━━━━┓\n",
       "┃<span style=\"font-weight: bold\"> Layer (type)                    </span>┃<span style=\"font-weight: bold\"> Output Shape           </span>┃<span style=\"font-weight: bold\">       Param # </span>┃\n",
       "┡━━━━━━━━━━━━━━━━━━━━━━━━━━━━━━━━━╇━━━━━━━━━━━━━━━━━━━━━━━━╇━━━━━━━━━━━━━━━┩\n",
       "│ conv1d (<span style=\"color: #0087ff; text-decoration-color: #0087ff\">Conv1D</span>)                 │ (<span style=\"color: #00d7ff; text-decoration-color: #00d7ff\">None</span>, <span style=\"color: #00af00; text-decoration-color: #00af00\">58</span>, <span style=\"color: #00af00; text-decoration-color: #00af00\">64</span>)         │           <span style=\"color: #00af00; text-decoration-color: #00af00\">256</span> │\n",
       "├─────────────────────────────────┼────────────────────────┼───────────────┤\n",
       "│ batch_normalization             │ (<span style=\"color: #00d7ff; text-decoration-color: #00d7ff\">None</span>, <span style=\"color: #00af00; text-decoration-color: #00af00\">58</span>, <span style=\"color: #00af00; text-decoration-color: #00af00\">64</span>)         │           <span style=\"color: #00af00; text-decoration-color: #00af00\">256</span> │\n",
       "│ (<span style=\"color: #0087ff; text-decoration-color: #0087ff\">BatchNormalization</span>)            │                        │               │\n",
       "├─────────────────────────────────┼────────────────────────┼───────────────┤\n",
       "│ max_pooling1d (<span style=\"color: #0087ff; text-decoration-color: #0087ff\">MaxPooling1D</span>)    │ (<span style=\"color: #00d7ff; text-decoration-color: #00d7ff\">None</span>, <span style=\"color: #00af00; text-decoration-color: #00af00\">29</span>, <span style=\"color: #00af00; text-decoration-color: #00af00\">64</span>)         │             <span style=\"color: #00af00; text-decoration-color: #00af00\">0</span> │\n",
       "├─────────────────────────────────┼────────────────────────┼───────────────┤\n",
       "│ lstm (<span style=\"color: #0087ff; text-decoration-color: #0087ff\">LSTM</span>)                     │ (<span style=\"color: #00d7ff; text-decoration-color: #00d7ff\">None</span>, <span style=\"color: #00af00; text-decoration-color: #00af00\">29</span>, <span style=\"color: #00af00; text-decoration-color: #00af00\">64</span>)         │        <span style=\"color: #00af00; text-decoration-color: #00af00\">33,024</span> │\n",
       "├─────────────────────────────────┼────────────────────────┼───────────────┤\n",
       "│ conv1d_1 (<span style=\"color: #0087ff; text-decoration-color: #0087ff\">Conv1D</span>)               │ (<span style=\"color: #00d7ff; text-decoration-color: #00d7ff\">None</span>, <span style=\"color: #00af00; text-decoration-color: #00af00\">27</span>, <span style=\"color: #00af00; text-decoration-color: #00af00\">128</span>)        │        <span style=\"color: #00af00; text-decoration-color: #00af00\">24,704</span> │\n",
       "├─────────────────────────────────┼────────────────────────┼───────────────┤\n",
       "│ batch_normalization_1           │ (<span style=\"color: #00d7ff; text-decoration-color: #00d7ff\">None</span>, <span style=\"color: #00af00; text-decoration-color: #00af00\">27</span>, <span style=\"color: #00af00; text-decoration-color: #00af00\">128</span>)        │           <span style=\"color: #00af00; text-decoration-color: #00af00\">512</span> │\n",
       "│ (<span style=\"color: #0087ff; text-decoration-color: #0087ff\">BatchNormalization</span>)            │                        │               │\n",
       "├─────────────────────────────────┼────────────────────────┼───────────────┤\n",
       "│ max_pooling1d_1 (<span style=\"color: #0087ff; text-decoration-color: #0087ff\">MaxPooling1D</span>)  │ (<span style=\"color: #00d7ff; text-decoration-color: #00d7ff\">None</span>, <span style=\"color: #00af00; text-decoration-color: #00af00\">13</span>, <span style=\"color: #00af00; text-decoration-color: #00af00\">128</span>)        │             <span style=\"color: #00af00; text-decoration-color: #00af00\">0</span> │\n",
       "├─────────────────────────────────┼────────────────────────┼───────────────┤\n",
       "│ lstm_1 (<span style=\"color: #0087ff; text-decoration-color: #0087ff\">LSTM</span>)                   │ (<span style=\"color: #00d7ff; text-decoration-color: #00d7ff\">None</span>, <span style=\"color: #00af00; text-decoration-color: #00af00\">13</span>, <span style=\"color: #00af00; text-decoration-color: #00af00\">64</span>)         │        <span style=\"color: #00af00; text-decoration-color: #00af00\">49,408</span> │\n",
       "├─────────────────────────────────┼────────────────────────┼───────────────┤\n",
       "│ conv1d_2 (<span style=\"color: #0087ff; text-decoration-color: #0087ff\">Conv1D</span>)               │ (<span style=\"color: #00d7ff; text-decoration-color: #00d7ff\">None</span>, <span style=\"color: #00af00; text-decoration-color: #00af00\">11</span>, <span style=\"color: #00af00; text-decoration-color: #00af00\">256</span>)        │        <span style=\"color: #00af00; text-decoration-color: #00af00\">49,408</span> │\n",
       "├─────────────────────────────────┼────────────────────────┼───────────────┤\n",
       "│ batch_normalization_2           │ (<span style=\"color: #00d7ff; text-decoration-color: #00d7ff\">None</span>, <span style=\"color: #00af00; text-decoration-color: #00af00\">11</span>, <span style=\"color: #00af00; text-decoration-color: #00af00\">256</span>)        │         <span style=\"color: #00af00; text-decoration-color: #00af00\">1,024</span> │\n",
       "│ (<span style=\"color: #0087ff; text-decoration-color: #0087ff\">BatchNormalization</span>)            │                        │               │\n",
       "├─────────────────────────────────┼────────────────────────┼───────────────┤\n",
       "│ max_pooling1d_2 (<span style=\"color: #0087ff; text-decoration-color: #0087ff\">MaxPooling1D</span>)  │ (<span style=\"color: #00d7ff; text-decoration-color: #00d7ff\">None</span>, <span style=\"color: #00af00; text-decoration-color: #00af00\">5</span>, <span style=\"color: #00af00; text-decoration-color: #00af00\">256</span>)         │             <span style=\"color: #00af00; text-decoration-color: #00af00\">0</span> │\n",
       "├─────────────────────────────────┼────────────────────────┼───────────────┤\n",
       "│ lstm_2 (<span style=\"color: #0087ff; text-decoration-color: #0087ff\">LSTM</span>)                   │ (<span style=\"color: #00d7ff; text-decoration-color: #00d7ff\">None</span>, <span style=\"color: #00af00; text-decoration-color: #00af00\">128</span>)            │       <span style=\"color: #00af00; text-decoration-color: #00af00\">197,120</span> │\n",
       "├─────────────────────────────────┼────────────────────────┼───────────────┤\n",
       "│ dense (<span style=\"color: #0087ff; text-decoration-color: #0087ff\">Dense</span>)                   │ (<span style=\"color: #00d7ff; text-decoration-color: #00d7ff\">None</span>, <span style=\"color: #00af00; text-decoration-color: #00af00\">128</span>)            │        <span style=\"color: #00af00; text-decoration-color: #00af00\">16,512</span> │\n",
       "├─────────────────────────────────┼────────────────────────┼───────────────┤\n",
       "│ dropout (<span style=\"color: #0087ff; text-decoration-color: #0087ff\">Dropout</span>)               │ (<span style=\"color: #00d7ff; text-decoration-color: #00d7ff\">None</span>, <span style=\"color: #00af00; text-decoration-color: #00af00\">128</span>)            │             <span style=\"color: #00af00; text-decoration-color: #00af00\">0</span> │\n",
       "├─────────────────────────────────┼────────────────────────┼───────────────┤\n",
       "│ dense_1 (<span style=\"color: #0087ff; text-decoration-color: #0087ff\">Dense</span>)                 │ (<span style=\"color: #00d7ff; text-decoration-color: #00d7ff\">None</span>, <span style=\"color: #00af00; text-decoration-color: #00af00\">10</span>)             │         <span style=\"color: #00af00; text-decoration-color: #00af00\">1,290</span> │\n",
       "└─────────────────────────────────┴────────────────────────┴───────────────┘\n",
       "</pre>\n"
      ],
      "text/plain": [
       "┏━━━━━━━━━━━━━━━━━━━━━━━━━━━━━━━━━┳━━━━━━━━━━━━━━━━━━━━━━━━┳━━━━━━━━━━━━━━━┓\n",
       "┃\u001b[1m \u001b[0m\u001b[1mLayer (type)                   \u001b[0m\u001b[1m \u001b[0m┃\u001b[1m \u001b[0m\u001b[1mOutput Shape          \u001b[0m\u001b[1m \u001b[0m┃\u001b[1m \u001b[0m\u001b[1m      Param #\u001b[0m\u001b[1m \u001b[0m┃\n",
       "┡━━━━━━━━━━━━━━━━━━━━━━━━━━━━━━━━━╇━━━━━━━━━━━━━━━━━━━━━━━━╇━━━━━━━━━━━━━━━┩\n",
       "│ conv1d (\u001b[38;5;33mConv1D\u001b[0m)                 │ (\u001b[38;5;45mNone\u001b[0m, \u001b[38;5;34m58\u001b[0m, \u001b[38;5;34m64\u001b[0m)         │           \u001b[38;5;34m256\u001b[0m │\n",
       "├─────────────────────────────────┼────────────────────────┼───────────────┤\n",
       "│ batch_normalization             │ (\u001b[38;5;45mNone\u001b[0m, \u001b[38;5;34m58\u001b[0m, \u001b[38;5;34m64\u001b[0m)         │           \u001b[38;5;34m256\u001b[0m │\n",
       "│ (\u001b[38;5;33mBatchNormalization\u001b[0m)            │                        │               │\n",
       "├─────────────────────────────────┼────────────────────────┼───────────────┤\n",
       "│ max_pooling1d (\u001b[38;5;33mMaxPooling1D\u001b[0m)    │ (\u001b[38;5;45mNone\u001b[0m, \u001b[38;5;34m29\u001b[0m, \u001b[38;5;34m64\u001b[0m)         │             \u001b[38;5;34m0\u001b[0m │\n",
       "├─────────────────────────────────┼────────────────────────┼───────────────┤\n",
       "│ lstm (\u001b[38;5;33mLSTM\u001b[0m)                     │ (\u001b[38;5;45mNone\u001b[0m, \u001b[38;5;34m29\u001b[0m, \u001b[38;5;34m64\u001b[0m)         │        \u001b[38;5;34m33,024\u001b[0m │\n",
       "├─────────────────────────────────┼────────────────────────┼───────────────┤\n",
       "│ conv1d_1 (\u001b[38;5;33mConv1D\u001b[0m)               │ (\u001b[38;5;45mNone\u001b[0m, \u001b[38;5;34m27\u001b[0m, \u001b[38;5;34m128\u001b[0m)        │        \u001b[38;5;34m24,704\u001b[0m │\n",
       "├─────────────────────────────────┼────────────────────────┼───────────────┤\n",
       "│ batch_normalization_1           │ (\u001b[38;5;45mNone\u001b[0m, \u001b[38;5;34m27\u001b[0m, \u001b[38;5;34m128\u001b[0m)        │           \u001b[38;5;34m512\u001b[0m │\n",
       "│ (\u001b[38;5;33mBatchNormalization\u001b[0m)            │                        │               │\n",
       "├─────────────────────────────────┼────────────────────────┼───────────────┤\n",
       "│ max_pooling1d_1 (\u001b[38;5;33mMaxPooling1D\u001b[0m)  │ (\u001b[38;5;45mNone\u001b[0m, \u001b[38;5;34m13\u001b[0m, \u001b[38;5;34m128\u001b[0m)        │             \u001b[38;5;34m0\u001b[0m │\n",
       "├─────────────────────────────────┼────────────────────────┼───────────────┤\n",
       "│ lstm_1 (\u001b[38;5;33mLSTM\u001b[0m)                   │ (\u001b[38;5;45mNone\u001b[0m, \u001b[38;5;34m13\u001b[0m, \u001b[38;5;34m64\u001b[0m)         │        \u001b[38;5;34m49,408\u001b[0m │\n",
       "├─────────────────────────────────┼────────────────────────┼───────────────┤\n",
       "│ conv1d_2 (\u001b[38;5;33mConv1D\u001b[0m)               │ (\u001b[38;5;45mNone\u001b[0m, \u001b[38;5;34m11\u001b[0m, \u001b[38;5;34m256\u001b[0m)        │        \u001b[38;5;34m49,408\u001b[0m │\n",
       "├─────────────────────────────────┼────────────────────────┼───────────────┤\n",
       "│ batch_normalization_2           │ (\u001b[38;5;45mNone\u001b[0m, \u001b[38;5;34m11\u001b[0m, \u001b[38;5;34m256\u001b[0m)        │         \u001b[38;5;34m1,024\u001b[0m │\n",
       "│ (\u001b[38;5;33mBatchNormalization\u001b[0m)            │                        │               │\n",
       "├─────────────────────────────────┼────────────────────────┼───────────────┤\n",
       "│ max_pooling1d_2 (\u001b[38;5;33mMaxPooling1D\u001b[0m)  │ (\u001b[38;5;45mNone\u001b[0m, \u001b[38;5;34m5\u001b[0m, \u001b[38;5;34m256\u001b[0m)         │             \u001b[38;5;34m0\u001b[0m │\n",
       "├─────────────────────────────────┼────────────────────────┼───────────────┤\n",
       "│ lstm_2 (\u001b[38;5;33mLSTM\u001b[0m)                   │ (\u001b[38;5;45mNone\u001b[0m, \u001b[38;5;34m128\u001b[0m)            │       \u001b[38;5;34m197,120\u001b[0m │\n",
       "├─────────────────────────────────┼────────────────────────┼───────────────┤\n",
       "│ dense (\u001b[38;5;33mDense\u001b[0m)                   │ (\u001b[38;5;45mNone\u001b[0m, \u001b[38;5;34m128\u001b[0m)            │        \u001b[38;5;34m16,512\u001b[0m │\n",
       "├─────────────────────────────────┼────────────────────────┼───────────────┤\n",
       "│ dropout (\u001b[38;5;33mDropout\u001b[0m)               │ (\u001b[38;5;45mNone\u001b[0m, \u001b[38;5;34m128\u001b[0m)            │             \u001b[38;5;34m0\u001b[0m │\n",
       "├─────────────────────────────────┼────────────────────────┼───────────────┤\n",
       "│ dense_1 (\u001b[38;5;33mDense\u001b[0m)                 │ (\u001b[38;5;45mNone\u001b[0m, \u001b[38;5;34m10\u001b[0m)             │         \u001b[38;5;34m1,290\u001b[0m │\n",
       "└─────────────────────────────────┴────────────────────────┴───────────────┘\n"
      ]
     },
     "metadata": {},
     "output_type": "display_data"
    },
    {
     "data": {
      "text/html": [
       "<pre style=\"white-space:pre;overflow-x:auto;line-height:normal;font-family:Menlo,'DejaVu Sans Mono',consolas,'Courier New',monospace\"><span style=\"font-weight: bold\"> Total params: </span><span style=\"color: #00af00; text-decoration-color: #00af00\">373,514</span> (1.42 MB)\n",
       "</pre>\n"
      ],
      "text/plain": [
       "\u001b[1m Total params: \u001b[0m\u001b[38;5;34m373,514\u001b[0m (1.42 MB)\n"
      ]
     },
     "metadata": {},
     "output_type": "display_data"
    },
    {
     "data": {
      "text/html": [
       "<pre style=\"white-space:pre;overflow-x:auto;line-height:normal;font-family:Menlo,'DejaVu Sans Mono',consolas,'Courier New',monospace\"><span style=\"font-weight: bold\"> Trainable params: </span><span style=\"color: #00af00; text-decoration-color: #00af00\">372,618</span> (1.42 MB)\n",
       "</pre>\n"
      ],
      "text/plain": [
       "\u001b[1m Trainable params: \u001b[0m\u001b[38;5;34m372,618\u001b[0m (1.42 MB)\n"
      ]
     },
     "metadata": {},
     "output_type": "display_data"
    },
    {
     "data": {
      "text/html": [
       "<pre style=\"white-space:pre;overflow-x:auto;line-height:normal;font-family:Menlo,'DejaVu Sans Mono',consolas,'Courier New',monospace\"><span style=\"font-weight: bold\"> Non-trainable params: </span><span style=\"color: #00af00; text-decoration-color: #00af00\">896</span> (3.50 KB)\n",
       "</pre>\n"
      ],
      "text/plain": [
       "\u001b[1m Non-trainable params: \u001b[0m\u001b[38;5;34m896\u001b[0m (3.50 KB)\n"
      ]
     },
     "metadata": {},
     "output_type": "display_data"
    }
   ],
   "source": [
    "n_features = x_train_resampled.shape[1]  \n",
    "\n",
    "model = Sequential()\n",
    "\n",
    "model.add(Conv1D(filters=64, kernel_size=3, activation='relu', input_shape=(n_features,1)))\n",
    "model.add(BatchNormalization())\n",
    "model.add(MaxPooling1D(pool_size=2))\n",
    "\n",
    "model.add(LSTM(units=64, return_sequences=True))\n",
    "\n",
    "model.add(Conv1D(filters=128, kernel_size=3, activation='relu'))\n",
    "model.add(BatchNormalization())  \n",
    "model.add(MaxPooling1D(pool_size=2))\n",
    "\n",
    "model.add(LSTM(units=64, return_sequences=True))\n",
    "\n",
    "model.add(Conv1D(filters=256, kernel_size=3, activation='relu'))\n",
    "model.add(BatchNormalization())\n",
    "model.add(MaxPooling1D(pool_size=2))\n",
    "\n",
    "model.add(LSTM(units=128))\n",
    "\n",
    "model.add(Dense(128, activation='relu', kernel_regularizer=tf.keras.regularizers.l2(1e-3)))\n",
    "model.add(Dropout(0.4))\n",
    "model.add(Dense(10, activation='softmax'))\n",
    "\n",
    "optimizer = tf.keras.optimizers.AdamW(learning_rate=0.0005, weight_decay=1e-4)\n",
    "model.compile(optimizer=optimizer, loss='categorical_crossentropy', metrics=['accuracy', tf.keras.metrics.Precision(), tf.keras.metrics.Recall()])\n",
    "\n",
    "model.summary()"
   ]
  },
  {
   "cell_type": "code",
   "execution_count": 51,
   "id": "4c771547-8470-457f-8833-7426305cbbf2",
   "metadata": {},
   "outputs": [],
   "source": [
    "def create_model():\n",
    "    n_features = x_train_resampled.shape[1]  \n",
    "\n",
    "    model = Sequential()\n",
    "\n",
    "    model.add(Conv1D(filters=64, kernel_size=3, activation='relu', input_shape=(n_features,1)))\n",
    "    model.add(BatchNormalization())\n",
    "    model.add(MaxPooling1D(pool_size=2))\n",
    "\n",
    "    model.add(LSTM(units=64, return_sequences=True))\n",
    "\n",
    "    model.add(Conv1D(filters=128, kernel_size=3, activation='relu'))\n",
    "    model.add(BatchNormalization())  \n",
    "    model.add(MaxPooling1D(pool_size=2))\n",
    "\n",
    "    model.add(LSTM(units=64, return_sequences=True))\n",
    "\n",
    "    model.add(Conv1D(filters=256, kernel_size=3, activation='relu'))\n",
    "    model.add(BatchNormalization())\n",
    "    model.add(MaxPooling1D(pool_size=2))\n",
    "\n",
    "    model.add(LSTM(units=128))\n",
    "\n",
    "    model.add(Dense(128, activation='relu', kernel_regularizer=tf.keras.regularizers.l2(1e-3)))\n",
    "    model.add(Dropout(0.4))\n",
    "    model.add(Dense(10, activation='softmax'))\n",
    "\n",
    "    optimizer = tf.keras.optimizers.AdamW(learning_rate=0.0005, weight_decay=1e-4)\n",
    "    model.compile(optimizer=optimizer, loss='categorical_crossentropy', metrics=['accuracy', tf.keras.metrics.Precision(), tf.keras.metrics.Recall()])\n",
    "    \n",
    "    return model"
   ]
  },
  {
   "cell_type": "code",
   "execution_count": 52,
   "id": "78a1a09e-b1f7-474a-88e1-71622d25f808",
   "metadata": {},
   "outputs": [
    {
     "name": "stdout",
     "output_type": "stream",
     "text": [
      "Epoch 1/5\n",
      "\u001b[1m527/527\u001b[0m \u001b[32m━━━━━━━━━━━━━━━━━━━━\u001b[0m\u001b[37m\u001b[0m \u001b[1m106s\u001b[0m 159ms/step - accuracy: 0.7847 - loss: 0.7778 - precision_1: 0.8950 - recall_1: 0.6778 - val_accuracy: 0.7451 - val_loss: 0.8147 - val_precision_1: 0.9177 - val_recall_1: 0.6488\n",
      "Epoch 2/5\n",
      "\u001b[1m527/527\u001b[0m \u001b[32m━━━━━━━━━━━━━━━━━━━━\u001b[0m\u001b[37m\u001b[0m \u001b[1m82s\u001b[0m 156ms/step - accuracy: 0.8573 - loss: 0.4418 - precision_1: 0.9028 - recall_1: 0.8134 - val_accuracy: 0.8472 - val_loss: 0.4220 - val_precision_1: 0.8891 - val_recall_1: 0.8041\n",
      "Epoch 3/5\n",
      "\u001b[1m527/527\u001b[0m \u001b[32m━━━━━━━━━━━━━━━━━━━━\u001b[0m\u001b[37m\u001b[0m \u001b[1m82s\u001b[0m 156ms/step - accuracy: 0.8691 - loss: 0.3796 - precision_1: 0.9069 - recall_1: 0.8319 - val_accuracy: 0.8441 - val_loss: 0.4065 - val_precision_1: 0.8853 - val_recall_1: 0.8084\n",
      "Epoch 4/5\n",
      "\u001b[1m527/527\u001b[0m \u001b[32m━━━━━━━━━━━━━━━━━━━━\u001b[0m\u001b[37m\u001b[0m \u001b[1m85s\u001b[0m 162ms/step - accuracy: 0.8743 - loss: 0.3458 - precision_1: 0.9063 - recall_1: 0.8417 - val_accuracy: 0.8514 - val_loss: 0.3936 - val_precision_1: 0.8858 - val_recall_1: 0.8142\n",
      "Epoch 5/5\n",
      "\u001b[1m527/527\u001b[0m \u001b[32m━━━━━━━━━━━━━━━━━━━━\u001b[0m\u001b[37m\u001b[0m \u001b[1m81s\u001b[0m 153ms/step - accuracy: 0.8776 - loss: 0.3260 - precision_1: 0.9093 - recall_1: 0.8474 - val_accuracy: 0.8614 - val_loss: 0.3609 - val_precision_1: 0.8915 - val_recall_1: 0.8328\n",
      "\u001b[1m1365/1365\u001b[0m \u001b[32m━━━━━━━━━━━━━━━━━━━━\u001b[0m\u001b[37m\u001b[0m \u001b[1m19s\u001b[0m 14ms/step - accuracy: 0.8625 - loss: 0.3615 - precision_1: 0.8938 - recall_1: 0.8329\n",
      "Test Loss: 0.3630012273788452\n",
      "Test Accuracy: 0.8612160682678223\n",
      "Test Precision: 0.892714262008667\n",
      "Test Recall: 0.833138644695282\n"
     ]
    }
   ],
   "source": [
    "model = create_model()\n",
    "\n",
    "history = model.fit(x_train_resampled, y_train_resampled, epochs=5, batch_size=256, validation_data=(x_val, y_val))\n",
    "\n",
    "test_loss, test_accuracy, test_precision, test_recall = model.evaluate(x_test, y_test)\n",
    "print(\"Test Loss:\", test_loss)\n",
    "print(\"Test Accuracy:\", test_accuracy)\n",
    "print(\"Test Precision:\", test_precision)\n",
    "print(\"Test Recall:\", test_recall)"
   ]
  },
  {
   "cell_type": "code",
   "execution_count": 144,
   "id": "8155b69d-902b-4cb8-b8e7-5f73089b5a08",
   "metadata": {},
   "outputs": [
    {
     "name": "stdout",
     "output_type": "stream",
     "text": [
      "\u001b[1m1365/1365\u001b[0m \u001b[32m━━━━━━━━━━━━━━━━━━━━\u001b[0m\u001b[37m\u001b[0m \u001b[1m11s\u001b[0m 8ms/step\n"
     ]
    }
   ],
   "source": [
    "y_pred = model.predict(x_test)"
   ]
  },
  {
   "cell_type": "code",
   "execution_count": 146,
   "id": "ee518f5d-c1d1-4145-b294-2478acbc24d1",
   "metadata": {},
   "outputs": [],
   "source": [
    "from sklearn.metrics import confusion_matrix\n",
    "\n",
    "y_pred_labels = np.argmax(y_pred, axis=1)\n",
    "cm = confusion_matrix(y_test.argmax(axis=1), y_pred_labels) "
   ]
  },
  {
   "cell_type": "code",
   "execution_count": 148,
   "id": "9640365e-fa99-4756-98cf-2e6c26d9ef1a",
   "metadata": {},
   "outputs": [
    {
     "data": {
      "image/png": "[encoded data removed]",
      "text/plain": [
       "<Figure size 900x900 with 2 Axes>"
      ]
     },
     "metadata": {},
     "output_type": "display_data"
    }
   ],
   "source": [
    "class_names = attacks\n",
    "\n",
    "plt.figure(figsize=(9, 9))\n",
    "plt.imshow(cm, interpolation='nearest', cmap='Blues')\n",
    "plt.colorbar(label='Count')\n",
    "for i in range(len(class_names)):\n",
    "    for j in range(len(class_names)):\n",
    "        plt.text(j, i, cm[i, j], ha='center', va='center', fontsize=10)\n",
    "plt.xticks(range(len(class_names)), class_names, rotation=90, ha='right')\n",
    "plt.yticks(range(len(class_names)), class_names)\n",
    "plt.xlabel('Predicted Labels')\n",
    "plt.ylabel('True Labels')\n",
    "plt.title('Confusion Matrix')\n",
    "plt.grid(False)\n",
    "plt.show()"
   ]
  },
  {
   "cell_type": "code",
   "execution_count": 56,
   "id": "53c7c25e-047b-4f05-b8ab-713ca58ddf9c",
   "metadata": {},
   "outputs": [],
   "source": [
    "model.save('687584.keras')"
   ]
  },
  {
   "cell_type": "code",
   "execution_count": 134,
   "id": "a62d93e2-9f39-4a91-8eb3-8fa2bca76863",
   "metadata": {},
   "outputs": [
    {
     "data": {
      "text/html": [
       "<pre style=\"white-space:pre;overflow-x:auto;line-height:normal;font-family:Menlo,'DejaVu Sans Mono',consolas,'Courier New',monospace\"><span style=\"font-weight: bold\">Model: \"sequential_1\"</span>\n",
       "</pre>\n"
      ],
      "text/plain": [
       "\u001b[1mModel: \"sequential_1\"\u001b[0m\n"
      ]
     },
     "metadata": {},
     "output_type": "display_data"
    },
    {
     "data": {
      "text/html": [
       "<pre style=\"white-space:pre;overflow-x:auto;line-height:normal;font-family:Menlo,'DejaVu Sans Mono',consolas,'Courier New',monospace\">┏━━━━━━━━━━━━━━━━━━━━━━━━━━━━━━━━━┳━━━━━━━━━━━━━━━━━━━━━━━━┳━━━━━━━━━━━━━━━┓\n",
       "┃<span style=\"font-weight: bold\"> Layer (type)                    </span>┃<span style=\"font-weight: bold\"> Output Shape           </span>┃<span style=\"font-weight: bold\">       Param # </span>┃\n",
       "┡━━━━━━━━━━━━━━━━━━━━━━━━━━━━━━━━━╇━━━━━━━━━━━━━━━━━━━━━━━━╇━━━━━━━━━━━━━━━┩\n",
       "│ conv1d_3 (<span style=\"color: #0087ff; text-decoration-color: #0087ff\">Conv1D</span>)               │ (<span style=\"color: #00d7ff; text-decoration-color: #00d7ff\">None</span>, <span style=\"color: #00af00; text-decoration-color: #00af00\">58</span>, <span style=\"color: #00af00; text-decoration-color: #00af00\">64</span>)         │           <span style=\"color: #00af00; text-decoration-color: #00af00\">256</span> │\n",
       "├─────────────────────────────────┼────────────────────────┼───────────────┤\n",
       "│ batch_normalization_3           │ (<span style=\"color: #00d7ff; text-decoration-color: #00d7ff\">None</span>, <span style=\"color: #00af00; text-decoration-color: #00af00\">58</span>, <span style=\"color: #00af00; text-decoration-color: #00af00\">64</span>)         │           <span style=\"color: #00af00; text-decoration-color: #00af00\">256</span> │\n",
       "│ (<span style=\"color: #0087ff; text-decoration-color: #0087ff\">BatchNormalization</span>)            │                        │               │\n",
       "├─────────────────────────────────┼────────────────────────┼───────────────┤\n",
       "│ max_pooling1d_3 (<span style=\"color: #0087ff; text-decoration-color: #0087ff\">MaxPooling1D</span>)  │ (<span style=\"color: #00d7ff; text-decoration-color: #00d7ff\">None</span>, <span style=\"color: #00af00; text-decoration-color: #00af00\">29</span>, <span style=\"color: #00af00; text-decoration-color: #00af00\">64</span>)         │             <span style=\"color: #00af00; text-decoration-color: #00af00\">0</span> │\n",
       "├─────────────────────────────────┼────────────────────────┼───────────────┤\n",
       "│ lstm_3 (<span style=\"color: #0087ff; text-decoration-color: #0087ff\">LSTM</span>)                   │ (<span style=\"color: #00d7ff; text-decoration-color: #00d7ff\">None</span>, <span style=\"color: #00af00; text-decoration-color: #00af00\">29</span>, <span style=\"color: #00af00; text-decoration-color: #00af00\">64</span>)         │        <span style=\"color: #00af00; text-decoration-color: #00af00\">33,024</span> │\n",
       "├─────────────────────────────────┼────────────────────────┼───────────────┤\n",
       "│ conv1d_4 (<span style=\"color: #0087ff; text-decoration-color: #0087ff\">Conv1D</span>)               │ (<span style=\"color: #00d7ff; text-decoration-color: #00d7ff\">None</span>, <span style=\"color: #00af00; text-decoration-color: #00af00\">27</span>, <span style=\"color: #00af00; text-decoration-color: #00af00\">128</span>)        │        <span style=\"color: #00af00; text-decoration-color: #00af00\">24,704</span> │\n",
       "├─────────────────────────────────┼────────────────────────┼───────────────┤\n",
       "│ batch_normalization_4           │ (<span style=\"color: #00d7ff; text-decoration-color: #00d7ff\">None</span>, <span style=\"color: #00af00; text-decoration-color: #00af00\">27</span>, <span style=\"color: #00af00; text-decoration-color: #00af00\">128</span>)        │           <span style=\"color: #00af00; text-decoration-color: #00af00\">512</span> │\n",
       "│ (<span style=\"color: #0087ff; text-decoration-color: #0087ff\">BatchNormalization</span>)            │                        │               │\n",
       "├─────────────────────────────────┼────────────────────────┼───────────────┤\n",
       "│ max_pooling1d_4 (<span style=\"color: #0087ff; text-decoration-color: #0087ff\">MaxPooling1D</span>)  │ (<span style=\"color: #00d7ff; text-decoration-color: #00d7ff\">None</span>, <span style=\"color: #00af00; text-decoration-color: #00af00\">13</span>, <span style=\"color: #00af00; text-decoration-color: #00af00\">128</span>)        │             <span style=\"color: #00af00; text-decoration-color: #00af00\">0</span> │\n",
       "├─────────────────────────────────┼────────────────────────┼───────────────┤\n",
       "│ lstm_4 (<span style=\"color: #0087ff; text-decoration-color: #0087ff\">LSTM</span>)                   │ (<span style=\"color: #00d7ff; text-decoration-color: #00d7ff\">None</span>, <span style=\"color: #00af00; text-decoration-color: #00af00\">13</span>, <span style=\"color: #00af00; text-decoration-color: #00af00\">64</span>)         │        <span style=\"color: #00af00; text-decoration-color: #00af00\">49,408</span> │\n",
       "├─────────────────────────────────┼────────────────────────┼───────────────┤\n",
       "│ conv1d_5 (<span style=\"color: #0087ff; text-decoration-color: #0087ff\">Conv1D</span>)               │ (<span style=\"color: #00d7ff; text-decoration-color: #00d7ff\">None</span>, <span style=\"color: #00af00; text-decoration-color: #00af00\">11</span>, <span style=\"color: #00af00; text-decoration-color: #00af00\">256</span>)        │        <span style=\"color: #00af00; text-decoration-color: #00af00\">49,408</span> │\n",
       "├─────────────────────────────────┼────────────────────────┼───────────────┤\n",
       "│ batch_normalization_5           │ (<span style=\"color: #00d7ff; text-decoration-color: #00d7ff\">None</span>, <span style=\"color: #00af00; text-decoration-color: #00af00\">11</span>, <span style=\"color: #00af00; text-decoration-color: #00af00\">256</span>)        │         <span style=\"color: #00af00; text-decoration-color: #00af00\">1,024</span> │\n",
       "│ (<span style=\"color: #0087ff; text-decoration-color: #0087ff\">BatchNormalization</span>)            │                        │               │\n",
       "├─────────────────────────────────┼────────────────────────┼───────────────┤\n",
       "│ max_pooling1d_5 (<span style=\"color: #0087ff; text-decoration-color: #0087ff\">MaxPooling1D</span>)  │ (<span style=\"color: #00d7ff; text-decoration-color: #00d7ff\">None</span>, <span style=\"color: #00af00; text-decoration-color: #00af00\">5</span>, <span style=\"color: #00af00; text-decoration-color: #00af00\">256</span>)         │             <span style=\"color: #00af00; text-decoration-color: #00af00\">0</span> │\n",
       "├─────────────────────────────────┼────────────────────────┼───────────────┤\n",
       "│ lstm_5 (<span style=\"color: #0087ff; text-decoration-color: #0087ff\">LSTM</span>)                   │ (<span style=\"color: #00d7ff; text-decoration-color: #00d7ff\">None</span>, <span style=\"color: #00af00; text-decoration-color: #00af00\">128</span>)            │       <span style=\"color: #00af00; text-decoration-color: #00af00\">197,120</span> │\n",
       "├─────────────────────────────────┼────────────────────────┼───────────────┤\n",
       "│ dense_2 (<span style=\"color: #0087ff; text-decoration-color: #0087ff\">Dense</span>)                 │ (<span style=\"color: #00d7ff; text-decoration-color: #00d7ff\">None</span>, <span style=\"color: #00af00; text-decoration-color: #00af00\">128</span>)            │        <span style=\"color: #00af00; text-decoration-color: #00af00\">16,512</span> │\n",
       "├─────────────────────────────────┼────────────────────────┼───────────────┤\n",
       "│ dropout_1 (<span style=\"color: #0087ff; text-decoration-color: #0087ff\">Dropout</span>)             │ (<span style=\"color: #00d7ff; text-decoration-color: #00d7ff\">None</span>, <span style=\"color: #00af00; text-decoration-color: #00af00\">128</span>)            │             <span style=\"color: #00af00; text-decoration-color: #00af00\">0</span> │\n",
       "├─────────────────────────────────┼────────────────────────┼───────────────┤\n",
       "│ dense_3 (<span style=\"color: #0087ff; text-decoration-color: #0087ff\">Dense</span>)                 │ (<span style=\"color: #00d7ff; text-decoration-color: #00d7ff\">None</span>, <span style=\"color: #00af00; text-decoration-color: #00af00\">10</span>)             │         <span style=\"color: #00af00; text-decoration-color: #00af00\">1,290</span> │\n",
       "└─────────────────────────────────┴────────────────────────┴───────────────┘\n",
       "</pre>\n"
      ],
      "text/plain": [
       "┏━━━━━━━━━━━━━━━━━━━━━━━━━━━━━━━━━┳━━━━━━━━━━━━━━━━━━━━━━━━┳━━━━━━━━━━━━━━━┓\n",
       "┃\u001b[1m \u001b[0m\u001b[1mLayer (type)                   \u001b[0m\u001b[1m \u001b[0m┃\u001b[1m \u001b[0m\u001b[1mOutput Shape          \u001b[0m\u001b[1m \u001b[0m┃\u001b[1m \u001b[0m\u001b[1m      Param #\u001b[0m\u001b[1m \u001b[0m┃\n",
       "┡━━━━━━━━━━━━━━━━━━━━━━━━━━━━━━━━━╇━━━━━━━━━━━━━━━━━━━━━━━━╇━━━━━━━━━━━━━━━┩\n",
       "│ conv1d_3 (\u001b[38;5;33mConv1D\u001b[0m)               │ (\u001b[38;5;45mNone\u001b[0m, \u001b[38;5;34m58\u001b[0m, \u001b[38;5;34m64\u001b[0m)         │           \u001b[38;5;34m256\u001b[0m │\n",
       "├─────────────────────────────────┼────────────────────────┼───────────────┤\n",
       "│ batch_normalization_3           │ (\u001b[38;5;45mNone\u001b[0m, \u001b[38;5;34m58\u001b[0m, \u001b[38;5;34m64\u001b[0m)         │           \u001b[38;5;34m256\u001b[0m │\n",
       "│ (\u001b[38;5;33mBatchNormalization\u001b[0m)            │                        │               │\n",
       "├─────────────────────────────────┼────────────────────────┼───────────────┤\n",
       "│ max_pooling1d_3 (\u001b[38;5;33mMaxPooling1D\u001b[0m)  │ (\u001b[38;5;45mNone\u001b[0m, \u001b[38;5;34m29\u001b[0m, \u001b[38;5;34m64\u001b[0m)         │             \u001b[38;5;34m0\u001b[0m │\n",
       "├─────────────────────────────────┼────────────────────────┼───────────────┤\n",
       "│ lstm_3 (\u001b[38;5;33mLSTM\u001b[0m)                   │ (\u001b[38;5;45mNone\u001b[0m, \u001b[38;5;34m29\u001b[0m, \u001b[38;5;34m64\u001b[0m)         │        \u001b[38;5;34m33,024\u001b[0m │\n",
       "├─────────────────────────────────┼────────────────────────┼───────────────┤\n",
       "│ conv1d_4 (\u001b[38;5;33mConv1D\u001b[0m)               │ (\u001b[38;5;45mNone\u001b[0m, \u001b[38;5;34m27\u001b[0m, \u001b[38;5;34m128\u001b[0m)        │        \u001b[38;5;34m24,704\u001b[0m │\n",
       "├─────────────────────────────────┼────────────────────────┼───────────────┤\n",
       "│ batch_normalization_4           │ (\u001b[38;5;45mNone\u001b[0m, \u001b[38;5;34m27\u001b[0m, \u001b[38;5;34m128\u001b[0m)        │           \u001b[38;5;34m512\u001b[0m │\n",
       "│ (\u001b[38;5;33mBatchNormalization\u001b[0m)            │                        │               │\n",
       "├─────────────────────────────────┼────────────────────────┼───────────────┤\n",
       "│ max_pooling1d_4 (\u001b[38;5;33mMaxPooling1D\u001b[0m)  │ (\u001b[38;5;45mNone\u001b[0m, \u001b[38;5;34m13\u001b[0m, \u001b[38;5;34m128\u001b[0m)        │             \u001b[38;5;34m0\u001b[0m │\n",
       "├─────────────────────────────────┼────────────────────────┼───────────────┤\n",
       "│ lstm_4 (\u001b[38;5;33mLSTM\u001b[0m)                   │ (\u001b[38;5;45mNone\u001b[0m, \u001b[38;5;34m13\u001b[0m, \u001b[38;5;34m64\u001b[0m)         │        \u001b[38;5;34m49,408\u001b[0m │\n",
       "├─────────────────────────────────┼────────────────────────┼───────────────┤\n",
       "│ conv1d_5 (\u001b[38;5;33mConv1D\u001b[0m)               │ (\u001b[38;5;45mNone\u001b[0m, \u001b[38;5;34m11\u001b[0m, \u001b[38;5;34m256\u001b[0m)        │        \u001b[38;5;34m49,408\u001b[0m │\n",
       "├─────────────────────────────────┼────────────────────────┼───────────────┤\n",
       "│ batch_normalization_5           │ (\u001b[38;5;45mNone\u001b[0m, \u001b[38;5;34m11\u001b[0m, \u001b[38;5;34m256\u001b[0m)        │         \u001b[38;5;34m1,024\u001b[0m │\n",
       "│ (\u001b[38;5;33mBatchNormalization\u001b[0m)            │                        │               │\n",
       "├─────────────────────────────────┼────────────────────────┼───────────────┤\n",
       "│ max_pooling1d_5 (\u001b[38;5;33mMaxPooling1D\u001b[0m)  │ (\u001b[38;5;45mNone\u001b[0m, \u001b[38;5;34m5\u001b[0m, \u001b[38;5;34m256\u001b[0m)         │             \u001b[38;5;34m0\u001b[0m │\n",
       "├─────────────────────────────────┼────────────────────────┼───────────────┤\n",
       "│ lstm_5 (\u001b[38;5;33mLSTM\u001b[0m)                   │ (\u001b[38;5;45mNone\u001b[0m, \u001b[38;5;34m128\u001b[0m)            │       \u001b[38;5;34m197,120\u001b[0m │\n",
       "├─────────────────────────────────┼────────────────────────┼───────────────┤\n",
       "│ dense_2 (\u001b[38;5;33mDense\u001b[0m)                 │ (\u001b[38;5;45mNone\u001b[0m, \u001b[38;5;34m128\u001b[0m)            │        \u001b[38;5;34m16,512\u001b[0m │\n",
       "├─────────────────────────────────┼────────────────────────┼───────────────┤\n",
       "│ dropout_1 (\u001b[38;5;33mDropout\u001b[0m)             │ (\u001b[38;5;45mNone\u001b[0m, \u001b[38;5;34m128\u001b[0m)            │             \u001b[38;5;34m0\u001b[0m │\n",
       "├─────────────────────────────────┼────────────────────────┼───────────────┤\n",
       "│ dense_3 (\u001b[38;5;33mDense\u001b[0m)                 │ (\u001b[38;5;45mNone\u001b[0m, \u001b[38;5;34m10\u001b[0m)             │         \u001b[38;5;34m1,290\u001b[0m │\n",
       "└─────────────────────────────────┴────────────────────────┴───────────────┘\n"
      ]
     },
     "metadata": {},
     "output_type": "display_data"
    },
    {
     "data": {
      "text/html": [
       "<pre style=\"white-space:pre;overflow-x:auto;line-height:normal;font-family:Menlo,'DejaVu Sans Mono',consolas,'Courier New',monospace\"><span style=\"font-weight: bold\"> Total params: </span><span style=\"color: #00af00; text-decoration-color: #00af00\">1,118,752</span> (4.27 MB)\n",
       "</pre>\n"
      ],
      "text/plain": [
       "\u001b[1m Total params: \u001b[0m\u001b[38;5;34m1,118,752\u001b[0m (4.27 MB)\n"
      ]
     },
     "metadata": {},
     "output_type": "display_data"
    },
    {
     "data": {
      "text/html": [
       "<pre style=\"white-space:pre;overflow-x:auto;line-height:normal;font-family:Menlo,'DejaVu Sans Mono',consolas,'Courier New',monospace\"><span style=\"font-weight: bold\"> Trainable params: </span><span style=\"color: #00af00; text-decoration-color: #00af00\">372,618</span> (1.42 MB)\n",
       "</pre>\n"
      ],
      "text/plain": [
       "\u001b[1m Trainable params: \u001b[0m\u001b[38;5;34m372,618\u001b[0m (1.42 MB)\n"
      ]
     },
     "metadata": {},
     "output_type": "display_data"
    },
    {
     "data": {
      "text/html": [
       "<pre style=\"white-space:pre;overflow-x:auto;line-height:normal;font-family:Menlo,'DejaVu Sans Mono',consolas,'Courier New',monospace\"><span style=\"font-weight: bold\"> Non-trainable params: </span><span style=\"color: #00af00; text-decoration-color: #00af00\">896</span> (3.50 KB)\n",
       "</pre>\n"
      ],
      "text/plain": [
       "\u001b[1m Non-trainable params: \u001b[0m\u001b[38;5;34m896\u001b[0m (3.50 KB)\n"
      ]
     },
     "metadata": {},
     "output_type": "display_data"
    },
    {
     "data": {
      "text/html": [
       "<pre style=\"white-space:pre;overflow-x:auto;line-height:normal;font-family:Menlo,'DejaVu Sans Mono',consolas,'Courier New',monospace\"><span style=\"font-weight: bold\"> Optimizer params: </span><span style=\"color: #00af00; text-decoration-color: #00af00\">745,238</span> (2.84 MB)\n",
       "</pre>\n"
      ],
      "text/plain": [
       "\u001b[1m Optimizer params: \u001b[0m\u001b[38;5;34m745,238\u001b[0m (2.84 MB)\n"
      ]
     },
     "metadata": {},
     "output_type": "display_data"
    }
   ],
   "source": [
    "from tensorflow.keras.models import load_model\n",
    "\n",
    "model = load_model(\"687584.keras\")\n",
    "model.summary()"
   ]
  },
  {
   "cell_type": "code",
   "execution_count": 150,
   "id": "82686076-7406-4666-9818-19b996372ae0",
   "metadata": {},
   "outputs": [
    {
     "name": "stdout",
     "output_type": "stream",
     "text": [
      "Index to Label mapping:\n",
      "0 => Normal\n",
      "1 => Generic\n",
      "2 => Exploits\n",
      "3 => Fuzzers\n",
      "4 => DoS\n",
      "5 => Reconnaissance\n",
      "6 => Analysis\n",
      "7 => Backdoor\n",
      "8 => Shellcode\n",
      "9 => Worms\n"
     ]
    }
   ],
   "source": [
    "original_labels = ['Normal', 'Generic', 'Exploits', 'Fuzzers', 'DoS', 'Reconnaissance', 'Analysis', 'Backdoor', 'Shellcode', 'Worms']\n",
    "\n",
    "index_to_label = {i: label for i, label in enumerate(original_labels)}\n",
    "\n",
    "print(\"Index to Label mapping:\")\n",
    "for index, label in index_to_label.items():\n",
    "    print(f\"{index} => {label}\")\n",
    "import pickle\n",
    "with open('index_to_label_map.pkl', 'wb') as f:\n",
    "    pickle.dump(index_to_label, f)\n",
    "\n",
    "#will need this to decode model outputs in other program"
   ]
  },
  {
   "cell_type": "code",
   "execution_count": null,
   "id": "dd29f081-3edc-4f5c-9b16-fb2545d048f9",
   "metadata": {},
   "outputs": [],
   "source": []
  }
 ],
 "metadata": {
  "kernelspec": {
   "display_name": "Python 3 (ipykernel)",
   "language": "python",
   "name": "python3"
  },
  "language_info": {
   "codemirror_mode": {
    "name": "ipython",
    "version": 3
   },
   "file_extension": ".py",
   "mimetype": "text/x-python",
   "name": "python",
   "nbconvert_exporter": "python",
   "pygments_lexer": "ipython3",
   "version": "3.12.4"
  }
 },
 "nbformat": 4,
 "nbformat_minor": 5
}
